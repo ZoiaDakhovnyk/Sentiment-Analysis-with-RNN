{
 "cells": [
  {
   "cell_type": "code",
   "execution_count": 1,
   "id": "1d763723",
   "metadata": {
    "_cell_guid": "b1076dfc-b9ad-4769-8c92-a6c4dae69d19",
    "_uuid": "8f2839f25d086af736a60e9eeb907d3b93b6e0e5",
    "execution": {
     "iopub.execute_input": "2024-05-20T13:06:05.747600Z",
     "iopub.status.busy": "2024-05-20T13:06:05.746790Z",
     "iopub.status.idle": "2024-05-20T13:06:06.356911Z",
     "shell.execute_reply": "2024-05-20T13:06:06.356015Z"
    },
    "papermill": {
     "duration": 0.62629,
     "end_time": "2024-05-20T13:06:06.359072",
     "exception": false,
     "start_time": "2024-05-20T13:06:05.732782",
     "status": "completed"
    },
    "tags": []
   },
   "outputs": [
    {
     "name": "stdout",
     "output_type": "stream",
     "text": [
      "/kaggle/input/sentiment-analysis-on-movie-reviews/sampleSubmission.csv\n",
      "/kaggle/input/sentiment-analysis-on-movie-reviews/train.tsv.zip\n",
      "/kaggle/input/sentiment-analysis-on-movie-reviews/test.tsv.zip\n",
      "/kaggle/input/word2vec/GoogleNews-vectors-negative300.bin\n"
     ]
    }
   ],
   "source": [
    "# This Python 3 environment comes with many helpful analytics libraries installed\n",
    "# It is defined by the kaggle/python Docker image: https://github.com/kaggle/docker-python\n",
    "# For example, here's several helpful packages to load\n",
    "\n",
    "import numpy as np # linear algebra\n",
    "import pandas as pd # data processing, CSV file I/O (e.g. pd.read_csv)\n",
    "\n",
    "# Input data files are available in the read-only \"../input/\" directory\n",
    "# For example, running this (by clicking run or pressing Shift+Enter) will list all files under the input directory\n",
    "\n",
    "import os\n",
    "for dirname, _, filenames in os.walk('/kaggle/input'):\n",
    "    for filename in filenames:\n",
    "        print(os.path.join(dirname, filename))\n",
    "\n",
    "# You can write up to 20GB to the current directory (/kaggle/working/) that gets preserved as output when you create a version using \"Save & Run All\" \n",
    "# You can also write temporary files to /kaggle/temp/, but they won't be saved outside of the current session"
   ]
  },
  {
   "cell_type": "code",
   "execution_count": 2,
   "id": "4c59fa23",
   "metadata": {
    "execution": {
     "iopub.execute_input": "2024-05-20T13:06:06.385696Z",
     "iopub.status.busy": "2024-05-20T13:06:06.385358Z",
     "iopub.status.idle": "2024-05-20T13:06:10.426167Z",
     "shell.execute_reply": "2024-05-20T13:06:10.425390Z"
    },
    "papermill": {
     "duration": 4.056619,
     "end_time": "2024-05-20T13:06:10.428577",
     "exception": false,
     "start_time": "2024-05-20T13:06:06.371958",
     "status": "completed"
    },
    "tags": []
   },
   "outputs": [],
   "source": [
    "import matplotlib.pyplot as plt\n",
    "import torch\n",
    "from torch.utils.data import TensorDataset, DataLoader\n",
    "import torch.nn as nn\n",
    "import torch.nn.functional as F\n",
    "import numpy as np\n",
    "import pandas as pd\n",
    "import sklearn\n",
    "from sklearn.metrics import classification_report, accuracy_score"
   ]
  },
  {
   "cell_type": "code",
   "execution_count": 3,
   "id": "ebbc5157",
   "metadata": {
    "execution": {
     "iopub.execute_input": "2024-05-20T13:06:10.455080Z",
     "iopub.status.busy": "2024-05-20T13:06:10.454649Z",
     "iopub.status.idle": "2024-05-20T13:06:15.496365Z",
     "shell.execute_reply": "2024-05-20T13:06:15.495431Z"
    },
    "papermill": {
     "duration": 5.057262,
     "end_time": "2024-05-20T13:06:15.498580",
     "exception": false,
     "start_time": "2024-05-20T13:06:10.441318",
     "status": "completed"
    },
    "tags": []
   },
   "outputs": [
    {
     "name": "stdout",
     "output_type": "stream",
     "text": [
      "\r\n",
      "\r\n",
      "\r\n",
      "unzip is already the newest version (6.0-25ubuntu1.2).\r\n",
      "0 upgraded, 0 newly installed, 0 to remove and 65 not upgraded.\r\n",
      "Archive:  ../input/sentiment-analysis-on-movie-reviews/test.tsv.zip\r\n",
      "  inflating: test.tsv                \r\n",
      "Archive:  ../input/sentiment-analysis-on-movie-reviews/train.tsv.zip\r\n",
      "  inflating: train.tsv               \r\n"
     ]
    }
   ],
   "source": [
    "!apt-get install unzip\n",
    "!unzip ../input/sentiment-analysis-on-movie-reviews/test.tsv.zip test.tsv\n",
    "!unzip ../input/sentiment-analysis-on-movie-reviews/train.tsv.zip train.tsv"
   ]
  },
  {
   "cell_type": "code",
   "execution_count": 4,
   "id": "ab1e0f7f",
   "metadata": {
    "execution": {
     "iopub.execute_input": "2024-05-20T13:06:15.530622Z",
     "iopub.status.busy": "2024-05-20T13:06:15.530288Z",
     "iopub.status.idle": "2024-05-20T13:06:15.820986Z",
     "shell.execute_reply": "2024-05-20T13:06:15.819971Z"
    },
    "papermill": {
     "duration": 0.309241,
     "end_time": "2024-05-20T13:06:15.823336",
     "exception": false,
     "start_time": "2024-05-20T13:06:15.514095",
     "status": "completed"
    },
    "tags": []
   },
   "outputs": [],
   "source": [
    "df=pd.read_csv('train.tsv', sep='\\t')\n",
    "df_test=pd.read_csv('test.tsv', sep='\\t')\n",
    "sample_submission=pd.read_csv('../input/sentiment-analysis-on-movie-reviews/sampleSubmission.csv')"
   ]
  },
  {
   "cell_type": "code",
   "execution_count": 5,
   "id": "da48311f",
   "metadata": {
    "execution": {
     "iopub.execute_input": "2024-05-20T13:06:15.853547Z",
     "iopub.status.busy": "2024-05-20T13:06:15.852763Z",
     "iopub.status.idle": "2024-05-20T13:06:15.870490Z",
     "shell.execute_reply": "2024-05-20T13:06:15.869630Z"
    },
    "papermill": {
     "duration": 0.034635,
     "end_time": "2024-05-20T13:06:15.872221",
     "exception": false,
     "start_time": "2024-05-20T13:06:15.837586",
     "status": "completed"
    },
    "tags": []
   },
   "outputs": [
    {
     "data": {
      "text/html": [
       "<div>\n",
       "<style scoped>\n",
       "    .dataframe tbody tr th:only-of-type {\n",
       "        vertical-align: middle;\n",
       "    }\n",
       "\n",
       "    .dataframe tbody tr th {\n",
       "        vertical-align: top;\n",
       "    }\n",
       "\n",
       "    .dataframe thead th {\n",
       "        text-align: right;\n",
       "    }\n",
       "</style>\n",
       "<table border=\"1\" class=\"dataframe\">\n",
       "  <thead>\n",
       "    <tr style=\"text-align: right;\">\n",
       "      <th></th>\n",
       "      <th>PhraseId</th>\n",
       "      <th>SentenceId</th>\n",
       "      <th>Phrase</th>\n",
       "      <th>Sentiment</th>\n",
       "    </tr>\n",
       "  </thead>\n",
       "  <tbody>\n",
       "    <tr>\n",
       "      <th>0</th>\n",
       "      <td>1</td>\n",
       "      <td>1</td>\n",
       "      <td>A series of escapades demonstrating the adage ...</td>\n",
       "      <td>1</td>\n",
       "    </tr>\n",
       "    <tr>\n",
       "      <th>1</th>\n",
       "      <td>2</td>\n",
       "      <td>1</td>\n",
       "      <td>A series of escapades demonstrating the adage ...</td>\n",
       "      <td>2</td>\n",
       "    </tr>\n",
       "    <tr>\n",
       "      <th>2</th>\n",
       "      <td>3</td>\n",
       "      <td>1</td>\n",
       "      <td>A series</td>\n",
       "      <td>2</td>\n",
       "    </tr>\n",
       "    <tr>\n",
       "      <th>3</th>\n",
       "      <td>4</td>\n",
       "      <td>1</td>\n",
       "      <td>A</td>\n",
       "      <td>2</td>\n",
       "    </tr>\n",
       "    <tr>\n",
       "      <th>4</th>\n",
       "      <td>5</td>\n",
       "      <td>1</td>\n",
       "      <td>series</td>\n",
       "      <td>2</td>\n",
       "    </tr>\n",
       "  </tbody>\n",
       "</table>\n",
       "</div>"
      ],
      "text/plain": [
       "   PhraseId  SentenceId                                             Phrase  \\\n",
       "0         1           1  A series of escapades demonstrating the adage ...   \n",
       "1         2           1  A series of escapades demonstrating the adage ...   \n",
       "2         3           1                                           A series   \n",
       "3         4           1                                                  A   \n",
       "4         5           1                                             series   \n",
       "\n",
       "   Sentiment  \n",
       "0          1  \n",
       "1          2  \n",
       "2          2  \n",
       "3          2  \n",
       "4          2  "
      ]
     },
     "execution_count": 5,
     "metadata": {},
     "output_type": "execute_result"
    }
   ],
   "source": [
    "df.head()"
   ]
  },
  {
   "cell_type": "code",
   "execution_count": 6,
   "id": "1053cb8e",
   "metadata": {
    "execution": {
     "iopub.execute_input": "2024-05-20T13:06:15.901300Z",
     "iopub.status.busy": "2024-05-20T13:06:15.901020Z",
     "iopub.status.idle": "2024-05-20T13:06:15.906382Z",
     "shell.execute_reply": "2024-05-20T13:06:15.905586Z"
    },
    "papermill": {
     "duration": 0.022008,
     "end_time": "2024-05-20T13:06:15.908238",
     "exception": false,
     "start_time": "2024-05-20T13:06:15.886230",
     "status": "completed"
    },
    "tags": []
   },
   "outputs": [
    {
     "data": {
      "text/plain": [
       "((156060, 4), (66292, 3))"
      ]
     },
     "execution_count": 6,
     "metadata": {},
     "output_type": "execute_result"
    }
   ],
   "source": [
    "df.shape, df_test.shape"
   ]
  },
  {
   "cell_type": "code",
   "execution_count": 7,
   "id": "7b163bbe",
   "metadata": {
    "execution": {
     "iopub.execute_input": "2024-05-20T13:06:15.937665Z",
     "iopub.status.busy": "2024-05-20T13:06:15.937413Z",
     "iopub.status.idle": "2024-05-20T13:06:15.942641Z",
     "shell.execute_reply": "2024-05-20T13:06:15.941863Z"
    },
    "papermill": {
     "duration": 0.022122,
     "end_time": "2024-05-20T13:06:15.944534",
     "exception": false,
     "start_time": "2024-05-20T13:06:15.922412",
     "status": "completed"
    },
    "tags": []
   },
   "outputs": [
    {
     "data": {
      "text/plain": [
       "'mostly'"
      ]
     },
     "execution_count": 7,
     "metadata": {},
     "output_type": "execute_result"
    }
   ],
   "source": [
    "df_test['Phrase'][11]"
   ]
  },
  {
   "cell_type": "code",
   "execution_count": 8,
   "id": "cfd4ea71",
   "metadata": {
    "execution": {
     "iopub.execute_input": "2024-05-20T13:06:15.974330Z",
     "iopub.status.busy": "2024-05-20T13:06:15.974062Z",
     "iopub.status.idle": "2024-05-20T13:06:31.810731Z",
     "shell.execute_reply": "2024-05-20T13:06:31.809951Z"
    },
    "papermill": {
     "duration": 15.854117,
     "end_time": "2024-05-20T13:06:31.812942",
     "exception": false,
     "start_time": "2024-05-20T13:06:15.958825",
     "status": "completed"
    },
    "tags": []
   },
   "outputs": [],
   "source": [
    "from string import punctuation\n",
    "\n",
    "\n",
    "def tokenize_phrase(phrase):\n",
    "    #Convert to lowercase and remove punctuation\n",
    "    phrase = phrase.lower()\n",
    "    phrase = ''.join([c for c in phrase if c not in set(punctuation)])\n",
    "    words = phrase.split()\n",
    "    return words\n",
    "tokenized_phrases = []\n",
    "for index, row in df.iterrows():\n",
    "    phrase = row['Phrase']\n",
    "    tokenized_phrase = tokenize_phrase(phrase)\n",
    "    tokenized_phrases.append(tokenized_phrase)\n",
    "\n"
   ]
  },
  {
   "cell_type": "code",
   "execution_count": 9,
   "id": "e901de7f",
   "metadata": {
    "execution": {
     "iopub.execute_input": "2024-05-20T13:06:31.843478Z",
     "iopub.status.busy": "2024-05-20T13:06:31.843171Z",
     "iopub.status.idle": "2024-05-20T13:06:38.295542Z",
     "shell.execute_reply": "2024-05-20T13:06:38.294556Z"
    },
    "papermill": {
     "duration": 6.469867,
     "end_time": "2024-05-20T13:06:38.297739",
     "exception": false,
     "start_time": "2024-05-20T13:06:31.827872",
     "status": "completed"
    },
    "tags": []
   },
   "outputs": [],
   "source": [
    "tokenized_phrases_test = []\n",
    "for index, row in df_test.iterrows():\n",
    "    phrase = row['Phrase'] \n",
    "    if isinstance(phrase, str):\n",
    "        tokenized_phrase_test = tokenize_phrase(phrase)\n",
    "    else:\n",
    "        tokenized_phrase_test = []\n",
    "    tokenized_phrases_test.append(tokenized_phrase_test)"
   ]
  },
  {
   "cell_type": "code",
   "execution_count": 10,
   "id": "51677e50",
   "metadata": {
    "execution": {
     "iopub.execute_input": "2024-05-20T13:06:38.328620Z",
     "iopub.status.busy": "2024-05-20T13:06:38.328315Z",
     "iopub.status.idle": "2024-05-20T13:06:39.164839Z",
     "shell.execute_reply": "2024-05-20T13:06:39.164103Z"
    },
    "papermill": {
     "duration": 0.854454,
     "end_time": "2024-05-20T13:06:39.167249",
     "exception": false,
     "start_time": "2024-05-20T13:06:38.312795",
     "status": "completed"
    },
    "tags": []
   },
   "outputs": [],
   "source": [
    "#Encoding the words with integers. Later we are going to pad our input with zeros, so make sure the integers start at 1, not 0.\n",
    "from collections import Counter\n",
    "## Build a dictionary that maps words to integers\n",
    "counts = Counter([word for phrase in tokenized_phrases for word in phrase])\n",
    "vocab = sorted(counts, key = counts.get, reverse = True)\n",
    "vocab_to_int = {word:ii for ii, word in enumerate(vocab,1)}\n",
    "\n",
    "##use the dict to tokenize each phrase\n",
    "phrase_int = []\n",
    "for phrase in tokenized_phrases:\n",
    "    phrase_int.append([vocab_to_int[word] for word in phrase])\n",
    "\n"
   ]
  },
  {
   "cell_type": "code",
   "execution_count": 11,
   "id": "b65f4e15",
   "metadata": {
    "execution": {
     "iopub.execute_input": "2024-05-20T13:06:39.197862Z",
     "iopub.status.busy": "2024-05-20T13:06:39.197540Z",
     "iopub.status.idle": "2024-05-20T13:06:39.204034Z",
     "shell.execute_reply": "2024-05-20T13:06:39.203212Z"
    },
    "papermill": {
     "duration": 0.023611,
     "end_time": "2024-05-20T13:06:39.205792",
     "exception": false,
     "start_time": "2024-05-20T13:06:39.182181",
     "status": "completed"
    },
    "tags": []
   },
   "outputs": [
    {
     "data": {
      "text/plain": [
       "16403"
      ]
     },
     "execution_count": 11,
     "metadata": {},
     "output_type": "execute_result"
    }
   ],
   "source": [
    "len(vocab_to_int)"
   ]
  },
  {
   "cell_type": "code",
   "execution_count": 12,
   "id": "e688d3ad",
   "metadata": {
    "execution": {
     "iopub.execute_input": "2024-05-20T13:06:39.235724Z",
     "iopub.status.busy": "2024-05-20T13:06:39.235485Z",
     "iopub.status.idle": "2024-05-20T13:06:39.400342Z",
     "shell.execute_reply": "2024-05-20T13:06:39.399560Z"
    },
    "papermill": {
     "duration": 0.182195,
     "end_time": "2024-05-20T13:06:39.402424",
     "exception": false,
     "start_time": "2024-05-20T13:06:39.220229",
     "status": "completed"
    },
    "tags": []
   },
   "outputs": [],
   "source": [
    "#Encoding the words with integers. Later we are going to pad our input with zeros, so make sure the integers start at 1, not 0.\n",
    "\n",
    "## Build a dictionary that maps words to integers\n",
    "counts_test = Counter([word for phrase in tokenized_phrases_test for word in phrase])\n",
    "vocab_test = sorted(counts_test, key = counts_test.get, reverse = True)\n",
    "vocab_to_int_test = {word:ii for ii, word in enumerate(vocab_test,1)}\n",
    "\n",
    "##use the dict to tokenize each phrase\n",
    "phrase_int_test = []\n",
    "for phrase in tokenized_phrases_test:\n",
    "    phrase_int_test.append([vocab_to_int_test[word] for word in phrase])"
   ]
  },
  {
   "cell_type": "code",
   "execution_count": 13,
   "id": "af308e93",
   "metadata": {
    "execution": {
     "iopub.execute_input": "2024-05-20T13:06:39.433296Z",
     "iopub.status.busy": "2024-05-20T13:06:39.433009Z",
     "iopub.status.idle": "2024-05-20T13:06:39.437992Z",
     "shell.execute_reply": "2024-05-20T13:06:39.437078Z"
    },
    "papermill": {
     "duration": 0.022601,
     "end_time": "2024-05-20T13:06:39.439989",
     "exception": false,
     "start_time": "2024-05-20T13:06:39.417388",
     "status": "completed"
    },
    "tags": []
   },
   "outputs": [
    {
     "name": "stdout",
     "output_type": "stream",
     "text": [
      "<class 'list'>\n",
      "<class 'list'>\n"
     ]
    }
   ],
   "source": [
    "print(type(phrase_int_test))\n",
    "print(type(phrase_int))"
   ]
  },
  {
   "cell_type": "code",
   "execution_count": 14,
   "id": "782c16c0",
   "metadata": {
    "execution": {
     "iopub.execute_input": "2024-05-20T13:06:39.470243Z",
     "iopub.status.busy": "2024-05-20T13:06:39.469974Z",
     "iopub.status.idle": "2024-05-20T13:06:39.475892Z",
     "shell.execute_reply": "2024-05-20T13:06:39.475089Z"
    },
    "papermill": {
     "duration": 0.023321,
     "end_time": "2024-05-20T13:06:39.477833",
     "exception": false,
     "start_time": "2024-05-20T13:06:39.454512",
     "status": "completed"
    },
    "tags": []
   },
   "outputs": [
    {
     "data": {
      "text/plain": [
       "['a',\n",
       " 'series',\n",
       " 'of',\n",
       " 'escapades',\n",
       " 'demonstrating',\n",
       " 'the',\n",
       " 'adage',\n",
       " 'that',\n",
       " 'what',\n",
       " 'is',\n",
       " 'good',\n",
       " 'for',\n",
       " 'the',\n",
       " 'goose',\n",
       " 'is',\n",
       " 'also',\n",
       " 'good',\n",
       " 'for',\n",
       " 'the',\n",
       " 'gander',\n",
       " 'some',\n",
       " 'of',\n",
       " 'which',\n",
       " 'occasionally',\n",
       " 'amuses',\n",
       " 'but',\n",
       " 'none',\n",
       " 'of',\n",
       " 'which',\n",
       " 'amounts',\n",
       " 'to',\n",
       " 'much',\n",
       " 'of',\n",
       " 'a',\n",
       " 'story']"
      ]
     },
     "execution_count": 14,
     "metadata": {},
     "output_type": "execute_result"
    }
   ],
   "source": [
    "tokenized_phrases[0]"
   ]
  },
  {
   "cell_type": "code",
   "execution_count": 15,
   "id": "a68e3445",
   "metadata": {
    "execution": {
     "iopub.execute_input": "2024-05-20T13:06:39.509066Z",
     "iopub.status.busy": "2024-05-20T13:06:39.508770Z",
     "iopub.status.idle": "2024-05-20T13:06:39.512733Z",
     "shell.execute_reply": "2024-05-20T13:06:39.511911Z"
    },
    "papermill": {
     "duration": 0.021333,
     "end_time": "2024-05-20T13:06:39.514602",
     "exception": false,
     "start_time": "2024-05-20T13:06:39.493269",
     "status": "completed"
    },
    "tags": []
   },
   "outputs": [],
   "source": [
    "# Convert sentiments to numpy array\n",
    "sentiments = df['Sentiment'].values"
   ]
  },
  {
   "cell_type": "code",
   "execution_count": 16,
   "id": "4fb2fdac",
   "metadata": {
    "execution": {
     "iopub.execute_input": "2024-05-20T13:06:39.544997Z",
     "iopub.status.busy": "2024-05-20T13:06:39.544720Z",
     "iopub.status.idle": "2024-05-20T13:06:39.568361Z",
     "shell.execute_reply": "2024-05-20T13:06:39.567501Z"
    },
    "papermill": {
     "duration": 0.040899,
     "end_time": "2024-05-20T13:06:39.570155",
     "exception": false,
     "start_time": "2024-05-20T13:06:39.529256",
     "status": "completed"
    },
    "tags": []
   },
   "outputs": [
    {
     "name": "stdout",
     "output_type": "stream",
     "text": [
      "Zero-length phrases:27\n",
      "Maximum phrase length:48\n"
     ]
    }
   ],
   "source": [
    "# we should check for reviews of extremely short or long lengths; outliers that may mess with our training.\n",
    "phrases_lens = Counter([len(x) for x in phrase_int])\n",
    "print(\"Zero-length phrases:{}\".format(phrases_lens[0]))\n",
    "print(\"Maximum phrase length:{}\".format(max(phrases_lens)))"
   ]
  },
  {
   "cell_type": "code",
   "execution_count": 17,
   "id": "f07e222c",
   "metadata": {
    "execution": {
     "iopub.execute_input": "2024-05-20T13:06:39.601768Z",
     "iopub.status.busy": "2024-05-20T13:06:39.601498Z",
     "iopub.status.idle": "2024-05-20T13:06:39.614994Z",
     "shell.execute_reply": "2024-05-20T13:06:39.614172Z"
    },
    "papermill": {
     "duration": 0.031925,
     "end_time": "2024-05-20T13:06:39.616928",
     "exception": false,
     "start_time": "2024-05-20T13:06:39.585003",
     "status": "completed"
    },
    "tags": []
   },
   "outputs": [
    {
     "name": "stdout",
     "output_type": "stream",
     "text": [
      "Zero-length phrases:22\n",
      "Maximum phrase length:52\n"
     ]
    }
   ],
   "source": [
    "# we should check for reviews of extremely short or long lengths; outliers that may mess with our training.\n",
    "phrases_lens_test = Counter([len(x) for x in phrase_int_test])\n",
    "print(\"Zero-length phrases:{}\".format(phrases_lens_test[0]))\n",
    "print(\"Maximum phrase length:{}\".format(max(phrases_lens_test)))"
   ]
  },
  {
   "cell_type": "code",
   "execution_count": 18,
   "id": "5130da86",
   "metadata": {
    "execution": {
     "iopub.execute_input": "2024-05-20T13:06:39.647758Z",
     "iopub.status.busy": "2024-05-20T13:06:39.647525Z",
     "iopub.status.idle": "2024-05-20T13:06:39.690955Z",
     "shell.execute_reply": "2024-05-20T13:06:39.689848Z"
    },
    "papermill": {
     "duration": 0.060972,
     "end_time": "2024-05-20T13:06:39.692863",
     "exception": false,
     "start_time": "2024-05-20T13:06:39.631891",
     "status": "completed"
    },
    "tags": []
   },
   "outputs": [
    {
     "name": "stdout",
     "output_type": "stream",
     "text": [
      "ID: 37 Phrase: []\n",
      "ID: 62 Phrase: []\n",
      "ID: 500 Phrase: []\n",
      "ID: 655 Phrase: []\n",
      "ID: 660 Phrase: []\n",
      "ID: 785 Phrase: []\n",
      "ID: 865 Phrase: []\n",
      "ID: 1045 Phrase: []\n",
      "ID: 1061 Phrase: []\n",
      "ID: 1537 Phrase: []\n",
      "ID: 1813 Phrase: []\n",
      "ID: 2005 Phrase: []\n",
      "ID: 3608 Phrase: []\n",
      "ID: 4042 Phrase: []\n",
      "ID: 5533 Phrase: []\n",
      "ID: 10663 Phrase: []\n",
      "ID: 18611 Phrase: []\n",
      "ID: 18674 Phrase: []\n",
      "ID: 31225 Phrase: []\n",
      "ID: 38255 Phrase: []\n",
      "ID: 40952 Phrase: []\n",
      "ID: 42899 Phrase: []\n",
      "ID: 58187 Phrase: []\n",
      "ID: 81615 Phrase: []\n",
      "ID: 95340 Phrase: []\n",
      "ID: 95341 Phrase: []\n",
      "ID: 107456 Phrase: []\n"
     ]
    }
   ],
   "source": [
    "#Just watch what phrases have zero length\n",
    "for idx, phrase in enumerate(phrase_int):\n",
    "    if len(phrase) == 0:\n",
    "        print(\"ID:\", idx, \"Phrase:\", phrase)"
   ]
  },
  {
   "cell_type": "code",
   "execution_count": 19,
   "id": "4f3eef8b",
   "metadata": {
    "execution": {
     "iopub.execute_input": "2024-05-20T13:06:39.723796Z",
     "iopub.status.busy": "2024-05-20T13:06:39.723528Z",
     "iopub.status.idle": "2024-05-20T13:06:39.809357Z",
     "shell.execute_reply": "2024-05-20T13:06:39.808340Z"
    },
    "papermill": {
     "duration": 0.103671,
     "end_time": "2024-05-20T13:06:39.811512",
     "exception": false,
     "start_time": "2024-05-20T13:06:39.707841",
     "status": "completed"
    },
    "tags": []
   },
   "outputs": [
    {
     "name": "stdout",
     "output_type": "stream",
     "text": [
      "Number of phrases before removing outliers: 156060\n",
      "Number of phrases after removing outliers: 156033\n"
     ]
    }
   ],
   "source": [
    "#removing any phrases with zero length from the tokenized_phrases and their corresponding labels in the sentiments\n",
    "\n",
    "print('Number of phrases before removing outliers:', len(phrase_int))\n",
    "\n",
    "non_zero_idx = [ii for ii, phrase in enumerate(phrase_int) if len(phrase) != 0]\n",
    "phrase_int = [phrase_int[ii] for ii in non_zero_idx]\n",
    "sentiments = np.array([sentiments[ii] for ii in non_zero_idx])\n",
    "\n",
    "print('Number of phrases after removing outliers:', len(phrase_int))\n",
    "\n"
   ]
  },
  {
   "cell_type": "code",
   "execution_count": 20,
   "id": "8230f674",
   "metadata": {
    "execution": {
     "iopub.execute_input": "2024-05-20T13:06:39.843428Z",
     "iopub.status.busy": "2024-05-20T13:06:39.843130Z",
     "iopub.status.idle": "2024-05-20T13:06:39.873422Z",
     "shell.execute_reply": "2024-05-20T13:06:39.872550Z"
    },
    "papermill": {
     "duration": 0.048456,
     "end_time": "2024-05-20T13:06:39.875428",
     "exception": false,
     "start_time": "2024-05-20T13:06:39.826972",
     "status": "completed"
    },
    "tags": []
   },
   "outputs": [
    {
     "name": "stdout",
     "output_type": "stream",
     "text": [
      "Number of phrases before removing outliers: 66292\n",
      "Number of phrases after removing outliers: 66270\n"
     ]
    }
   ],
   "source": [
    "#removing any phrases with zero length from the tokenized_phrases_test and their corresponding labels in the sentiments\n",
    "\n",
    "print('Number of phrases before removing outliers:', len(phrase_int_test))\n",
    "\n",
    "non_zero_idx = [ii for ii, phrase in enumerate(phrase_int_test) if len(phrase) != 0]\n",
    "zero_idx = [ii for ii, phrase in enumerate(phrase_int_test) if len(phrase) == 0]\n",
    "phrase_int_test = [phrase_int_test[ii] for ii in non_zero_idx]\n",
    "\n",
    "\n",
    "print('Number of phrases after removing outliers:', len(phrase_int_test))"
   ]
  },
  {
   "cell_type": "code",
   "execution_count": 21,
   "id": "ba8214a2",
   "metadata": {
    "execution": {
     "iopub.execute_input": "2024-05-20T13:06:39.907029Z",
     "iopub.status.busy": "2024-05-20T13:06:39.906727Z",
     "iopub.status.idle": "2024-05-20T13:06:39.911059Z",
     "shell.execute_reply": "2024-05-20T13:06:39.910210Z"
    },
    "papermill": {
     "duration": 0.022433,
     "end_time": "2024-05-20T13:06:39.913054",
     "exception": false,
     "start_time": "2024-05-20T13:06:39.890621",
     "status": "completed"
    },
    "tags": []
   },
   "outputs": [
    {
     "name": "stdout",
     "output_type": "stream",
     "text": [
      "[14, 46, 106, 611, 617, 652, 655, 994, 998, 1202, 1390, 1969, 2781, 4572, 4922, 6350, 15519, 25758, 27045, 28861, 58034, 59531]\n"
     ]
    }
   ],
   "source": [
    "print(zero_idx)"
   ]
  },
  {
   "cell_type": "code",
   "execution_count": 22,
   "id": "702f139d",
   "metadata": {
    "execution": {
     "iopub.execute_input": "2024-05-20T13:06:39.944442Z",
     "iopub.status.busy": "2024-05-20T13:06:39.944170Z",
     "iopub.status.idle": "2024-05-20T13:06:40.879457Z",
     "shell.execute_reply": "2024-05-20T13:06:40.878533Z"
    },
    "papermill": {
     "duration": 0.953269,
     "end_time": "2024-05-20T13:06:40.881456",
     "exception": false,
     "start_time": "2024-05-20T13:06:39.928187",
     "status": "completed"
    },
    "tags": []
   },
   "outputs": [
    {
     "data": {
      "image/png": "[encoded data removed]",
      "text/plain": [
       "<Figure size 640x480 with 1 Axes>"
      ]
     },
     "metadata": {},
     "output_type": "display_data"
    }
   ],
   "source": [
    "# Lets see the distribution of phrases length\n",
    "\n",
    "phrase_lengths = [len(phrase) for phrase in phrase_int]\n",
    "\n",
    "#plot a histogram of phrase length\n",
    "plt.hist(phrase_lengths, bins = range(min(phrase_lengths), max(phrase_lengths) + 1, 1), color='blue', alpha=0.7)\n",
    "plt.xlabel('Phrase Length')\n",
    "plt.ylabel('Frequency')\n",
    "plt.title('Distribution of Phrase Lengths')\n",
    "plt.show()"
   ]
  },
  {
   "cell_type": "code",
   "execution_count": 23,
   "id": "412dd9fa",
   "metadata": {
    "execution": {
     "iopub.execute_input": "2024-05-20T13:06:40.953443Z",
     "iopub.status.busy": "2024-05-20T13:06:40.953103Z",
     "iopub.status.idle": "2024-05-20T13:06:40.968746Z",
     "shell.execute_reply": "2024-05-20T13:06:40.967844Z"
    },
    "papermill": {
     "duration": 0.03492,
     "end_time": "2024-05-20T13:06:40.971154",
     "exception": false,
     "start_time": "2024-05-20T13:06:40.936234",
     "status": "completed"
    },
    "tags": []
   },
   "outputs": [
    {
     "name": "stdout",
     "output_type": "stream",
     "text": [
      "Most common phrase lengths:\n",
      "Length: 2, Count: 27053\n",
      "Length: 3, Count: 21554\n",
      "Length: 1, Count: 18032\n",
      "Length: 4, Count: 14614\n",
      "Length: 5, Count: 10981\n",
      "Length: 6, Count: 8813\n",
      "Length: 7, Count: 7252\n",
      "Length: 8, Count: 6131\n",
      "Length: 9, Count: 5202\n",
      "Length: 10, Count: 4505\n",
      "Length: 11, Count: 3954\n",
      "Length: 12, Count: 3460\n",
      "Length: 13, Count: 3013\n",
      "Length: 14, Count: 2676\n",
      "Length: 15, Count: 2422\n",
      "Length: 16, Count: 2150\n",
      "Length: 17, Count: 1872\n",
      "Length: 18, Count: 1689\n",
      "Length: 19, Count: 1443\n",
      "Length: 20, Count: 1327\n",
      "Length: 21, Count: 1215\n",
      "Length: 22, Count: 1054\n",
      "Length: 23, Count: 840\n",
      "Length: 24, Count: 757\n",
      "Length: 25, Count: 649\n",
      "Length: 26, Count: 590\n",
      "Length: 27, Count: 453\n",
      "Length: 28, Count: 387\n",
      "Length: 29, Count: 367\n",
      "Length: 30, Count: 296\n",
      "Length: 31, Count: 270\n",
      "Length: 32, Count: 223\n",
      "Length: 33, Count: 150\n",
      "Length: 34, Count: 129\n",
      "Length: 35, Count: 110\n",
      "Length: 36, Count: 88\n",
      "Length: 37, Count: 75\n",
      "Length: 38, Count: 57\n",
      "Length: 41, Count: 35\n",
      "Length: 39, Count: 35\n",
      "Length: 40, Count: 32\n",
      "Length: 43, Count: 21\n",
      "Length: 42, Count: 20\n",
      "Length: 45, Count: 15\n",
      "Length: 47, Count: 7\n",
      "Length: 46, Count: 6\n",
      "Length: 44, Count: 6\n",
      "Length: 48, Count: 3\n",
      "Average Phrase Length: 6.716124153223998\n"
     ]
    }
   ],
   "source": [
    "# Count the frequency of each phrase length\n",
    "phrase_length_counts = Counter(phrase_lengths)\n",
    "\n",
    "# Find the most common phrase lengths\n",
    "most_common_lengths = phrase_length_counts.most_common()\n",
    "\n",
    "print(\"Most common phrase lengths:\")\n",
    "for length, count in most_common_lengths:\n",
    "    print(f\"Length: {length}, Count: {count}\")\n",
    "\n",
    "# Calculate the average phrase length\n",
    "average_length = sum(phrase_lengths) / len(phrase_lengths)\n",
    "print(\"Average Phrase Length:\", average_length)"
   ]
  },
  {
   "cell_type": "code",
   "execution_count": 24,
   "id": "f189f220",
   "metadata": {
    "execution": {
     "iopub.execute_input": "2024-05-20T13:06:41.003647Z",
     "iopub.status.busy": "2024-05-20T13:06:41.003382Z",
     "iopub.status.idle": "2024-05-20T13:06:41.571964Z",
     "shell.execute_reply": "2024-05-20T13:06:41.571014Z"
    },
    "papermill": {
     "duration": 0.586993,
     "end_time": "2024-05-20T13:06:41.573892",
     "exception": false,
     "start_time": "2024-05-20T13:06:40.986899",
     "status": "completed"
    },
    "tags": []
   },
   "outputs": [
    {
     "data": {
      "image/png": "[encoded data removed]",
      "text/plain": [
       "<Figure size 640x480 with 1 Axes>"
      ]
     },
     "metadata": {},
     "output_type": "display_data"
    }
   ],
   "source": [
    "# Lets see the distribution of phrases length\n",
    "\n",
    "phrase_lengths_test = [len(phrase) for phrase in phrase_int_test]\n",
    "\n",
    "#plot a histogram of phrase length\n",
    "plt.hist(phrase_lengths_test, bins = range(min(phrase_lengths_test), max(phrase_lengths_test) + 1, 1), color='blue', alpha=0.7)\n",
    "plt.xlabel('Phrase Length_test')\n",
    "plt.ylabel('Frequency')\n",
    "plt.title('Distribution of Phrase Lengths_test')\n",
    "plt.show()"
   ]
  },
  {
   "cell_type": "code",
   "execution_count": 25,
   "id": "58748d56",
   "metadata": {
    "execution": {
     "iopub.execute_input": "2024-05-20T13:06:41.609282Z",
     "iopub.status.busy": "2024-05-20T13:06:41.608981Z",
     "iopub.status.idle": "2024-05-20T13:06:41.619999Z",
     "shell.execute_reply": "2024-05-20T13:06:41.619087Z"
    },
    "papermill": {
     "duration": 0.031641,
     "end_time": "2024-05-20T13:06:41.622319",
     "exception": false,
     "start_time": "2024-05-20T13:06:41.590678",
     "status": "completed"
    },
    "tags": []
   },
   "outputs": [
    {
     "name": "stdout",
     "output_type": "stream",
     "text": [
      "Most common phrase lengths:\n",
      "Length: 2, Count: 11775\n",
      "Length: 1, Count: 10540\n",
      "Length: 3, Count: 8729\n",
      "Length: 4, Count: 5697\n",
      "Length: 5, Count: 4419\n",
      "Length: 6, Count: 3544\n",
      "Length: 7, Count: 2966\n",
      "Length: 8, Count: 2477\n",
      "Length: 9, Count: 2014\n",
      "Length: 10, Count: 1781\n",
      "Length: 11, Count: 1562\n",
      "Length: 12, Count: 1384\n",
      "Length: 13, Count: 1227\n",
      "Length: 14, Count: 1090\n",
      "Length: 15, Count: 929\n",
      "Length: 16, Count: 850\n",
      "Length: 17, Count: 733\n",
      "Length: 18, Count: 651\n",
      "Length: 19, Count: 563\n",
      "Length: 20, Count: 466\n",
      "Length: 21, Count: 420\n",
      "Length: 22, Count: 370\n",
      "Length: 23, Count: 308\n",
      "Length: 24, Count: 286\n",
      "Length: 25, Count: 240\n",
      "Length: 26, Count: 208\n",
      "Length: 27, Count: 199\n",
      "Length: 28, Count: 145\n",
      "Length: 29, Count: 142\n",
      "Length: 30, Count: 117\n",
      "Length: 31, Count: 79\n",
      "Length: 32, Count: 74\n",
      "Length: 33, Count: 65\n",
      "Length: 35, Count: 48\n",
      "Length: 34, Count: 45\n",
      "Length: 37, Count: 24\n",
      "Length: 36, Count: 22\n",
      "Length: 40, Count: 19\n",
      "Length: 39, Count: 17\n",
      "Length: 38, Count: 12\n",
      "Length: 43, Count: 10\n",
      "Length: 41, Count: 9\n",
      "Length: 44, Count: 5\n",
      "Length: 42, Count: 5\n",
      "Length: 45, Count: 2\n",
      "Length: 52, Count: 2\n",
      "Average Phrase Length: 6.250203712086917\n"
     ]
    }
   ],
   "source": [
    "# Count the frequency of each phrase length\n",
    "phrase_length_counts_test = Counter(phrase_lengths_test)\n",
    "\n",
    "# Find the most common phrase lengths\n",
    "most_common_lengths_test = phrase_length_counts_test.most_common()\n",
    "\n",
    "print(\"Most common phrase lengths:\")\n",
    "for length, count in most_common_lengths_test:\n",
    "    print(f\"Length: {length}, Count: {count}\")\n",
    "\n",
    "# Calculate the average phrase length\n",
    "average_length_test = sum(phrase_lengths_test) / len(phrase_lengths_test)\n",
    "print(\"Average Phrase Length:\", average_length_test)"
   ]
  },
  {
   "cell_type": "code",
   "execution_count": 26,
   "id": "a376e0ae",
   "metadata": {
    "execution": {
     "iopub.execute_input": "2024-05-20T13:06:41.656086Z",
     "iopub.status.busy": "2024-05-20T13:06:41.655792Z",
     "iopub.status.idle": "2024-05-20T13:06:41.699049Z",
     "shell.execute_reply": "2024-05-20T13:06:41.698359Z"
    },
    "papermill": {
     "duration": 0.06222,
     "end_time": "2024-05-20T13:06:41.700873",
     "exception": false,
     "start_time": "2024-05-20T13:06:41.638653",
     "status": "completed"
    },
    "tags": []
   },
   "outputs": [],
   "source": [
    "class Config:\n",
    "    vocab_size = len(vocab_to_int) + 1\n",
    "    seq_length = 40\n",
    "    num_layers = 3\n",
    "    output_size = 5\n",
    "    embedding_dim = 300\n",
    "    hidden_dim = 256\n",
    "    drop_prob = 0.5\n",
    "    #training\n",
    "    batch_size = 32\n",
    "    lr = 0.001\n",
    "    epochs = 4\n",
    "    print_every = 100\n",
    "    clip = 5\n",
    "    device = torch.device('cuda') if torch.cuda.is_available() else torch.device('cpu')"
   ]
  },
  {
   "cell_type": "code",
   "execution_count": 27,
   "id": "859f738e",
   "metadata": {
    "execution": {
     "iopub.execute_input": "2024-05-20T13:06:41.734400Z",
     "iopub.status.busy": "2024-05-20T13:06:41.734126Z",
     "iopub.status.idle": "2024-05-20T13:06:41.739388Z",
     "shell.execute_reply": "2024-05-20T13:06:41.738597Z"
    },
    "papermill": {
     "duration": 0.024268,
     "end_time": "2024-05-20T13:06:41.741428",
     "exception": false,
     "start_time": "2024-05-20T13:06:41.717160",
     "status": "completed"
    },
    "tags": []
   },
   "outputs": [],
   "source": [
    "##Define a function that returns an array features that contains the padded data, of a standard size, that we'll pass to the network. To deal with both short and very long reviews, we'll pad or truncate all our reviews to a specific length. For reviews shorter than some seq_length, we'll pad with 0s. For reviews longer than seq_length, we can truncate them to the first seq_length words. A good seq_length, in this case, is 15.\n",
    "\n",
    "def pad_features(phrase_int, seq_length):\n",
    "    features = np.zeros((len(phrase_int),seq_length), dtype = int)\n",
    "    for i, row in enumerate(phrase_int):\n",
    "        features[i, -len(row):] = np.array(row)[:seq_length]\n",
    "    return features\n"
   ]
  },
  {
   "cell_type": "code",
   "execution_count": 28,
   "id": "566a3685",
   "metadata": {
    "execution": {
     "iopub.execute_input": "2024-05-20T13:06:41.775296Z",
     "iopub.status.busy": "2024-05-20T13:06:41.775032Z",
     "iopub.status.idle": "2024-05-20T13:06:42.220710Z",
     "shell.execute_reply": "2024-05-20T13:06:42.219715Z"
    },
    "papermill": {
     "duration": 0.465447,
     "end_time": "2024-05-20T13:06:42.223080",
     "exception": false,
     "start_time": "2024-05-20T13:06:41.757633",
     "status": "completed"
    },
    "tags": []
   },
   "outputs": [
    {
     "name": "stdout",
     "output_type": "stream",
     "text": [
      "[[    0     0     0     0     0     2   304     3 15110  5906     1  6499\n",
      "      9    51     8    49    13     1  3514     8   167    49    13     1\n",
      "  11381    62     3    75   615 10453]\n",
      " [    0     0     0     0     0     0     0     0     0     0     0     0\n",
      "      0     0     0     0     0     0     0     0     0     0     0     0\n",
      "      0     0     2   304     3 15110]\n",
      " [    0     0     0     0     0     0     0     0     0     0     0     0\n",
      "      0     0     0     0     0     0     0     0     0     0     0     0\n",
      "      0     0     0     0     0     0]\n",
      " [    0     0     0     0     0     0     0     0     0     0     0     0\n",
      "      0     0     0     0     0     0     0     0     0     0     0     0\n",
      "      0     0     0     0     0     0]\n",
      " [    0     0     0     0     0     0     0     0     0     0     0     0\n",
      "      0     0     0     0     0     0     0     0     0     0     0     0\n",
      "      0     0     0     0     0     0]\n",
      " [    0     0     0     0     0     0     0     0     0     0     0     0\n",
      "      0     0     0     0     0     0     0     0     0     0     0     0\n",
      "      0     0     0     0     3 15110]\n",
      " [    0     0     0     0     0     0     0     0     0     0     0     0\n",
      "      0     0     0     0     0     0     0     0     0     0     0     0\n",
      "      0     0     0     0     0     0]\n",
      " [    0     0     0     0     0     0     0     0     0     0     0     0\n",
      "      0     0     0     0     0     0     0     0     0     0     0     0\n",
      "      0     0     0     0     0 15110]\n",
      " [    0     0     0     0     0     0     0     0     0     0     0     0\n",
      "      0     0     0     0     0     0     0     0     0     0     0     0\n",
      "      0     0     0     0     0     0]\n",
      " [    0     0     0     0     0     0     0     0     0     0     0     0\n",
      "      0     0     0     0     0     0     0     0     0     0     0     0\n",
      "      0     0     0     0     0     0]]\n"
     ]
    }
   ],
   "source": [
    "\n",
    "\n",
    "features = pad_features(phrase_int, seq_length = Config.seq_length)\n",
    "\n",
    "# print first 20 values of the first 10 batches \n",
    "print(features[:10,:30])"
   ]
  },
  {
   "cell_type": "code",
   "execution_count": 29,
   "id": "00232647",
   "metadata": {
    "execution": {
     "iopub.execute_input": "2024-05-20T13:06:42.258380Z",
     "iopub.status.busy": "2024-05-20T13:06:42.258072Z",
     "iopub.status.idle": "2024-05-20T13:06:42.459006Z",
     "shell.execute_reply": "2024-05-20T13:06:42.457953Z"
    },
    "papermill": {
     "duration": 0.221673,
     "end_time": "2024-05-20T13:06:42.462039",
     "exception": false,
     "start_time": "2024-05-20T13:06:42.240366",
     "status": "completed"
    },
    "tags": []
   },
   "outputs": [
    {
     "name": "stdout",
     "output_type": "stream",
     "text": [
      "[[   0    0    0    0    0    0    0    0    0    0    0    0    0    0\n",
      "     0    0    0    0    0    0    0    0    0    0    0    0    0    0\n",
      "     0    0    0    0    0   16 4652 3168   19  397 1074  405]\n",
      " [   0    0    0    0    0    0    0    0    0    0    0    0    0    0\n",
      "     0    0    0    0    0    0    0    0    0    0    0    0    0    0\n",
      "     0    0    0    0    0   16 4652 3168   19  397 1074  405]\n",
      " [   0    0    0    0    0    0    0    0    0    0    0    0    0    0\n",
      "     0    0    0    0    0    0    0    0    0    0    0    0    0    0\n",
      "     0    0    0    0    0    0    0    0    0    0    0   16]\n",
      " [   0    0    0    0    0    0    0    0    0    0    0    0    0    0\n",
      "     0    0    0    0    0    0    0    0    0    0    0    0    0    0\n",
      "     0    0    0    0    0    0 4652 3168   19  397 1074  405]\n",
      " [   0    0    0    0    0    0    0    0    0    0    0    0    0    0\n",
      "     0    0    0    0    0    0    0    0    0    0    0    0    0    0\n",
      "     0    0    0    0    0    0    0 4652 3168   19  397 1074]\n",
      " [   0    0    0    0    0    0    0    0    0    0    0    0    0    0\n",
      "     0    0    0    0    0    0    0    0    0    0    0    0    0    0\n",
      "     0    0    0    0    0    0    0    0    0 4652 3168   19]\n",
      " [   0    0    0    0    0    0    0    0    0    0    0    0    0    0\n",
      "     0    0    0    0    0    0    0    0    0    0    0    0    0    0\n",
      "     0    0    0    0    0    0    0    0    0    0 4652 3168]\n",
      " [   0    0    0    0    0    0    0    0    0    0    0    0    0    0\n",
      "     0    0    0    0    0    0    0    0    0    0    0    0    0    0\n",
      "     0    0    0    0    0    0    0    0    0    0    0 4652]\n",
      " [   0    0    0    0    0    0    0    0    0    0    0    0    0    0\n",
      "     0    0    0    0    0    0    0    0    0    0    0    0    0    0\n",
      "     0    0    0    0    0    0    0    0    0    0    0 3168]\n",
      " [   0    0    0    0    0    0    0    0    0    0    0    0    0    0\n",
      "     0    0    0    0    0    0    0    0    0    0    0    0    0    0\n",
      "     0    0    0    0    0    0    0    0    0    0    0   19]]\n"
     ]
    }
   ],
   "source": [
    "features_test = pad_features(phrase_int_test, seq_length = Config.seq_length)\n",
    "\n",
    "# print first 20 values of the first 10 batches \n",
    "print(features_test[:10,:40])"
   ]
  },
  {
   "cell_type": "code",
   "execution_count": 30,
   "id": "2e69058a",
   "metadata": {
    "execution": {
     "iopub.execute_input": "2024-05-20T13:06:42.512265Z",
     "iopub.status.busy": "2024-05-20T13:06:42.511860Z",
     "iopub.status.idle": "2024-05-20T13:06:42.519090Z",
     "shell.execute_reply": "2024-05-20T13:06:42.518089Z"
    },
    "papermill": {
     "duration": 0.034501,
     "end_time": "2024-05-20T13:06:42.521258",
     "exception": false,
     "start_time": "2024-05-20T13:06:42.486757",
     "status": "completed"
    },
    "tags": []
   },
   "outputs": [
    {
     "name": "stdout",
     "output_type": "stream",
     "text": [
      "156033\n",
      "(156033,)\n",
      "[1 2 2 2 2 2 2 2 2 2]\n",
      "156033\n",
      "(156033, 40)\n",
      "<class 'numpy.ndarray'>\n",
      "66270\n",
      "(66270, 40)\n",
      "<class 'numpy.ndarray'>\n"
     ]
    }
   ],
   "source": [
    "print(len(sentiments))\n",
    "print(sentiments.shape)\n",
    "print(sentiments[:10])\n",
    "print(len(features))\n",
    "print(features.shape)\n",
    "print(type(features))\n",
    "\n",
    "\n",
    "print(len(features_test))\n",
    "print(features_test.shape)\n",
    "print(type(features_test))"
   ]
  },
  {
   "cell_type": "code",
   "execution_count": 31,
   "id": "8d0dc1b5",
   "metadata": {
    "execution": {
     "iopub.execute_input": "2024-05-20T13:06:42.558576Z",
     "iopub.status.busy": "2024-05-20T13:06:42.557222Z",
     "iopub.status.idle": "2024-05-20T13:06:42.633892Z",
     "shell.execute_reply": "2024-05-20T13:06:42.632666Z"
    },
    "papermill": {
     "duration": 0.097712,
     "end_time": "2024-05-20T13:06:42.636562",
     "exception": false,
     "start_time": "2024-05-20T13:06:42.538850",
     "status": "completed"
    },
    "tags": []
   },
   "outputs": [
    {
     "name": "stdout",
     "output_type": "stream",
     "text": [
      "Training features shape: (148231, 40)\n",
      "Training labels shape: (148231,)\n",
      "Validation features shape: (7802, 40)\n",
      "Validation labels shape: (7802,)\n"
     ]
    }
   ],
   "source": [
    "##Train and validation split\n",
    "import sklearn\n",
    "from sklearn.model_selection import train_test_split\n",
    "\n",
    "X_train, X_val, y_train, y_val = train_test_split(features, sentiments, test_size = 0.05, random_state = 42)\n",
    "\n",
    "print(\"Training features shape:\", X_train.shape)\n",
    "print(\"Training labels shape:\", y_train.shape)\n",
    "print(\"Validation features shape:\", X_val.shape)\n",
    "print(\"Validation labels shape:\", y_val.shape)\n",
    "\n"
   ]
  },
  {
   "cell_type": "code",
   "execution_count": 32,
   "id": "0151a19c",
   "metadata": {
    "execution": {
     "iopub.execute_input": "2024-05-20T13:06:42.679341Z",
     "iopub.status.busy": "2024-05-20T13:06:42.678590Z",
     "iopub.status.idle": "2024-05-20T13:06:42.694610Z",
     "shell.execute_reply": "2024-05-20T13:06:42.693719Z"
    },
    "papermill": {
     "duration": 0.036518,
     "end_time": "2024-05-20T13:06:42.696887",
     "exception": false,
     "start_time": "2024-05-20T13:06:42.660369",
     "status": "completed"
    },
    "tags": []
   },
   "outputs": [],
   "source": [
    "##Dataloaders and Batching\n",
    "\n",
    "\n",
    "\n",
    "#create Tensor datasets\n",
    "train_data = TensorDataset(torch.from_numpy(X_train), torch.from_numpy(y_train))\n",
    "valid_data = TensorDataset(torch.from_numpy(X_val), torch.from_numpy(y_val))\n",
    "test_data = TensorDataset(torch.from_numpy(features_test))\n",
    "\n",
    "\n",
    "train_loader = DataLoader(train_data, shuffle = True, batch_size = Config.batch_size, drop_last = True)\n",
    "valid_loader = DataLoader(valid_data, shuffle = True, batch_size = Config.batch_size, drop_last = True)\n",
    "test_loader = DataLoader(test_data, shuffle = False, batch_size = Config.batch_size)"
   ]
  },
  {
   "cell_type": "code",
   "execution_count": 33,
   "id": "32ad9f2f",
   "metadata": {
    "execution": {
     "iopub.execute_input": "2024-05-20T13:06:42.737353Z",
     "iopub.status.busy": "2024-05-20T13:06:42.736738Z",
     "iopub.status.idle": "2024-05-20T13:06:42.742116Z",
     "shell.execute_reply": "2024-05-20T13:06:42.741270Z"
    },
    "papermill": {
     "duration": 0.025792,
     "end_time": "2024-05-20T13:06:42.744629",
     "exception": false,
     "start_time": "2024-05-20T13:06:42.718837",
     "status": "completed"
    },
    "tags": []
   },
   "outputs": [
    {
     "name": "stdout",
     "output_type": "stream",
     "text": [
      "<class 'torch.Tensor'>\n",
      "<class 'torch.Tensor'>\n"
     ]
    }
   ],
   "source": [
    "print(type(torch.from_numpy(features_test)))\n",
    "print(type(torch.from_numpy(X_val)))"
   ]
  },
  {
   "cell_type": "markdown",
   "id": "be05e83e",
   "metadata": {
    "papermill": {
     "duration": 0.019652,
     "end_time": "2024-05-20T13:06:42.787909",
     "exception": false,
     "start_time": "2024-05-20T13:06:42.768257",
     "status": "completed"
    },
    "tags": []
   },
   "source": [
    "# Sentiment Network with PyTorch\n",
    "\n",
    "The layers are as follows:\n",
    "\n",
    "1.An embedding layer that converts our word tokens (integers) into embeddings of a specific size.\n",
    "\n",
    "2.An LSTM layer defined by a hidden_state size and number of layers\n",
    "\n",
    "3.A fully-connected output layer that maps the LSTM layer outputs to a desired output_size\n",
    "\n",
    "4.A softmax activation layer which turns all outputs into a value 0-4; "
   ]
  },
  {
   "cell_type": "code",
   "execution_count": 34,
   "id": "ad0c7fbc",
   "metadata": {
    "execution": {
     "iopub.execute_input": "2024-05-20T13:06:42.825680Z",
     "iopub.status.busy": "2024-05-20T13:06:42.825354Z",
     "iopub.status.idle": "2024-05-20T13:06:42.830636Z",
     "shell.execute_reply": "2024-05-20T13:06:42.829686Z"
    },
    "papermill": {
     "duration": 0.025423,
     "end_time": "2024-05-20T13:06:42.832641",
     "exception": false,
     "start_time": "2024-05-20T13:06:42.807218",
     "status": "completed"
    },
    "tags": []
   },
   "outputs": [
    {
     "name": "stdout",
     "output_type": "stream",
     "text": [
      "Training on GPU.\n"
     ]
    }
   ],
   "source": [
    "#First check if GPU is available\n",
    "train_on_gpu = torch.cuda.is_available()\n",
    "\n",
    "if(train_on_gpu):\n",
    "    print('Training on GPU.')\n",
    "else:\n",
    "    print('No GPU available, training on CPU.')\n",
    "\n"
   ]
  },
  {
   "cell_type": "code",
   "execution_count": 35,
   "id": "177efae2",
   "metadata": {
    "execution": {
     "iopub.execute_input": "2024-05-20T13:06:42.868647Z",
     "iopub.status.busy": "2024-05-20T13:06:42.868024Z",
     "iopub.status.idle": "2024-05-20T13:08:15.105730Z",
     "shell.execute_reply": "2024-05-20T13:08:15.104815Z"
    },
    "papermill": {
     "duration": 92.275447,
     "end_time": "2024-05-20T13:08:15.125157",
     "exception": false,
     "start_time": "2024-05-20T13:06:42.849710",
     "status": "completed"
    },
    "tags": []
   },
   "outputs": [
    {
     "name": "stdout",
     "output_type": "stream",
     "text": [
      "Embedding matrix shape: (3000000, 300)\n"
     ]
    }
   ],
   "source": [
    "import gensim\n",
    "\n",
    "word2vec_path = '/kaggle/input/word2vec/GoogleNews-vectors-negative300.bin'\n",
    "word2vec_model = gensim.models.KeyedVectors.load_word2vec_format(word2vec_path, binary=True)\n",
    "\n",
    "# Define your vocabulary size and embedding dimension\n",
    "vocab_size = len(word2vec_model.key_to_index)\n",
    "embedding_dim = word2vec_model.vector_size\n",
    "\n",
    "# Create an embedding matrix\n",
    "embedding_matrix = np.zeros((vocab_size, embedding_dim))\n",
    "\n",
    "# Fill the embedding matrix with the pre-trained Word2Vec vectors\n",
    "for i, word in enumerate(word2vec_model.key_to_index):\n",
    "    embedding_vector = word2vec_model[word]\n",
    "    if embedding_vector is not None:\n",
    "        embedding_matrix[i] = embedding_vector\n",
    "\n",
    "# Example print to verify\n",
    "print(f\"Embedding matrix shape: {embedding_matrix.shape}\")"
   ]
  },
  {
   "cell_type": "markdown",
   "id": "3f3ce3c5",
   "metadata": {
    "papermill": {
     "duration": 0.016747,
     "end_time": "2024-05-20T13:08:15.159077",
     "exception": false,
     "start_time": "2024-05-20T13:08:15.142330",
     "status": "completed"
    },
    "tags": []
   },
   "source": [
    "# Defining Model Class"
   ]
  },
  {
   "cell_type": "code",
   "execution_count": 36,
   "id": "976c0442",
   "metadata": {
    "execution": {
     "iopub.execute_input": "2024-05-20T13:08:15.194882Z",
     "iopub.status.busy": "2024-05-20T13:08:15.194279Z",
     "iopub.status.idle": "2024-05-20T13:08:15.246995Z",
     "shell.execute_reply": "2024-05-20T13:08:15.246054Z"
    },
    "papermill": {
     "duration": 0.072896,
     "end_time": "2024-05-20T13:08:15.248948",
     "exception": false,
     "start_time": "2024-05-20T13:08:15.176052",
     "status": "completed"
    },
    "tags": []
   },
   "outputs": [],
   "source": [
    "class SentimentRNN(nn.Module):\n",
    "    \n",
    "    def __init__(self,embedding_matrix, hidden_dim = Config.hidden_dim, n_layers = Config.num_layers, drop_prob = Config.drop_prob, output_size = Config.output_size):\n",
    "        \n",
    "        super(SentimentRNN, self).__init__()\n",
    "        vocab_size, embedding_dim = embedding_matrix.shape\n",
    "        \n",
    "        \n",
    "        self.output_size = output_size\n",
    "        self.n_layers = n_layers\n",
    "        self.hidden_dim = hidden_dim\n",
    "        \n",
    "        self.embedding = nn.Embedding.from_pretrained(torch.FloatTensor(embedding_matrix))\n",
    "        self.lstm = nn.LSTM(embedding_dim, hidden_dim, n_layers, dropout = drop_prob, batch_first = True)\n",
    "        \n",
    "        self.dropout = nn.Dropout(drop_prob)\n",
    "        \n",
    "        self.fc = nn.Linear(hidden_dim, output_size)\n",
    "        \n",
    "    def forward(self, x, hidden):\n",
    "        batch_size = x.size(0)\n",
    "        \n",
    "        x = x.long()\n",
    "        embeds = self.embedding(x)\n",
    "        lstm_out, hidden = self.lstm(embeds, hidden)\n",
    "        \n",
    "        lstm_out = lstm_out[:, -1, :]\n",
    "        \n",
    "        out = self.dropout(lstm_out)\n",
    "        out = self.fc(out)\n",
    "        \n",
    "        \n",
    "        return out, hidden\n",
    "    \n",
    "    def init_hidden(self, batch_size):\n",
    "        \n",
    "        weight = next(self.parameters()).data\n",
    "        \n",
    "        if(train_on_gpu):\n",
    "            hidden = (weight.new(self.n_layers, batch_size, self.hidden_dim).zero_().cuda(),\n",
    "                      weight.new(self.n_layers, batch_size, self.hidden_dim).zero_().cuda())\n",
    "        else:\n",
    "            hidden = (weight.new(self.n_layers, batch_size, self.hidden_dim).zero_(),\n",
    "                      weight.new(self.n_layers, batch_size, self.hidden_dim).zero_())\n",
    "            \n",
    "        return hidden"
   ]
  },
  {
   "cell_type": "markdown",
   "id": "273d4f12",
   "metadata": {
    "papermill": {
     "duration": 0.016736,
     "end_time": "2024-05-20T13:08:15.283061",
     "exception": false,
     "start_time": "2024-05-20T13:08:15.266325",
     "status": "completed"
    },
    "tags": []
   },
   "source": [
    "# Training"
   ]
  },
  {
   "cell_type": "code",
   "execution_count": 37,
   "id": "0e944702",
   "metadata": {
    "execution": {
     "iopub.execute_input": "2024-05-20T13:08:15.318338Z",
     "iopub.status.busy": "2024-05-20T13:08:15.318055Z",
     "iopub.status.idle": "2024-05-20T13:08:15.332906Z",
     "shell.execute_reply": "2024-05-20T13:08:15.332074Z"
    },
    "papermill": {
     "duration": 0.034665,
     "end_time": "2024-05-20T13:08:15.334742",
     "exception": false,
     "start_time": "2024-05-20T13:08:15.300077",
     "status": "completed"
    },
    "tags": []
   },
   "outputs": [],
   "source": [
    "def train(\n",
    "    model, optimizer, criterion,\n",
    "    batch_size = Config.batch_size, epochs = Config.epochs,\n",
    "    train_loss_min = np.inf, print_every = Config.print_every,\n",
    "    clip = Config.clip):\n",
    "    \n",
    "    \n",
    "    callbackers = {}\n",
    "    callbackers['train_loss'] = []\n",
    "    callbackers['valid_loss'] = []\n",
    "    callbackers['valid_accuracy'] = []\n",
    "    callbackers['valid_classification_report'] = []\n",
    "    \n",
    "    counter = 0\n",
    "    if(train_on_gpu):\n",
    "        model.cuda()\n",
    "    \n",
    "    all_true_labels = []\n",
    "    all_pred_labels = []    \n",
    "    \n",
    "    for e in range(epochs):\n",
    "        train_loss = 0.0\n",
    "        valid_loss = 0.0\n",
    "        model.train()\n",
    "        h = model.init_hidden(batch_size)\n",
    "        true_labels = []\n",
    "        pred_labels = []\n",
    "        for inputs, labels in train_loader:\n",
    "            counter += 1\n",
    "            if(train_on_gpu):\n",
    "                inputs, labels = inputs.cuda(), labels.cuda()\n",
    "            h = tuple([each.data for each in h])\n",
    "            optimizer.zero_grad()\n",
    "            output, h = model(inputs, h)\n",
    "            loss = criterion(output.squeeze(), labels)\n",
    "            loss.backward()\n",
    "            nn.utils.clip_grad_norm_(model.parameters(), clip)\n",
    "            optimizer.step()\n",
    "            train_loss += loss.item()\n",
    "            if counter % print_every == 0:\n",
    "                model.eval()\n",
    "                with torch.no_grad():\n",
    "                    val_h = model.init_hidden(batch_size)\n",
    "                    for inputs, labels in valid_loader:\n",
    "                        val_h = tuple([each.data for each in h])\n",
    "                        if(train_on_gpu):\n",
    "                            inputs, labels = inputs.cuda(), labels.cuda()\n",
    "                        output, val_h = model(inputs, val_h)\n",
    "                        val_loss = criterion(output.squeeze(), labels)\n",
    "                        valid_loss += val_loss.item()\n",
    "                        \n",
    "                        true_labels.extend(labels.cpu().numpy())\n",
    "                        pred_labels.extend(torch.argmax(output, axis=1).cpu().numpy())\n",
    "                \n",
    "                train_loss /= len(train_loader)\n",
    "                valid_loss /= len(valid_loader)\n",
    "                valid_accuracy = accuracy_score(true_labels, pred_labels)\n",
    "                valid_classification_report = classification_report(true_labels, pred_labels)\n",
    "                \n",
    "                print(f'Epoch: {e+1} TrainLoss: {train_loss:.3f} ValidLoss: {valid_loss:.3f}')\n",
    "                print(f'Validation Accuracy: {valid_accuracy:.4f}')\n",
    "                \n",
    "                callbackers['train_loss'].append(train_loss)\n",
    "                callbackers['valid_loss'].append(valid_loss)\n",
    "                callbackers['valid_accuracy'].append(valid_accuracy)\n",
    "                callbackers['valid_classification_report'].append(valid_classification_report)\n",
    "                \n",
    "                \n",
    "                model.train()\n",
    "        all_true_labels.extend(true_labels)\n",
    "        all_pred_labels.extend(pred_labels)\n",
    "    overall_classification_report = classification_report(all_true_labels, all_pred_labels)        \n",
    "    overall_accuracy = accuracy_score(all_true_labels, all_pred_labels)        \n",
    "    print('Overall Validation Classification Report:')    \n",
    "    print(overall_classification_report)\n",
    "    print(f'Overall Validation Accuracy: {overall_accuracy:.4f}')\n",
    "    \n",
    "    return callbackers\n",
    "\n",
    "    "
   ]
  },
  {
   "cell_type": "code",
   "execution_count": 38,
   "id": "601291cb",
   "metadata": {
    "execution": {
     "iopub.execute_input": "2024-05-20T13:08:15.369382Z",
     "iopub.status.busy": "2024-05-20T13:08:15.369127Z",
     "iopub.status.idle": "2024-05-20T13:08:15.374342Z",
     "shell.execute_reply": "2024-05-20T13:08:15.373629Z"
    },
    "papermill": {
     "duration": 0.024628,
     "end_time": "2024-05-20T13:08:15.376165",
     "exception": false,
     "start_time": "2024-05-20T13:08:15.351537",
     "status": "completed"
    },
    "tags": []
   },
   "outputs": [],
   "source": [
    "def visualize_callbackers(callbackers):\n",
    "    fig, ax =  plt.subplots(2, 1, figsize=(10, 6))\n",
    "    ax[0].plot(callbackers['train_loss'], label='Train Loss')\n",
    "    ax[0].plot(callbackers['valid_loss'], label='Valid Loss')\n",
    "    ax[0].set_title('Losses')\n",
    "    ax[0].legend()\n",
    "    plt.tight_layout()\n",
    "    plt.show()"
   ]
  },
  {
   "cell_type": "code",
   "execution_count": 39,
   "id": "d3d83b56",
   "metadata": {
    "execution": {
     "iopub.execute_input": "2024-05-20T13:08:15.411359Z",
     "iopub.status.busy": "2024-05-20T13:08:15.410705Z",
     "iopub.status.idle": "2024-05-20T13:15:46.112188Z",
     "shell.execute_reply": "2024-05-20T13:15:46.111247Z"
    },
    "papermill": {
     "duration": 450.721398,
     "end_time": "2024-05-20T13:15:46.114487",
     "exception": false,
     "start_time": "2024-05-20T13:08:15.393089",
     "status": "completed"
    },
    "tags": []
   },
   "outputs": [
    {
     "name": "stderr",
     "output_type": "stream",
     "text": [
      "/opt/conda/lib/python3.10/site-packages/sklearn/metrics/_classification.py:1344: UndefinedMetricWarning: Precision and F-score are ill-defined and being set to 0.0 in labels with no predicted samples. Use `zero_division` parameter to control this behavior.\n",
      "  _warn_prf(average, modifier, msg_start, len(result))\n",
      "/opt/conda/lib/python3.10/site-packages/sklearn/metrics/_classification.py:1344: UndefinedMetricWarning: Precision and F-score are ill-defined and being set to 0.0 in labels with no predicted samples. Use `zero_division` parameter to control this behavior.\n",
      "  _warn_prf(average, modifier, msg_start, len(result))\n",
      "/opt/conda/lib/python3.10/site-packages/sklearn/metrics/_classification.py:1344: UndefinedMetricWarning: Precision and F-score are ill-defined and being set to 0.0 in labels with no predicted samples. Use `zero_division` parameter to control this behavior.\n",
      "  _warn_prf(average, modifier, msg_start, len(result))\n"
     ]
    },
    {
     "name": "stdout",
     "output_type": "stream",
     "text": [
      "Epoch: 1 TrainLoss: 0.028 ValidLoss: 1.232\n",
      "Validation Accuracy: 0.5145\n"
     ]
    },
    {
     "name": "stderr",
     "output_type": "stream",
     "text": [
      "/opt/conda/lib/python3.10/site-packages/sklearn/metrics/_classification.py:1344: UndefinedMetricWarning: Precision and F-score are ill-defined and being set to 0.0 in labels with no predicted samples. Use `zero_division` parameter to control this behavior.\n",
      "  _warn_prf(average, modifier, msg_start, len(result))\n",
      "/opt/conda/lib/python3.10/site-packages/sklearn/metrics/_classification.py:1344: UndefinedMetricWarning: Precision and F-score are ill-defined and being set to 0.0 in labels with no predicted samples. Use `zero_division` parameter to control this behavior.\n",
      "  _warn_prf(average, modifier, msg_start, len(result))\n",
      "/opt/conda/lib/python3.10/site-packages/sklearn/metrics/_classification.py:1344: UndefinedMetricWarning: Precision and F-score are ill-defined and being set to 0.0 in labels with no predicted samples. Use `zero_division` parameter to control this behavior.\n",
      "  _warn_prf(average, modifier, msg_start, len(result))\n"
     ]
    },
    {
     "name": "stdout",
     "output_type": "stream",
     "text": [
      "Epoch: 1 TrainLoss: 0.027 ValidLoss: 1.261\n",
      "Validation Accuracy: 0.5164\n"
     ]
    },
    {
     "name": "stderr",
     "output_type": "stream",
     "text": [
      "/opt/conda/lib/python3.10/site-packages/sklearn/metrics/_classification.py:1344: UndefinedMetricWarning: Precision and F-score are ill-defined and being set to 0.0 in labels with no predicted samples. Use `zero_division` parameter to control this behavior.\n",
      "  _warn_prf(average, modifier, msg_start, len(result))\n",
      "/opt/conda/lib/python3.10/site-packages/sklearn/metrics/_classification.py:1344: UndefinedMetricWarning: Precision and F-score are ill-defined and being set to 0.0 in labels with no predicted samples. Use `zero_division` parameter to control this behavior.\n",
      "  _warn_prf(average, modifier, msg_start, len(result))\n",
      "/opt/conda/lib/python3.10/site-packages/sklearn/metrics/_classification.py:1344: UndefinedMetricWarning: Precision and F-score are ill-defined and being set to 0.0 in labels with no predicted samples. Use `zero_division` parameter to control this behavior.\n",
      "  _warn_prf(average, modifier, msg_start, len(result))\n"
     ]
    },
    {
     "name": "stdout",
     "output_type": "stream",
     "text": [
      "Epoch: 1 TrainLoss: 0.027 ValidLoss: 1.228\n",
      "Validation Accuracy: 0.5146\n"
     ]
    },
    {
     "name": "stderr",
     "output_type": "stream",
     "text": [
      "/opt/conda/lib/python3.10/site-packages/sklearn/metrics/_classification.py:1344: UndefinedMetricWarning: Precision and F-score are ill-defined and being set to 0.0 in labels with no predicted samples. Use `zero_division` parameter to control this behavior.\n",
      "  _warn_prf(average, modifier, msg_start, len(result))\n",
      "/opt/conda/lib/python3.10/site-packages/sklearn/metrics/_classification.py:1344: UndefinedMetricWarning: Precision and F-score are ill-defined and being set to 0.0 in labels with no predicted samples. Use `zero_division` parameter to control this behavior.\n",
      "  _warn_prf(average, modifier, msg_start, len(result))\n",
      "/opt/conda/lib/python3.10/site-packages/sklearn/metrics/_classification.py:1344: UndefinedMetricWarning: Precision and F-score are ill-defined and being set to 0.0 in labels with no predicted samples. Use `zero_division` parameter to control this behavior.\n",
      "  _warn_prf(average, modifier, msg_start, len(result))\n"
     ]
    },
    {
     "name": "stdout",
     "output_type": "stream",
     "text": [
      "Epoch: 1 TrainLoss: 0.027 ValidLoss: 1.223\n",
      "Validation Accuracy: 0.5140\n"
     ]
    },
    {
     "name": "stderr",
     "output_type": "stream",
     "text": [
      "/opt/conda/lib/python3.10/site-packages/sklearn/metrics/_classification.py:1344: UndefinedMetricWarning: Precision and F-score are ill-defined and being set to 0.0 in labels with no predicted samples. Use `zero_division` parameter to control this behavior.\n",
      "  _warn_prf(average, modifier, msg_start, len(result))\n",
      "/opt/conda/lib/python3.10/site-packages/sklearn/metrics/_classification.py:1344: UndefinedMetricWarning: Precision and F-score are ill-defined and being set to 0.0 in labels with no predicted samples. Use `zero_division` parameter to control this behavior.\n",
      "  _warn_prf(average, modifier, msg_start, len(result))\n",
      "/opt/conda/lib/python3.10/site-packages/sklearn/metrics/_classification.py:1344: UndefinedMetricWarning: Precision and F-score are ill-defined and being set to 0.0 in labels with no predicted samples. Use `zero_division` parameter to control this behavior.\n",
      "  _warn_prf(average, modifier, msg_start, len(result))\n"
     ]
    },
    {
     "name": "stdout",
     "output_type": "stream",
     "text": [
      "Epoch: 1 TrainLoss: 0.027 ValidLoss: 1.224\n",
      "Validation Accuracy: 0.5141\n"
     ]
    },
    {
     "name": "stderr",
     "output_type": "stream",
     "text": [
      "/opt/conda/lib/python3.10/site-packages/sklearn/metrics/_classification.py:1344: UndefinedMetricWarning: Precision and F-score are ill-defined and being set to 0.0 in labels with no predicted samples. Use `zero_division` parameter to control this behavior.\n",
      "  _warn_prf(average, modifier, msg_start, len(result))\n",
      "/opt/conda/lib/python3.10/site-packages/sklearn/metrics/_classification.py:1344: UndefinedMetricWarning: Precision and F-score are ill-defined and being set to 0.0 in labels with no predicted samples. Use `zero_division` parameter to control this behavior.\n",
      "  _warn_prf(average, modifier, msg_start, len(result))\n",
      "/opt/conda/lib/python3.10/site-packages/sklearn/metrics/_classification.py:1344: UndefinedMetricWarning: Precision and F-score are ill-defined and being set to 0.0 in labels with no predicted samples. Use `zero_division` parameter to control this behavior.\n",
      "  _warn_prf(average, modifier, msg_start, len(result))\n"
     ]
    },
    {
     "name": "stdout",
     "output_type": "stream",
     "text": [
      "Epoch: 1 TrainLoss: 0.026 ValidLoss: 1.224\n",
      "Validation Accuracy: 0.5139\n"
     ]
    },
    {
     "name": "stderr",
     "output_type": "stream",
     "text": [
      "/opt/conda/lib/python3.10/site-packages/sklearn/metrics/_classification.py:1344: UndefinedMetricWarning: Precision and F-score are ill-defined and being set to 0.0 in labels with no predicted samples. Use `zero_division` parameter to control this behavior.\n",
      "  _warn_prf(average, modifier, msg_start, len(result))\n",
      "/opt/conda/lib/python3.10/site-packages/sklearn/metrics/_classification.py:1344: UndefinedMetricWarning: Precision and F-score are ill-defined and being set to 0.0 in labels with no predicted samples. Use `zero_division` parameter to control this behavior.\n",
      "  _warn_prf(average, modifier, msg_start, len(result))\n",
      "/opt/conda/lib/python3.10/site-packages/sklearn/metrics/_classification.py:1344: UndefinedMetricWarning: Precision and F-score are ill-defined and being set to 0.0 in labels with no predicted samples. Use `zero_division` parameter to control this behavior.\n",
      "  _warn_prf(average, modifier, msg_start, len(result))\n"
     ]
    },
    {
     "name": "stdout",
     "output_type": "stream",
     "text": [
      "Epoch: 1 TrainLoss: 0.027 ValidLoss: 1.226\n",
      "Validation Accuracy: 0.5129\n"
     ]
    },
    {
     "name": "stderr",
     "output_type": "stream",
     "text": [
      "/opt/conda/lib/python3.10/site-packages/sklearn/metrics/_classification.py:1344: UndefinedMetricWarning: Precision and F-score are ill-defined and being set to 0.0 in labels with no predicted samples. Use `zero_division` parameter to control this behavior.\n",
      "  _warn_prf(average, modifier, msg_start, len(result))\n",
      "/opt/conda/lib/python3.10/site-packages/sklearn/metrics/_classification.py:1344: UndefinedMetricWarning: Precision and F-score are ill-defined and being set to 0.0 in labels with no predicted samples. Use `zero_division` parameter to control this behavior.\n",
      "  _warn_prf(average, modifier, msg_start, len(result))\n",
      "/opt/conda/lib/python3.10/site-packages/sklearn/metrics/_classification.py:1344: UndefinedMetricWarning: Precision and F-score are ill-defined and being set to 0.0 in labels with no predicted samples. Use `zero_division` parameter to control this behavior.\n",
      "  _warn_prf(average, modifier, msg_start, len(result))\n"
     ]
    },
    {
     "name": "stdout",
     "output_type": "stream",
     "text": [
      "Epoch: 1 TrainLoss: 0.027 ValidLoss: 1.219\n",
      "Validation Accuracy: 0.5130\n"
     ]
    },
    {
     "name": "stderr",
     "output_type": "stream",
     "text": [
      "/opt/conda/lib/python3.10/site-packages/sklearn/metrics/_classification.py:1344: UndefinedMetricWarning: Precision and F-score are ill-defined and being set to 0.0 in labels with no predicted samples. Use `zero_division` parameter to control this behavior.\n",
      "  _warn_prf(average, modifier, msg_start, len(result))\n",
      "/opt/conda/lib/python3.10/site-packages/sklearn/metrics/_classification.py:1344: UndefinedMetricWarning: Precision and F-score are ill-defined and being set to 0.0 in labels with no predicted samples. Use `zero_division` parameter to control this behavior.\n",
      "  _warn_prf(average, modifier, msg_start, len(result))\n",
      "/opt/conda/lib/python3.10/site-packages/sklearn/metrics/_classification.py:1344: UndefinedMetricWarning: Precision and F-score are ill-defined and being set to 0.0 in labels with no predicted samples. Use `zero_division` parameter to control this behavior.\n",
      "  _warn_prf(average, modifier, msg_start, len(result))\n"
     ]
    },
    {
     "name": "stdout",
     "output_type": "stream",
     "text": [
      "Epoch: 1 TrainLoss: 0.027 ValidLoss: 1.220\n",
      "Validation Accuracy: 0.5124\n"
     ]
    },
    {
     "name": "stderr",
     "output_type": "stream",
     "text": [
      "/opt/conda/lib/python3.10/site-packages/sklearn/metrics/_classification.py:1344: UndefinedMetricWarning: Precision and F-score are ill-defined and being set to 0.0 in labels with no predicted samples. Use `zero_division` parameter to control this behavior.\n",
      "  _warn_prf(average, modifier, msg_start, len(result))\n",
      "/opt/conda/lib/python3.10/site-packages/sklearn/metrics/_classification.py:1344: UndefinedMetricWarning: Precision and F-score are ill-defined and being set to 0.0 in labels with no predicted samples. Use `zero_division` parameter to control this behavior.\n",
      "  _warn_prf(average, modifier, msg_start, len(result))\n",
      "/opt/conda/lib/python3.10/site-packages/sklearn/metrics/_classification.py:1344: UndefinedMetricWarning: Precision and F-score are ill-defined and being set to 0.0 in labels with no predicted samples. Use `zero_division` parameter to control this behavior.\n",
      "  _warn_prf(average, modifier, msg_start, len(result))\n"
     ]
    },
    {
     "name": "stdout",
     "output_type": "stream",
     "text": [
      "Epoch: 1 TrainLoss: 0.026 ValidLoss: 1.219\n",
      "Validation Accuracy: 0.5126\n"
     ]
    },
    {
     "name": "stderr",
     "output_type": "stream",
     "text": [
      "/opt/conda/lib/python3.10/site-packages/sklearn/metrics/_classification.py:1344: UndefinedMetricWarning: Precision and F-score are ill-defined and being set to 0.0 in labels with no predicted samples. Use `zero_division` parameter to control this behavior.\n",
      "  _warn_prf(average, modifier, msg_start, len(result))\n",
      "/opt/conda/lib/python3.10/site-packages/sklearn/metrics/_classification.py:1344: UndefinedMetricWarning: Precision and F-score are ill-defined and being set to 0.0 in labels with no predicted samples. Use `zero_division` parameter to control this behavior.\n",
      "  _warn_prf(average, modifier, msg_start, len(result))\n",
      "/opt/conda/lib/python3.10/site-packages/sklearn/metrics/_classification.py:1344: UndefinedMetricWarning: Precision and F-score are ill-defined and being set to 0.0 in labels with no predicted samples. Use `zero_division` parameter to control this behavior.\n",
      "  _warn_prf(average, modifier, msg_start, len(result))\n"
     ]
    },
    {
     "name": "stdout",
     "output_type": "stream",
     "text": [
      "Epoch: 1 TrainLoss: 0.026 ValidLoss: 1.208\n",
      "Validation Accuracy: 0.5133\n"
     ]
    },
    {
     "name": "stderr",
     "output_type": "stream",
     "text": [
      "/opt/conda/lib/python3.10/site-packages/sklearn/metrics/_classification.py:1344: UndefinedMetricWarning: Precision and F-score are ill-defined and being set to 0.0 in labels with no predicted samples. Use `zero_division` parameter to control this behavior.\n",
      "  _warn_prf(average, modifier, msg_start, len(result))\n",
      "/opt/conda/lib/python3.10/site-packages/sklearn/metrics/_classification.py:1344: UndefinedMetricWarning: Precision and F-score are ill-defined and being set to 0.0 in labels with no predicted samples. Use `zero_division` parameter to control this behavior.\n",
      "  _warn_prf(average, modifier, msg_start, len(result))\n",
      "/opt/conda/lib/python3.10/site-packages/sklearn/metrics/_classification.py:1344: UndefinedMetricWarning: Precision and F-score are ill-defined and being set to 0.0 in labels with no predicted samples. Use `zero_division` parameter to control this behavior.\n",
      "  _warn_prf(average, modifier, msg_start, len(result))\n"
     ]
    },
    {
     "name": "stdout",
     "output_type": "stream",
     "text": [
      "Epoch: 1 TrainLoss: 0.026 ValidLoss: 1.201\n",
      "Validation Accuracy: 0.5141\n"
     ]
    },
    {
     "name": "stderr",
     "output_type": "stream",
     "text": [
      "/opt/conda/lib/python3.10/site-packages/sklearn/metrics/_classification.py:1344: UndefinedMetricWarning: Precision and F-score are ill-defined and being set to 0.0 in labels with no predicted samples. Use `zero_division` parameter to control this behavior.\n",
      "  _warn_prf(average, modifier, msg_start, len(result))\n",
      "/opt/conda/lib/python3.10/site-packages/sklearn/metrics/_classification.py:1344: UndefinedMetricWarning: Precision and F-score are ill-defined and being set to 0.0 in labels with no predicted samples. Use `zero_division` parameter to control this behavior.\n",
      "  _warn_prf(average, modifier, msg_start, len(result))\n",
      "/opt/conda/lib/python3.10/site-packages/sklearn/metrics/_classification.py:1344: UndefinedMetricWarning: Precision and F-score are ill-defined and being set to 0.0 in labels with no predicted samples. Use `zero_division` parameter to control this behavior.\n",
      "  _warn_prf(average, modifier, msg_start, len(result))\n"
     ]
    },
    {
     "name": "stdout",
     "output_type": "stream",
     "text": [
      "Epoch: 1 TrainLoss: 0.026 ValidLoss: 1.204\n",
      "Validation Accuracy: 0.5145\n"
     ]
    },
    {
     "name": "stderr",
     "output_type": "stream",
     "text": [
      "/opt/conda/lib/python3.10/site-packages/sklearn/metrics/_classification.py:1344: UndefinedMetricWarning: Precision and F-score are ill-defined and being set to 0.0 in labels with no predicted samples. Use `zero_division` parameter to control this behavior.\n",
      "  _warn_prf(average, modifier, msg_start, len(result))\n",
      "/opt/conda/lib/python3.10/site-packages/sklearn/metrics/_classification.py:1344: UndefinedMetricWarning: Precision and F-score are ill-defined and being set to 0.0 in labels with no predicted samples. Use `zero_division` parameter to control this behavior.\n",
      "  _warn_prf(average, modifier, msg_start, len(result))\n",
      "/opt/conda/lib/python3.10/site-packages/sklearn/metrics/_classification.py:1344: UndefinedMetricWarning: Precision and F-score are ill-defined and being set to 0.0 in labels with no predicted samples. Use `zero_division` parameter to control this behavior.\n",
      "  _warn_prf(average, modifier, msg_start, len(result))\n"
     ]
    },
    {
     "name": "stdout",
     "output_type": "stream",
     "text": [
      "Epoch: 1 TrainLoss: 0.026 ValidLoss: 1.200\n",
      "Validation Accuracy: 0.5148\n"
     ]
    },
    {
     "name": "stderr",
     "output_type": "stream",
     "text": [
      "/opt/conda/lib/python3.10/site-packages/sklearn/metrics/_classification.py:1344: UndefinedMetricWarning: Precision and F-score are ill-defined and being set to 0.0 in labels with no predicted samples. Use `zero_division` parameter to control this behavior.\n",
      "  _warn_prf(average, modifier, msg_start, len(result))\n",
      "/opt/conda/lib/python3.10/site-packages/sklearn/metrics/_classification.py:1344: UndefinedMetricWarning: Precision and F-score are ill-defined and being set to 0.0 in labels with no predicted samples. Use `zero_division` parameter to control this behavior.\n",
      "  _warn_prf(average, modifier, msg_start, len(result))\n",
      "/opt/conda/lib/python3.10/site-packages/sklearn/metrics/_classification.py:1344: UndefinedMetricWarning: Precision and F-score are ill-defined and being set to 0.0 in labels with no predicted samples. Use `zero_division` parameter to control this behavior.\n",
      "  _warn_prf(average, modifier, msg_start, len(result))\n"
     ]
    },
    {
     "name": "stdout",
     "output_type": "stream",
     "text": [
      "Epoch: 1 TrainLoss: 0.026 ValidLoss: 1.198\n",
      "Validation Accuracy: 0.5150\n"
     ]
    },
    {
     "name": "stderr",
     "output_type": "stream",
     "text": [
      "/opt/conda/lib/python3.10/site-packages/sklearn/metrics/_classification.py:1344: UndefinedMetricWarning: Precision and F-score are ill-defined and being set to 0.0 in labels with no predicted samples. Use `zero_division` parameter to control this behavior.\n",
      "  _warn_prf(average, modifier, msg_start, len(result))\n",
      "/opt/conda/lib/python3.10/site-packages/sklearn/metrics/_classification.py:1344: UndefinedMetricWarning: Precision and F-score are ill-defined and being set to 0.0 in labels with no predicted samples. Use `zero_division` parameter to control this behavior.\n",
      "  _warn_prf(average, modifier, msg_start, len(result))\n",
      "/opt/conda/lib/python3.10/site-packages/sklearn/metrics/_classification.py:1344: UndefinedMetricWarning: Precision and F-score are ill-defined and being set to 0.0 in labels with no predicted samples. Use `zero_division` parameter to control this behavior.\n",
      "  _warn_prf(average, modifier, msg_start, len(result))\n"
     ]
    },
    {
     "name": "stdout",
     "output_type": "stream",
     "text": [
      "Epoch: 1 TrainLoss: 0.025 ValidLoss: 1.200\n",
      "Validation Accuracy: 0.5154\n"
     ]
    },
    {
     "name": "stderr",
     "output_type": "stream",
     "text": [
      "/opt/conda/lib/python3.10/site-packages/sklearn/metrics/_classification.py:1344: UndefinedMetricWarning: Precision and F-score are ill-defined and being set to 0.0 in labels with no predicted samples. Use `zero_division` parameter to control this behavior.\n",
      "  _warn_prf(average, modifier, msg_start, len(result))\n",
      "/opt/conda/lib/python3.10/site-packages/sklearn/metrics/_classification.py:1344: UndefinedMetricWarning: Precision and F-score are ill-defined and being set to 0.0 in labels with no predicted samples. Use `zero_division` parameter to control this behavior.\n",
      "  _warn_prf(average, modifier, msg_start, len(result))\n",
      "/opt/conda/lib/python3.10/site-packages/sklearn/metrics/_classification.py:1344: UndefinedMetricWarning: Precision and F-score are ill-defined and being set to 0.0 in labels with no predicted samples. Use `zero_division` parameter to control this behavior.\n",
      "  _warn_prf(average, modifier, msg_start, len(result))\n"
     ]
    },
    {
     "name": "stdout",
     "output_type": "stream",
     "text": [
      "Epoch: 1 TrainLoss: 0.026 ValidLoss: 1.187\n",
      "Validation Accuracy: 0.5158\n"
     ]
    },
    {
     "name": "stderr",
     "output_type": "stream",
     "text": [
      "/opt/conda/lib/python3.10/site-packages/sklearn/metrics/_classification.py:1344: UndefinedMetricWarning: Precision and F-score are ill-defined and being set to 0.0 in labels with no predicted samples. Use `zero_division` parameter to control this behavior.\n",
      "  _warn_prf(average, modifier, msg_start, len(result))\n",
      "/opt/conda/lib/python3.10/site-packages/sklearn/metrics/_classification.py:1344: UndefinedMetricWarning: Precision and F-score are ill-defined and being set to 0.0 in labels with no predicted samples. Use `zero_division` parameter to control this behavior.\n",
      "  _warn_prf(average, modifier, msg_start, len(result))\n",
      "/opt/conda/lib/python3.10/site-packages/sklearn/metrics/_classification.py:1344: UndefinedMetricWarning: Precision and F-score are ill-defined and being set to 0.0 in labels with no predicted samples. Use `zero_division` parameter to control this behavior.\n",
      "  _warn_prf(average, modifier, msg_start, len(result))\n"
     ]
    },
    {
     "name": "stdout",
     "output_type": "stream",
     "text": [
      "Epoch: 1 TrainLoss: 0.026 ValidLoss: 1.192\n",
      "Validation Accuracy: 0.5162\n"
     ]
    },
    {
     "name": "stderr",
     "output_type": "stream",
     "text": [
      "/opt/conda/lib/python3.10/site-packages/sklearn/metrics/_classification.py:1344: UndefinedMetricWarning: Precision and F-score are ill-defined and being set to 0.0 in labels with no predicted samples. Use `zero_division` parameter to control this behavior.\n",
      "  _warn_prf(average, modifier, msg_start, len(result))\n",
      "/opt/conda/lib/python3.10/site-packages/sklearn/metrics/_classification.py:1344: UndefinedMetricWarning: Precision and F-score are ill-defined and being set to 0.0 in labels with no predicted samples. Use `zero_division` parameter to control this behavior.\n",
      "  _warn_prf(average, modifier, msg_start, len(result))\n",
      "/opt/conda/lib/python3.10/site-packages/sklearn/metrics/_classification.py:1344: UndefinedMetricWarning: Precision and F-score are ill-defined and being set to 0.0 in labels with no predicted samples. Use `zero_division` parameter to control this behavior.\n",
      "  _warn_prf(average, modifier, msg_start, len(result))\n"
     ]
    },
    {
     "name": "stdout",
     "output_type": "stream",
     "text": [
      "Epoch: 1 TrainLoss: 0.026 ValidLoss: 1.191\n",
      "Validation Accuracy: 0.5166\n"
     ]
    },
    {
     "name": "stderr",
     "output_type": "stream",
     "text": [
      "/opt/conda/lib/python3.10/site-packages/sklearn/metrics/_classification.py:1344: UndefinedMetricWarning: Precision and F-score are ill-defined and being set to 0.0 in labels with no predicted samples. Use `zero_division` parameter to control this behavior.\n",
      "  _warn_prf(average, modifier, msg_start, len(result))\n",
      "/opt/conda/lib/python3.10/site-packages/sklearn/metrics/_classification.py:1344: UndefinedMetricWarning: Precision and F-score are ill-defined and being set to 0.0 in labels with no predicted samples. Use `zero_division` parameter to control this behavior.\n",
      "  _warn_prf(average, modifier, msg_start, len(result))\n",
      "/opt/conda/lib/python3.10/site-packages/sklearn/metrics/_classification.py:1344: UndefinedMetricWarning: Precision and F-score are ill-defined and being set to 0.0 in labels with no predicted samples. Use `zero_division` parameter to control this behavior.\n",
      "  _warn_prf(average, modifier, msg_start, len(result))\n"
     ]
    },
    {
     "name": "stdout",
     "output_type": "stream",
     "text": [
      "Epoch: 1 TrainLoss: 0.026 ValidLoss: 1.176\n",
      "Validation Accuracy: 0.5173\n"
     ]
    },
    {
     "name": "stderr",
     "output_type": "stream",
     "text": [
      "/opt/conda/lib/python3.10/site-packages/sklearn/metrics/_classification.py:1344: UndefinedMetricWarning: Precision and F-score are ill-defined and being set to 0.0 in labels with no predicted samples. Use `zero_division` parameter to control this behavior.\n",
      "  _warn_prf(average, modifier, msg_start, len(result))\n",
      "/opt/conda/lib/python3.10/site-packages/sklearn/metrics/_classification.py:1344: UndefinedMetricWarning: Precision and F-score are ill-defined and being set to 0.0 in labels with no predicted samples. Use `zero_division` parameter to control this behavior.\n",
      "  _warn_prf(average, modifier, msg_start, len(result))\n",
      "/opt/conda/lib/python3.10/site-packages/sklearn/metrics/_classification.py:1344: UndefinedMetricWarning: Precision and F-score are ill-defined and being set to 0.0 in labels with no predicted samples. Use `zero_division` parameter to control this behavior.\n",
      "  _warn_prf(average, modifier, msg_start, len(result))\n"
     ]
    },
    {
     "name": "stdout",
     "output_type": "stream",
     "text": [
      "Epoch: 1 TrainLoss: 0.026 ValidLoss: 1.176\n",
      "Validation Accuracy: 0.5178\n"
     ]
    },
    {
     "name": "stderr",
     "output_type": "stream",
     "text": [
      "/opt/conda/lib/python3.10/site-packages/sklearn/metrics/_classification.py:1344: UndefinedMetricWarning: Precision and F-score are ill-defined and being set to 0.0 in labels with no predicted samples. Use `zero_division` parameter to control this behavior.\n",
      "  _warn_prf(average, modifier, msg_start, len(result))\n",
      "/opt/conda/lib/python3.10/site-packages/sklearn/metrics/_classification.py:1344: UndefinedMetricWarning: Precision and F-score are ill-defined and being set to 0.0 in labels with no predicted samples. Use `zero_division` parameter to control this behavior.\n",
      "  _warn_prf(average, modifier, msg_start, len(result))\n",
      "/opt/conda/lib/python3.10/site-packages/sklearn/metrics/_classification.py:1344: UndefinedMetricWarning: Precision and F-score are ill-defined and being set to 0.0 in labels with no predicted samples. Use `zero_division` parameter to control this behavior.\n",
      "  _warn_prf(average, modifier, msg_start, len(result))\n"
     ]
    },
    {
     "name": "stdout",
     "output_type": "stream",
     "text": [
      "Epoch: 1 TrainLoss: 0.025 ValidLoss: 1.177\n",
      "Validation Accuracy: 0.5183\n"
     ]
    },
    {
     "name": "stderr",
     "output_type": "stream",
     "text": [
      "/opt/conda/lib/python3.10/site-packages/sklearn/metrics/_classification.py:1344: UndefinedMetricWarning: Precision and F-score are ill-defined and being set to 0.0 in labels with no predicted samples. Use `zero_division` parameter to control this behavior.\n",
      "  _warn_prf(average, modifier, msg_start, len(result))\n",
      "/opt/conda/lib/python3.10/site-packages/sklearn/metrics/_classification.py:1344: UndefinedMetricWarning: Precision and F-score are ill-defined and being set to 0.0 in labels with no predicted samples. Use `zero_division` parameter to control this behavior.\n",
      "  _warn_prf(average, modifier, msg_start, len(result))\n",
      "/opt/conda/lib/python3.10/site-packages/sklearn/metrics/_classification.py:1344: UndefinedMetricWarning: Precision and F-score are ill-defined and being set to 0.0 in labels with no predicted samples. Use `zero_division` parameter to control this behavior.\n",
      "  _warn_prf(average, modifier, msg_start, len(result))\n"
     ]
    },
    {
     "name": "stdout",
     "output_type": "stream",
     "text": [
      "Epoch: 1 TrainLoss: 0.026 ValidLoss: 1.168\n",
      "Validation Accuracy: 0.5189\n"
     ]
    },
    {
     "name": "stderr",
     "output_type": "stream",
     "text": [
      "/opt/conda/lib/python3.10/site-packages/sklearn/metrics/_classification.py:1344: UndefinedMetricWarning: Precision and F-score are ill-defined and being set to 0.0 in labels with no predicted samples. Use `zero_division` parameter to control this behavior.\n",
      "  _warn_prf(average, modifier, msg_start, len(result))\n",
      "/opt/conda/lib/python3.10/site-packages/sklearn/metrics/_classification.py:1344: UndefinedMetricWarning: Precision and F-score are ill-defined and being set to 0.0 in labels with no predicted samples. Use `zero_division` parameter to control this behavior.\n",
      "  _warn_prf(average, modifier, msg_start, len(result))\n",
      "/opt/conda/lib/python3.10/site-packages/sklearn/metrics/_classification.py:1344: UndefinedMetricWarning: Precision and F-score are ill-defined and being set to 0.0 in labels with no predicted samples. Use `zero_division` parameter to control this behavior.\n",
      "  _warn_prf(average, modifier, msg_start, len(result))\n"
     ]
    },
    {
     "name": "stdout",
     "output_type": "stream",
     "text": [
      "Epoch: 1 TrainLoss: 0.026 ValidLoss: 1.166\n",
      "Validation Accuracy: 0.5195\n"
     ]
    },
    {
     "name": "stderr",
     "output_type": "stream",
     "text": [
      "/opt/conda/lib/python3.10/site-packages/sklearn/metrics/_classification.py:1344: UndefinedMetricWarning: Precision and F-score are ill-defined and being set to 0.0 in labels with no predicted samples. Use `zero_division` parameter to control this behavior.\n",
      "  _warn_prf(average, modifier, msg_start, len(result))\n",
      "/opt/conda/lib/python3.10/site-packages/sklearn/metrics/_classification.py:1344: UndefinedMetricWarning: Precision and F-score are ill-defined and being set to 0.0 in labels with no predicted samples. Use `zero_division` parameter to control this behavior.\n",
      "  _warn_prf(average, modifier, msg_start, len(result))\n",
      "/opt/conda/lib/python3.10/site-packages/sklearn/metrics/_classification.py:1344: UndefinedMetricWarning: Precision and F-score are ill-defined and being set to 0.0 in labels with no predicted samples. Use `zero_division` parameter to control this behavior.\n",
      "  _warn_prf(average, modifier, msg_start, len(result))\n"
     ]
    },
    {
     "name": "stdout",
     "output_type": "stream",
     "text": [
      "Epoch: 1 TrainLoss: 0.026 ValidLoss: 1.161\n",
      "Validation Accuracy: 0.5202\n"
     ]
    },
    {
     "name": "stderr",
     "output_type": "stream",
     "text": [
      "/opt/conda/lib/python3.10/site-packages/sklearn/metrics/_classification.py:1344: UndefinedMetricWarning: Precision and F-score are ill-defined and being set to 0.0 in labels with no predicted samples. Use `zero_division` parameter to control this behavior.\n",
      "  _warn_prf(average, modifier, msg_start, len(result))\n",
      "/opt/conda/lib/python3.10/site-packages/sklearn/metrics/_classification.py:1344: UndefinedMetricWarning: Precision and F-score are ill-defined and being set to 0.0 in labels with no predicted samples. Use `zero_division` parameter to control this behavior.\n",
      "  _warn_prf(average, modifier, msg_start, len(result))\n",
      "/opt/conda/lib/python3.10/site-packages/sklearn/metrics/_classification.py:1344: UndefinedMetricWarning: Precision and F-score are ill-defined and being set to 0.0 in labels with no predicted samples. Use `zero_division` parameter to control this behavior.\n",
      "  _warn_prf(average, modifier, msg_start, len(result))\n"
     ]
    },
    {
     "name": "stdout",
     "output_type": "stream",
     "text": [
      "Epoch: 1 TrainLoss: 0.025 ValidLoss: 1.166\n",
      "Validation Accuracy: 0.5205\n"
     ]
    },
    {
     "name": "stderr",
     "output_type": "stream",
     "text": [
      "/opt/conda/lib/python3.10/site-packages/sklearn/metrics/_classification.py:1344: UndefinedMetricWarning: Precision and F-score are ill-defined and being set to 0.0 in labels with no predicted samples. Use `zero_division` parameter to control this behavior.\n",
      "  _warn_prf(average, modifier, msg_start, len(result))\n",
      "/opt/conda/lib/python3.10/site-packages/sklearn/metrics/_classification.py:1344: UndefinedMetricWarning: Precision and F-score are ill-defined and being set to 0.0 in labels with no predicted samples. Use `zero_division` parameter to control this behavior.\n",
      "  _warn_prf(average, modifier, msg_start, len(result))\n",
      "/opt/conda/lib/python3.10/site-packages/sklearn/metrics/_classification.py:1344: UndefinedMetricWarning: Precision and F-score are ill-defined and being set to 0.0 in labels with no predicted samples. Use `zero_division` parameter to control this behavior.\n",
      "  _warn_prf(average, modifier, msg_start, len(result))\n"
     ]
    },
    {
     "name": "stdout",
     "output_type": "stream",
     "text": [
      "Epoch: 1 TrainLoss: 0.025 ValidLoss: 1.158\n",
      "Validation Accuracy: 0.5211\n"
     ]
    },
    {
     "name": "stderr",
     "output_type": "stream",
     "text": [
      "/opt/conda/lib/python3.10/site-packages/sklearn/metrics/_classification.py:1344: UndefinedMetricWarning: Precision and F-score are ill-defined and being set to 0.0 in labels with no predicted samples. Use `zero_division` parameter to control this behavior.\n",
      "  _warn_prf(average, modifier, msg_start, len(result))\n",
      "/opt/conda/lib/python3.10/site-packages/sklearn/metrics/_classification.py:1344: UndefinedMetricWarning: Precision and F-score are ill-defined and being set to 0.0 in labels with no predicted samples. Use `zero_division` parameter to control this behavior.\n",
      "  _warn_prf(average, modifier, msg_start, len(result))\n",
      "/opt/conda/lib/python3.10/site-packages/sklearn/metrics/_classification.py:1344: UndefinedMetricWarning: Precision and F-score are ill-defined and being set to 0.0 in labels with no predicted samples. Use `zero_division` parameter to control this behavior.\n",
      "  _warn_prf(average, modifier, msg_start, len(result))\n"
     ]
    },
    {
     "name": "stdout",
     "output_type": "stream",
     "text": [
      "Epoch: 1 TrainLoss: 0.025 ValidLoss: 1.158\n",
      "Validation Accuracy: 0.5215\n"
     ]
    },
    {
     "name": "stderr",
     "output_type": "stream",
     "text": [
      "/opt/conda/lib/python3.10/site-packages/sklearn/metrics/_classification.py:1344: UndefinedMetricWarning: Precision and F-score are ill-defined and being set to 0.0 in labels with no predicted samples. Use `zero_division` parameter to control this behavior.\n",
      "  _warn_prf(average, modifier, msg_start, len(result))\n",
      "/opt/conda/lib/python3.10/site-packages/sklearn/metrics/_classification.py:1344: UndefinedMetricWarning: Precision and F-score are ill-defined and being set to 0.0 in labels with no predicted samples. Use `zero_division` parameter to control this behavior.\n",
      "  _warn_prf(average, modifier, msg_start, len(result))\n",
      "/opt/conda/lib/python3.10/site-packages/sklearn/metrics/_classification.py:1344: UndefinedMetricWarning: Precision and F-score are ill-defined and being set to 0.0 in labels with no predicted samples. Use `zero_division` parameter to control this behavior.\n",
      "  _warn_prf(average, modifier, msg_start, len(result))\n"
     ]
    },
    {
     "name": "stdout",
     "output_type": "stream",
     "text": [
      "Epoch: 1 TrainLoss: 0.025 ValidLoss: 1.154\n",
      "Validation Accuracy: 0.5221\n"
     ]
    },
    {
     "name": "stderr",
     "output_type": "stream",
     "text": [
      "/opt/conda/lib/python3.10/site-packages/sklearn/metrics/_classification.py:1344: UndefinedMetricWarning: Precision and F-score are ill-defined and being set to 0.0 in labels with no predicted samples. Use `zero_division` parameter to control this behavior.\n",
      "  _warn_prf(average, modifier, msg_start, len(result))\n",
      "/opt/conda/lib/python3.10/site-packages/sklearn/metrics/_classification.py:1344: UndefinedMetricWarning: Precision and F-score are ill-defined and being set to 0.0 in labels with no predicted samples. Use `zero_division` parameter to control this behavior.\n",
      "  _warn_prf(average, modifier, msg_start, len(result))\n",
      "/opt/conda/lib/python3.10/site-packages/sklearn/metrics/_classification.py:1344: UndefinedMetricWarning: Precision and F-score are ill-defined and being set to 0.0 in labels with no predicted samples. Use `zero_division` parameter to control this behavior.\n",
      "  _warn_prf(average, modifier, msg_start, len(result))\n"
     ]
    },
    {
     "name": "stdout",
     "output_type": "stream",
     "text": [
      "Epoch: 1 TrainLoss: 0.025 ValidLoss: 1.165\n",
      "Validation Accuracy: 0.5228\n"
     ]
    },
    {
     "name": "stderr",
     "output_type": "stream",
     "text": [
      "/opt/conda/lib/python3.10/site-packages/sklearn/metrics/_classification.py:1344: UndefinedMetricWarning: Precision and F-score are ill-defined and being set to 0.0 in labels with no predicted samples. Use `zero_division` parameter to control this behavior.\n",
      "  _warn_prf(average, modifier, msg_start, len(result))\n",
      "/opt/conda/lib/python3.10/site-packages/sklearn/metrics/_classification.py:1344: UndefinedMetricWarning: Precision and F-score are ill-defined and being set to 0.0 in labels with no predicted samples. Use `zero_division` parameter to control this behavior.\n",
      "  _warn_prf(average, modifier, msg_start, len(result))\n",
      "/opt/conda/lib/python3.10/site-packages/sklearn/metrics/_classification.py:1344: UndefinedMetricWarning: Precision and F-score are ill-defined and being set to 0.0 in labels with no predicted samples. Use `zero_division` parameter to control this behavior.\n",
      "  _warn_prf(average, modifier, msg_start, len(result))\n"
     ]
    },
    {
     "name": "stdout",
     "output_type": "stream",
     "text": [
      "Epoch: 1 TrainLoss: 0.025 ValidLoss: 1.170\n",
      "Validation Accuracy: 0.5232\n"
     ]
    },
    {
     "name": "stderr",
     "output_type": "stream",
     "text": [
      "/opt/conda/lib/python3.10/site-packages/sklearn/metrics/_classification.py:1344: UndefinedMetricWarning: Precision and F-score are ill-defined and being set to 0.0 in labels with no predicted samples. Use `zero_division` parameter to control this behavior.\n",
      "  _warn_prf(average, modifier, msg_start, len(result))\n",
      "/opt/conda/lib/python3.10/site-packages/sklearn/metrics/_classification.py:1344: UndefinedMetricWarning: Precision and F-score are ill-defined and being set to 0.0 in labels with no predicted samples. Use `zero_division` parameter to control this behavior.\n",
      "  _warn_prf(average, modifier, msg_start, len(result))\n",
      "/opt/conda/lib/python3.10/site-packages/sklearn/metrics/_classification.py:1344: UndefinedMetricWarning: Precision and F-score are ill-defined and being set to 0.0 in labels with no predicted samples. Use `zero_division` parameter to control this behavior.\n",
      "  _warn_prf(average, modifier, msg_start, len(result))\n"
     ]
    },
    {
     "name": "stdout",
     "output_type": "stream",
     "text": [
      "Epoch: 1 TrainLoss: 0.026 ValidLoss: 1.154\n",
      "Validation Accuracy: 0.5237\n"
     ]
    },
    {
     "name": "stderr",
     "output_type": "stream",
     "text": [
      "/opt/conda/lib/python3.10/site-packages/sklearn/metrics/_classification.py:1344: UndefinedMetricWarning: Precision and F-score are ill-defined and being set to 0.0 in labels with no predicted samples. Use `zero_division` parameter to control this behavior.\n",
      "  _warn_prf(average, modifier, msg_start, len(result))\n",
      "/opt/conda/lib/python3.10/site-packages/sklearn/metrics/_classification.py:1344: UndefinedMetricWarning: Precision and F-score are ill-defined and being set to 0.0 in labels with no predicted samples. Use `zero_division` parameter to control this behavior.\n",
      "  _warn_prf(average, modifier, msg_start, len(result))\n",
      "/opt/conda/lib/python3.10/site-packages/sklearn/metrics/_classification.py:1344: UndefinedMetricWarning: Precision and F-score are ill-defined and being set to 0.0 in labels with no predicted samples. Use `zero_division` parameter to control this behavior.\n",
      "  _warn_prf(average, modifier, msg_start, len(result))\n"
     ]
    },
    {
     "name": "stdout",
     "output_type": "stream",
     "text": [
      "Epoch: 1 TrainLoss: 0.025 ValidLoss: 1.138\n",
      "Validation Accuracy: 0.5243\n"
     ]
    },
    {
     "name": "stderr",
     "output_type": "stream",
     "text": [
      "/opt/conda/lib/python3.10/site-packages/sklearn/metrics/_classification.py:1344: UndefinedMetricWarning: Precision and F-score are ill-defined and being set to 0.0 in labels with no predicted samples. Use `zero_division` parameter to control this behavior.\n",
      "  _warn_prf(average, modifier, msg_start, len(result))\n",
      "/opt/conda/lib/python3.10/site-packages/sklearn/metrics/_classification.py:1344: UndefinedMetricWarning: Precision and F-score are ill-defined and being set to 0.0 in labels with no predicted samples. Use `zero_division` parameter to control this behavior.\n",
      "  _warn_prf(average, modifier, msg_start, len(result))\n",
      "/opt/conda/lib/python3.10/site-packages/sklearn/metrics/_classification.py:1344: UndefinedMetricWarning: Precision and F-score are ill-defined and being set to 0.0 in labels with no predicted samples. Use `zero_division` parameter to control this behavior.\n",
      "  _warn_prf(average, modifier, msg_start, len(result))\n"
     ]
    },
    {
     "name": "stdout",
     "output_type": "stream",
     "text": [
      "Epoch: 1 TrainLoss: 0.026 ValidLoss: 1.285\n",
      "Validation Accuracy: 0.5239\n"
     ]
    },
    {
     "name": "stderr",
     "output_type": "stream",
     "text": [
      "/opt/conda/lib/python3.10/site-packages/sklearn/metrics/_classification.py:1344: UndefinedMetricWarning: Precision and F-score are ill-defined and being set to 0.0 in labels with no predicted samples. Use `zero_division` parameter to control this behavior.\n",
      "  _warn_prf(average, modifier, msg_start, len(result))\n",
      "/opt/conda/lib/python3.10/site-packages/sklearn/metrics/_classification.py:1344: UndefinedMetricWarning: Precision and F-score are ill-defined and being set to 0.0 in labels with no predicted samples. Use `zero_division` parameter to control this behavior.\n",
      "  _warn_prf(average, modifier, msg_start, len(result))\n",
      "/opt/conda/lib/python3.10/site-packages/sklearn/metrics/_classification.py:1344: UndefinedMetricWarning: Precision and F-score are ill-defined and being set to 0.0 in labels with no predicted samples. Use `zero_division` parameter to control this behavior.\n",
      "  _warn_prf(average, modifier, msg_start, len(result))\n"
     ]
    },
    {
     "name": "stdout",
     "output_type": "stream",
     "text": [
      "Epoch: 1 TrainLoss: 0.028 ValidLoss: 1.286\n",
      "Validation Accuracy: 0.5236\n"
     ]
    },
    {
     "name": "stderr",
     "output_type": "stream",
     "text": [
      "/opt/conda/lib/python3.10/site-packages/sklearn/metrics/_classification.py:1344: UndefinedMetricWarning: Precision and F-score are ill-defined and being set to 0.0 in labels with no predicted samples. Use `zero_division` parameter to control this behavior.\n",
      "  _warn_prf(average, modifier, msg_start, len(result))\n",
      "/opt/conda/lib/python3.10/site-packages/sklearn/metrics/_classification.py:1344: UndefinedMetricWarning: Precision and F-score are ill-defined and being set to 0.0 in labels with no predicted samples. Use `zero_division` parameter to control this behavior.\n",
      "  _warn_prf(average, modifier, msg_start, len(result))\n",
      "/opt/conda/lib/python3.10/site-packages/sklearn/metrics/_classification.py:1344: UndefinedMetricWarning: Precision and F-score are ill-defined and being set to 0.0 in labels with no predicted samples. Use `zero_division` parameter to control this behavior.\n",
      "  _warn_prf(average, modifier, msg_start, len(result))\n"
     ]
    },
    {
     "name": "stdout",
     "output_type": "stream",
     "text": [
      "Epoch: 1 TrainLoss: 0.028 ValidLoss: 1.288\n",
      "Validation Accuracy: 0.5233\n"
     ]
    },
    {
     "name": "stderr",
     "output_type": "stream",
     "text": [
      "/opt/conda/lib/python3.10/site-packages/sklearn/metrics/_classification.py:1344: UndefinedMetricWarning: Precision and F-score are ill-defined and being set to 0.0 in labels with no predicted samples. Use `zero_division` parameter to control this behavior.\n",
      "  _warn_prf(average, modifier, msg_start, len(result))\n",
      "/opt/conda/lib/python3.10/site-packages/sklearn/metrics/_classification.py:1344: UndefinedMetricWarning: Precision and F-score are ill-defined and being set to 0.0 in labels with no predicted samples. Use `zero_division` parameter to control this behavior.\n",
      "  _warn_prf(average, modifier, msg_start, len(result))\n",
      "/opt/conda/lib/python3.10/site-packages/sklearn/metrics/_classification.py:1344: UndefinedMetricWarning: Precision and F-score are ill-defined and being set to 0.0 in labels with no predicted samples. Use `zero_division` parameter to control this behavior.\n",
      "  _warn_prf(average, modifier, msg_start, len(result))\n"
     ]
    },
    {
     "name": "stdout",
     "output_type": "stream",
     "text": [
      "Epoch: 1 TrainLoss: 0.028 ValidLoss: 1.286\n",
      "Validation Accuracy: 0.5230\n"
     ]
    },
    {
     "name": "stderr",
     "output_type": "stream",
     "text": [
      "/opt/conda/lib/python3.10/site-packages/sklearn/metrics/_classification.py:1344: UndefinedMetricWarning: Precision and F-score are ill-defined and being set to 0.0 in labels with no predicted samples. Use `zero_division` parameter to control this behavior.\n",
      "  _warn_prf(average, modifier, msg_start, len(result))\n",
      "/opt/conda/lib/python3.10/site-packages/sklearn/metrics/_classification.py:1344: UndefinedMetricWarning: Precision and F-score are ill-defined and being set to 0.0 in labels with no predicted samples. Use `zero_division` parameter to control this behavior.\n",
      "  _warn_prf(average, modifier, msg_start, len(result))\n",
      "/opt/conda/lib/python3.10/site-packages/sklearn/metrics/_classification.py:1344: UndefinedMetricWarning: Precision and F-score are ill-defined and being set to 0.0 in labels with no predicted samples. Use `zero_division` parameter to control this behavior.\n",
      "  _warn_prf(average, modifier, msg_start, len(result))\n"
     ]
    },
    {
     "name": "stdout",
     "output_type": "stream",
     "text": [
      "Epoch: 1 TrainLoss: 0.028 ValidLoss: 1.286\n",
      "Validation Accuracy: 0.5227\n"
     ]
    },
    {
     "name": "stderr",
     "output_type": "stream",
     "text": [
      "/opt/conda/lib/python3.10/site-packages/sklearn/metrics/_classification.py:1344: UndefinedMetricWarning: Precision and F-score are ill-defined and being set to 0.0 in labels with no predicted samples. Use `zero_division` parameter to control this behavior.\n",
      "  _warn_prf(average, modifier, msg_start, len(result))\n",
      "/opt/conda/lib/python3.10/site-packages/sklearn/metrics/_classification.py:1344: UndefinedMetricWarning: Precision and F-score are ill-defined and being set to 0.0 in labels with no predicted samples. Use `zero_division` parameter to control this behavior.\n",
      "  _warn_prf(average, modifier, msg_start, len(result))\n",
      "/opt/conda/lib/python3.10/site-packages/sklearn/metrics/_classification.py:1344: UndefinedMetricWarning: Precision and F-score are ill-defined and being set to 0.0 in labels with no predicted samples. Use `zero_division` parameter to control this behavior.\n",
      "  _warn_prf(average, modifier, msg_start, len(result))\n"
     ]
    },
    {
     "name": "stdout",
     "output_type": "stream",
     "text": [
      "Epoch: 1 TrainLoss: 0.028 ValidLoss: 1.285\n",
      "Validation Accuracy: 0.5224\n"
     ]
    },
    {
     "name": "stderr",
     "output_type": "stream",
     "text": [
      "/opt/conda/lib/python3.10/site-packages/sklearn/metrics/_classification.py:1344: UndefinedMetricWarning: Precision and F-score are ill-defined and being set to 0.0 in labels with no predicted samples. Use `zero_division` parameter to control this behavior.\n",
      "  _warn_prf(average, modifier, msg_start, len(result))\n",
      "/opt/conda/lib/python3.10/site-packages/sklearn/metrics/_classification.py:1344: UndefinedMetricWarning: Precision and F-score are ill-defined and being set to 0.0 in labels with no predicted samples. Use `zero_division` parameter to control this behavior.\n",
      "  _warn_prf(average, modifier, msg_start, len(result))\n",
      "/opt/conda/lib/python3.10/site-packages/sklearn/metrics/_classification.py:1344: UndefinedMetricWarning: Precision and F-score are ill-defined and being set to 0.0 in labels with no predicted samples. Use `zero_division` parameter to control this behavior.\n",
      "  _warn_prf(average, modifier, msg_start, len(result))\n"
     ]
    },
    {
     "name": "stdout",
     "output_type": "stream",
     "text": [
      "Epoch: 1 TrainLoss: 0.028 ValidLoss: 1.286\n",
      "Validation Accuracy: 0.5222\n"
     ]
    },
    {
     "name": "stderr",
     "output_type": "stream",
     "text": [
      "/opt/conda/lib/python3.10/site-packages/sklearn/metrics/_classification.py:1344: UndefinedMetricWarning: Precision and F-score are ill-defined and being set to 0.0 in labels with no predicted samples. Use `zero_division` parameter to control this behavior.\n",
      "  _warn_prf(average, modifier, msg_start, len(result))\n",
      "/opt/conda/lib/python3.10/site-packages/sklearn/metrics/_classification.py:1344: UndefinedMetricWarning: Precision and F-score are ill-defined and being set to 0.0 in labels with no predicted samples. Use `zero_division` parameter to control this behavior.\n",
      "  _warn_prf(average, modifier, msg_start, len(result))\n",
      "/opt/conda/lib/python3.10/site-packages/sklearn/metrics/_classification.py:1344: UndefinedMetricWarning: Precision and F-score are ill-defined and being set to 0.0 in labels with no predicted samples. Use `zero_division` parameter to control this behavior.\n",
      "  _warn_prf(average, modifier, msg_start, len(result))\n"
     ]
    },
    {
     "name": "stdout",
     "output_type": "stream",
     "text": [
      "Epoch: 1 TrainLoss: 0.028 ValidLoss: 1.284\n",
      "Validation Accuracy: 0.5219\n"
     ]
    },
    {
     "name": "stderr",
     "output_type": "stream",
     "text": [
      "/opt/conda/lib/python3.10/site-packages/sklearn/metrics/_classification.py:1344: UndefinedMetricWarning: Precision and F-score are ill-defined and being set to 0.0 in labels with no predicted samples. Use `zero_division` parameter to control this behavior.\n",
      "  _warn_prf(average, modifier, msg_start, len(result))\n",
      "/opt/conda/lib/python3.10/site-packages/sklearn/metrics/_classification.py:1344: UndefinedMetricWarning: Precision and F-score are ill-defined and being set to 0.0 in labels with no predicted samples. Use `zero_division` parameter to control this behavior.\n",
      "  _warn_prf(average, modifier, msg_start, len(result))\n",
      "/opt/conda/lib/python3.10/site-packages/sklearn/metrics/_classification.py:1344: UndefinedMetricWarning: Precision and F-score are ill-defined and being set to 0.0 in labels with no predicted samples. Use `zero_division` parameter to control this behavior.\n",
      "  _warn_prf(average, modifier, msg_start, len(result))\n"
     ]
    },
    {
     "name": "stdout",
     "output_type": "stream",
     "text": [
      "Epoch: 1 TrainLoss: 0.028 ValidLoss: 1.284\n",
      "Validation Accuracy: 0.5217\n"
     ]
    },
    {
     "name": "stderr",
     "output_type": "stream",
     "text": [
      "/opt/conda/lib/python3.10/site-packages/sklearn/metrics/_classification.py:1344: UndefinedMetricWarning: Precision and F-score are ill-defined and being set to 0.0 in labels with no predicted samples. Use `zero_division` parameter to control this behavior.\n",
      "  _warn_prf(average, modifier, msg_start, len(result))\n",
      "/opt/conda/lib/python3.10/site-packages/sklearn/metrics/_classification.py:1344: UndefinedMetricWarning: Precision and F-score are ill-defined and being set to 0.0 in labels with no predicted samples. Use `zero_division` parameter to control this behavior.\n",
      "  _warn_prf(average, modifier, msg_start, len(result))\n",
      "/opt/conda/lib/python3.10/site-packages/sklearn/metrics/_classification.py:1344: UndefinedMetricWarning: Precision and F-score are ill-defined and being set to 0.0 in labels with no predicted samples. Use `zero_division` parameter to control this behavior.\n",
      "  _warn_prf(average, modifier, msg_start, len(result))\n"
     ]
    },
    {
     "name": "stdout",
     "output_type": "stream",
     "text": [
      "Epoch: 1 TrainLoss: 0.028 ValidLoss: 1.287\n",
      "Validation Accuracy: 0.5215\n"
     ]
    },
    {
     "name": "stderr",
     "output_type": "stream",
     "text": [
      "/opt/conda/lib/python3.10/site-packages/sklearn/metrics/_classification.py:1344: UndefinedMetricWarning: Precision and F-score are ill-defined and being set to 0.0 in labels with no predicted samples. Use `zero_division` parameter to control this behavior.\n",
      "  _warn_prf(average, modifier, msg_start, len(result))\n",
      "/opt/conda/lib/python3.10/site-packages/sklearn/metrics/_classification.py:1344: UndefinedMetricWarning: Precision and F-score are ill-defined and being set to 0.0 in labels with no predicted samples. Use `zero_division` parameter to control this behavior.\n",
      "  _warn_prf(average, modifier, msg_start, len(result))\n",
      "/opt/conda/lib/python3.10/site-packages/sklearn/metrics/_classification.py:1344: UndefinedMetricWarning: Precision and F-score are ill-defined and being set to 0.0 in labels with no predicted samples. Use `zero_division` parameter to control this behavior.\n",
      "  _warn_prf(average, modifier, msg_start, len(result))\n"
     ]
    },
    {
     "name": "stdout",
     "output_type": "stream",
     "text": [
      "Epoch: 1 TrainLoss: 0.028 ValidLoss: 1.286\n",
      "Validation Accuracy: 0.5213\n"
     ]
    },
    {
     "name": "stderr",
     "output_type": "stream",
     "text": [
      "/opt/conda/lib/python3.10/site-packages/sklearn/metrics/_classification.py:1344: UndefinedMetricWarning: Precision and F-score are ill-defined and being set to 0.0 in labels with no predicted samples. Use `zero_division` parameter to control this behavior.\n",
      "  _warn_prf(average, modifier, msg_start, len(result))\n",
      "/opt/conda/lib/python3.10/site-packages/sklearn/metrics/_classification.py:1344: UndefinedMetricWarning: Precision and F-score are ill-defined and being set to 0.0 in labels with no predicted samples. Use `zero_division` parameter to control this behavior.\n",
      "  _warn_prf(average, modifier, msg_start, len(result))\n",
      "/opt/conda/lib/python3.10/site-packages/sklearn/metrics/_classification.py:1344: UndefinedMetricWarning: Precision and F-score are ill-defined and being set to 0.0 in labels with no predicted samples. Use `zero_division` parameter to control this behavior.\n",
      "  _warn_prf(average, modifier, msg_start, len(result))\n"
     ]
    },
    {
     "name": "stdout",
     "output_type": "stream",
     "text": [
      "Epoch: 1 TrainLoss: 0.028 ValidLoss: 1.286\n",
      "Validation Accuracy: 0.5211\n"
     ]
    },
    {
     "name": "stderr",
     "output_type": "stream",
     "text": [
      "/opt/conda/lib/python3.10/site-packages/sklearn/metrics/_classification.py:1344: UndefinedMetricWarning: Precision and F-score are ill-defined and being set to 0.0 in labels with no predicted samples. Use `zero_division` parameter to control this behavior.\n",
      "  _warn_prf(average, modifier, msg_start, len(result))\n",
      "/opt/conda/lib/python3.10/site-packages/sklearn/metrics/_classification.py:1344: UndefinedMetricWarning: Precision and F-score are ill-defined and being set to 0.0 in labels with no predicted samples. Use `zero_division` parameter to control this behavior.\n",
      "  _warn_prf(average, modifier, msg_start, len(result))\n",
      "/opt/conda/lib/python3.10/site-packages/sklearn/metrics/_classification.py:1344: UndefinedMetricWarning: Precision and F-score are ill-defined and being set to 0.0 in labels with no predicted samples. Use `zero_division` parameter to control this behavior.\n",
      "  _warn_prf(average, modifier, msg_start, len(result))\n"
     ]
    },
    {
     "name": "stdout",
     "output_type": "stream",
     "text": [
      "Epoch: 1 TrainLoss: 0.028 ValidLoss: 1.286\n",
      "Validation Accuracy: 0.5209\n"
     ]
    },
    {
     "name": "stderr",
     "output_type": "stream",
     "text": [
      "/opt/conda/lib/python3.10/site-packages/sklearn/metrics/_classification.py:1344: UndefinedMetricWarning: Precision and F-score are ill-defined and being set to 0.0 in labels with no predicted samples. Use `zero_division` parameter to control this behavior.\n",
      "  _warn_prf(average, modifier, msg_start, len(result))\n",
      "/opt/conda/lib/python3.10/site-packages/sklearn/metrics/_classification.py:1344: UndefinedMetricWarning: Precision and F-score are ill-defined and being set to 0.0 in labels with no predicted samples. Use `zero_division` parameter to control this behavior.\n",
      "  _warn_prf(average, modifier, msg_start, len(result))\n",
      "/opt/conda/lib/python3.10/site-packages/sklearn/metrics/_classification.py:1344: UndefinedMetricWarning: Precision and F-score are ill-defined and being set to 0.0 in labels with no predicted samples. Use `zero_division` parameter to control this behavior.\n",
      "  _warn_prf(average, modifier, msg_start, len(result))\n"
     ]
    },
    {
     "name": "stdout",
     "output_type": "stream",
     "text": [
      "Epoch: 2 TrainLoss: 0.019 ValidLoss: 1.281\n",
      "Validation Accuracy: 0.5127\n"
     ]
    },
    {
     "name": "stderr",
     "output_type": "stream",
     "text": [
      "/opt/conda/lib/python3.10/site-packages/sklearn/metrics/_classification.py:1344: UndefinedMetricWarning: Precision and F-score are ill-defined and being set to 0.0 in labels with no predicted samples. Use `zero_division` parameter to control this behavior.\n",
      "  _warn_prf(average, modifier, msg_start, len(result))\n",
      "/opt/conda/lib/python3.10/site-packages/sklearn/metrics/_classification.py:1344: UndefinedMetricWarning: Precision and F-score are ill-defined and being set to 0.0 in labels with no predicted samples. Use `zero_division` parameter to control this behavior.\n",
      "  _warn_prf(average, modifier, msg_start, len(result))\n",
      "/opt/conda/lib/python3.10/site-packages/sklearn/metrics/_classification.py:1344: UndefinedMetricWarning: Precision and F-score are ill-defined and being set to 0.0 in labels with no predicted samples. Use `zero_division` parameter to control this behavior.\n",
      "  _warn_prf(average, modifier, msg_start, len(result))\n"
     ]
    },
    {
     "name": "stdout",
     "output_type": "stream",
     "text": [
      "Epoch: 2 TrainLoss: 0.028 ValidLoss: 1.285\n",
      "Validation Accuracy: 0.5127\n"
     ]
    },
    {
     "name": "stderr",
     "output_type": "stream",
     "text": [
      "/opt/conda/lib/python3.10/site-packages/sklearn/metrics/_classification.py:1344: UndefinedMetricWarning: Precision and F-score are ill-defined and being set to 0.0 in labels with no predicted samples. Use `zero_division` parameter to control this behavior.\n",
      "  _warn_prf(average, modifier, msg_start, len(result))\n",
      "/opt/conda/lib/python3.10/site-packages/sklearn/metrics/_classification.py:1344: UndefinedMetricWarning: Precision and F-score are ill-defined and being set to 0.0 in labels with no predicted samples. Use `zero_division` parameter to control this behavior.\n",
      "  _warn_prf(average, modifier, msg_start, len(result))\n",
      "/opt/conda/lib/python3.10/site-packages/sklearn/metrics/_classification.py:1344: UndefinedMetricWarning: Precision and F-score are ill-defined and being set to 0.0 in labels with no predicted samples. Use `zero_division` parameter to control this behavior.\n",
      "  _warn_prf(average, modifier, msg_start, len(result))\n"
     ]
    },
    {
     "name": "stdout",
     "output_type": "stream",
     "text": [
      "Epoch: 2 TrainLoss: 0.027 ValidLoss: 1.286\n",
      "Validation Accuracy: 0.5125\n"
     ]
    },
    {
     "name": "stderr",
     "output_type": "stream",
     "text": [
      "/opt/conda/lib/python3.10/site-packages/sklearn/metrics/_classification.py:1344: UndefinedMetricWarning: Precision and F-score are ill-defined and being set to 0.0 in labels with no predicted samples. Use `zero_division` parameter to control this behavior.\n",
      "  _warn_prf(average, modifier, msg_start, len(result))\n",
      "/opt/conda/lib/python3.10/site-packages/sklearn/metrics/_classification.py:1344: UndefinedMetricWarning: Precision and F-score are ill-defined and being set to 0.0 in labels with no predicted samples. Use `zero_division` parameter to control this behavior.\n",
      "  _warn_prf(average, modifier, msg_start, len(result))\n",
      "/opt/conda/lib/python3.10/site-packages/sklearn/metrics/_classification.py:1344: UndefinedMetricWarning: Precision and F-score are ill-defined and being set to 0.0 in labels with no predicted samples. Use `zero_division` parameter to control this behavior.\n",
      "  _warn_prf(average, modifier, msg_start, len(result))\n"
     ]
    },
    {
     "name": "stdout",
     "output_type": "stream",
     "text": [
      "Epoch: 2 TrainLoss: 0.028 ValidLoss: 1.285\n",
      "Validation Accuracy: 0.5125\n"
     ]
    },
    {
     "name": "stderr",
     "output_type": "stream",
     "text": [
      "/opt/conda/lib/python3.10/site-packages/sklearn/metrics/_classification.py:1344: UndefinedMetricWarning: Precision and F-score are ill-defined and being set to 0.0 in labels with no predicted samples. Use `zero_division` parameter to control this behavior.\n",
      "  _warn_prf(average, modifier, msg_start, len(result))\n",
      "/opt/conda/lib/python3.10/site-packages/sklearn/metrics/_classification.py:1344: UndefinedMetricWarning: Precision and F-score are ill-defined and being set to 0.0 in labels with no predicted samples. Use `zero_division` parameter to control this behavior.\n",
      "  _warn_prf(average, modifier, msg_start, len(result))\n",
      "/opt/conda/lib/python3.10/site-packages/sklearn/metrics/_classification.py:1344: UndefinedMetricWarning: Precision and F-score are ill-defined and being set to 0.0 in labels with no predicted samples. Use `zero_division` parameter to control this behavior.\n",
      "  _warn_prf(average, modifier, msg_start, len(result))\n"
     ]
    },
    {
     "name": "stdout",
     "output_type": "stream",
     "text": [
      "Epoch: 2 TrainLoss: 0.028 ValidLoss: 1.284\n",
      "Validation Accuracy: 0.5126\n"
     ]
    },
    {
     "name": "stderr",
     "output_type": "stream",
     "text": [
      "/opt/conda/lib/python3.10/site-packages/sklearn/metrics/_classification.py:1344: UndefinedMetricWarning: Precision and F-score are ill-defined and being set to 0.0 in labels with no predicted samples. Use `zero_division` parameter to control this behavior.\n",
      "  _warn_prf(average, modifier, msg_start, len(result))\n",
      "/opt/conda/lib/python3.10/site-packages/sklearn/metrics/_classification.py:1344: UndefinedMetricWarning: Precision and F-score are ill-defined and being set to 0.0 in labels with no predicted samples. Use `zero_division` parameter to control this behavior.\n",
      "  _warn_prf(average, modifier, msg_start, len(result))\n",
      "/opt/conda/lib/python3.10/site-packages/sklearn/metrics/_classification.py:1344: UndefinedMetricWarning: Precision and F-score are ill-defined and being set to 0.0 in labels with no predicted samples. Use `zero_division` parameter to control this behavior.\n",
      "  _warn_prf(average, modifier, msg_start, len(result))\n"
     ]
    },
    {
     "name": "stdout",
     "output_type": "stream",
     "text": [
      "Epoch: 2 TrainLoss: 0.028 ValidLoss: 1.285\n",
      "Validation Accuracy: 0.5126\n"
     ]
    },
    {
     "name": "stderr",
     "output_type": "stream",
     "text": [
      "/opt/conda/lib/python3.10/site-packages/sklearn/metrics/_classification.py:1344: UndefinedMetricWarning: Precision and F-score are ill-defined and being set to 0.0 in labels with no predicted samples. Use `zero_division` parameter to control this behavior.\n",
      "  _warn_prf(average, modifier, msg_start, len(result))\n",
      "/opt/conda/lib/python3.10/site-packages/sklearn/metrics/_classification.py:1344: UndefinedMetricWarning: Precision and F-score are ill-defined and being set to 0.0 in labels with no predicted samples. Use `zero_division` parameter to control this behavior.\n",
      "  _warn_prf(average, modifier, msg_start, len(result))\n",
      "/opt/conda/lib/python3.10/site-packages/sklearn/metrics/_classification.py:1344: UndefinedMetricWarning: Precision and F-score are ill-defined and being set to 0.0 in labels with no predicted samples. Use `zero_division` parameter to control this behavior.\n",
      "  _warn_prf(average, modifier, msg_start, len(result))\n"
     ]
    },
    {
     "name": "stdout",
     "output_type": "stream",
     "text": [
      "Epoch: 2 TrainLoss: 0.027 ValidLoss: 1.284\n",
      "Validation Accuracy: 0.5127\n"
     ]
    },
    {
     "name": "stderr",
     "output_type": "stream",
     "text": [
      "/opt/conda/lib/python3.10/site-packages/sklearn/metrics/_classification.py:1344: UndefinedMetricWarning: Precision and F-score are ill-defined and being set to 0.0 in labels with no predicted samples. Use `zero_division` parameter to control this behavior.\n",
      "  _warn_prf(average, modifier, msg_start, len(result))\n",
      "/opt/conda/lib/python3.10/site-packages/sklearn/metrics/_classification.py:1344: UndefinedMetricWarning: Precision and F-score are ill-defined and being set to 0.0 in labels with no predicted samples. Use `zero_division` parameter to control this behavior.\n",
      "  _warn_prf(average, modifier, msg_start, len(result))\n",
      "/opt/conda/lib/python3.10/site-packages/sklearn/metrics/_classification.py:1344: UndefinedMetricWarning: Precision and F-score are ill-defined and being set to 0.0 in labels with no predicted samples. Use `zero_division` parameter to control this behavior.\n",
      "  _warn_prf(average, modifier, msg_start, len(result))\n"
     ]
    },
    {
     "name": "stdout",
     "output_type": "stream",
     "text": [
      "Epoch: 2 TrainLoss: 0.028 ValidLoss: 1.284\n",
      "Validation Accuracy: 0.5127\n"
     ]
    },
    {
     "name": "stderr",
     "output_type": "stream",
     "text": [
      "/opt/conda/lib/python3.10/site-packages/sklearn/metrics/_classification.py:1344: UndefinedMetricWarning: Precision and F-score are ill-defined and being set to 0.0 in labels with no predicted samples. Use `zero_division` parameter to control this behavior.\n",
      "  _warn_prf(average, modifier, msg_start, len(result))\n",
      "/opt/conda/lib/python3.10/site-packages/sklearn/metrics/_classification.py:1344: UndefinedMetricWarning: Precision and F-score are ill-defined and being set to 0.0 in labels with no predicted samples. Use `zero_division` parameter to control this behavior.\n",
      "  _warn_prf(average, modifier, msg_start, len(result))\n",
      "/opt/conda/lib/python3.10/site-packages/sklearn/metrics/_classification.py:1344: UndefinedMetricWarning: Precision and F-score are ill-defined and being set to 0.0 in labels with no predicted samples. Use `zero_division` parameter to control this behavior.\n",
      "  _warn_prf(average, modifier, msg_start, len(result))\n"
     ]
    },
    {
     "name": "stdout",
     "output_type": "stream",
     "text": [
      "Epoch: 2 TrainLoss: 0.028 ValidLoss: 1.288\n",
      "Validation Accuracy: 0.5126\n"
     ]
    },
    {
     "name": "stderr",
     "output_type": "stream",
     "text": [
      "/opt/conda/lib/python3.10/site-packages/sklearn/metrics/_classification.py:1344: UndefinedMetricWarning: Precision and F-score are ill-defined and being set to 0.0 in labels with no predicted samples. Use `zero_division` parameter to control this behavior.\n",
      "  _warn_prf(average, modifier, msg_start, len(result))\n",
      "/opt/conda/lib/python3.10/site-packages/sklearn/metrics/_classification.py:1344: UndefinedMetricWarning: Precision and F-score are ill-defined and being set to 0.0 in labels with no predicted samples. Use `zero_division` parameter to control this behavior.\n",
      "  _warn_prf(average, modifier, msg_start, len(result))\n",
      "/opt/conda/lib/python3.10/site-packages/sklearn/metrics/_classification.py:1344: UndefinedMetricWarning: Precision and F-score are ill-defined and being set to 0.0 in labels with no predicted samples. Use `zero_division` parameter to control this behavior.\n",
      "  _warn_prf(average, modifier, msg_start, len(result))\n"
     ]
    },
    {
     "name": "stdout",
     "output_type": "stream",
     "text": [
      "Epoch: 2 TrainLoss: 0.028 ValidLoss: 1.284\n",
      "Validation Accuracy: 0.5126\n"
     ]
    },
    {
     "name": "stderr",
     "output_type": "stream",
     "text": [
      "/opt/conda/lib/python3.10/site-packages/sklearn/metrics/_classification.py:1344: UndefinedMetricWarning: Precision and F-score are ill-defined and being set to 0.0 in labels with no predicted samples. Use `zero_division` parameter to control this behavior.\n",
      "  _warn_prf(average, modifier, msg_start, len(result))\n",
      "/opt/conda/lib/python3.10/site-packages/sklearn/metrics/_classification.py:1344: UndefinedMetricWarning: Precision and F-score are ill-defined and being set to 0.0 in labels with no predicted samples. Use `zero_division` parameter to control this behavior.\n",
      "  _warn_prf(average, modifier, msg_start, len(result))\n",
      "/opt/conda/lib/python3.10/site-packages/sklearn/metrics/_classification.py:1344: UndefinedMetricWarning: Precision and F-score are ill-defined and being set to 0.0 in labels with no predicted samples. Use `zero_division` parameter to control this behavior.\n",
      "  _warn_prf(average, modifier, msg_start, len(result))\n"
     ]
    },
    {
     "name": "stdout",
     "output_type": "stream",
     "text": [
      "Epoch: 2 TrainLoss: 0.028 ValidLoss: 1.285\n",
      "Validation Accuracy: 0.5126\n"
     ]
    },
    {
     "name": "stderr",
     "output_type": "stream",
     "text": [
      "/opt/conda/lib/python3.10/site-packages/sklearn/metrics/_classification.py:1344: UndefinedMetricWarning: Precision and F-score are ill-defined and being set to 0.0 in labels with no predicted samples. Use `zero_division` parameter to control this behavior.\n",
      "  _warn_prf(average, modifier, msg_start, len(result))\n",
      "/opt/conda/lib/python3.10/site-packages/sklearn/metrics/_classification.py:1344: UndefinedMetricWarning: Precision and F-score are ill-defined and being set to 0.0 in labels with no predicted samples. Use `zero_division` parameter to control this behavior.\n",
      "  _warn_prf(average, modifier, msg_start, len(result))\n",
      "/opt/conda/lib/python3.10/site-packages/sklearn/metrics/_classification.py:1344: UndefinedMetricWarning: Precision and F-score are ill-defined and being set to 0.0 in labels with no predicted samples. Use `zero_division` parameter to control this behavior.\n",
      "  _warn_prf(average, modifier, msg_start, len(result))\n"
     ]
    },
    {
     "name": "stdout",
     "output_type": "stream",
     "text": [
      "Epoch: 2 TrainLoss: 0.028 ValidLoss: 1.288\n",
      "Validation Accuracy: 0.5126\n"
     ]
    },
    {
     "name": "stderr",
     "output_type": "stream",
     "text": [
      "/opt/conda/lib/python3.10/site-packages/sklearn/metrics/_classification.py:1344: UndefinedMetricWarning: Precision and F-score are ill-defined and being set to 0.0 in labels with no predicted samples. Use `zero_division` parameter to control this behavior.\n",
      "  _warn_prf(average, modifier, msg_start, len(result))\n",
      "/opt/conda/lib/python3.10/site-packages/sklearn/metrics/_classification.py:1344: UndefinedMetricWarning: Precision and F-score are ill-defined and being set to 0.0 in labels with no predicted samples. Use `zero_division` parameter to control this behavior.\n",
      "  _warn_prf(average, modifier, msg_start, len(result))\n",
      "/opt/conda/lib/python3.10/site-packages/sklearn/metrics/_classification.py:1344: UndefinedMetricWarning: Precision and F-score are ill-defined and being set to 0.0 in labels with no predicted samples. Use `zero_division` parameter to control this behavior.\n",
      "  _warn_prf(average, modifier, msg_start, len(result))\n"
     ]
    },
    {
     "name": "stdout",
     "output_type": "stream",
     "text": [
      "Epoch: 2 TrainLoss: 0.028 ValidLoss: 1.288\n",
      "Validation Accuracy: 0.5126\n"
     ]
    },
    {
     "name": "stderr",
     "output_type": "stream",
     "text": [
      "/opt/conda/lib/python3.10/site-packages/sklearn/metrics/_classification.py:1344: UndefinedMetricWarning: Precision and F-score are ill-defined and being set to 0.0 in labels with no predicted samples. Use `zero_division` parameter to control this behavior.\n",
      "  _warn_prf(average, modifier, msg_start, len(result))\n",
      "/opt/conda/lib/python3.10/site-packages/sklearn/metrics/_classification.py:1344: UndefinedMetricWarning: Precision and F-score are ill-defined and being set to 0.0 in labels with no predicted samples. Use `zero_division` parameter to control this behavior.\n",
      "  _warn_prf(average, modifier, msg_start, len(result))\n",
      "/opt/conda/lib/python3.10/site-packages/sklearn/metrics/_classification.py:1344: UndefinedMetricWarning: Precision and F-score are ill-defined and being set to 0.0 in labels with no predicted samples. Use `zero_division` parameter to control this behavior.\n",
      "  _warn_prf(average, modifier, msg_start, len(result))\n"
     ]
    },
    {
     "name": "stdout",
     "output_type": "stream",
     "text": [
      "Epoch: 2 TrainLoss: 0.028 ValidLoss: 1.285\n",
      "Validation Accuracy: 0.5126\n"
     ]
    },
    {
     "name": "stderr",
     "output_type": "stream",
     "text": [
      "/opt/conda/lib/python3.10/site-packages/sklearn/metrics/_classification.py:1344: UndefinedMetricWarning: Precision and F-score are ill-defined and being set to 0.0 in labels with no predicted samples. Use `zero_division` parameter to control this behavior.\n",
      "  _warn_prf(average, modifier, msg_start, len(result))\n",
      "/opt/conda/lib/python3.10/site-packages/sklearn/metrics/_classification.py:1344: UndefinedMetricWarning: Precision and F-score are ill-defined and being set to 0.0 in labels with no predicted samples. Use `zero_division` parameter to control this behavior.\n",
      "  _warn_prf(average, modifier, msg_start, len(result))\n",
      "/opt/conda/lib/python3.10/site-packages/sklearn/metrics/_classification.py:1344: UndefinedMetricWarning: Precision and F-score are ill-defined and being set to 0.0 in labels with no predicted samples. Use `zero_division` parameter to control this behavior.\n",
      "  _warn_prf(average, modifier, msg_start, len(result))\n"
     ]
    },
    {
     "name": "stdout",
     "output_type": "stream",
     "text": [
      "Epoch: 2 TrainLoss: 0.028 ValidLoss: 1.287\n",
      "Validation Accuracy: 0.5126\n"
     ]
    },
    {
     "name": "stderr",
     "output_type": "stream",
     "text": [
      "/opt/conda/lib/python3.10/site-packages/sklearn/metrics/_classification.py:1344: UndefinedMetricWarning: Precision and F-score are ill-defined and being set to 0.0 in labels with no predicted samples. Use `zero_division` parameter to control this behavior.\n",
      "  _warn_prf(average, modifier, msg_start, len(result))\n",
      "/opt/conda/lib/python3.10/site-packages/sklearn/metrics/_classification.py:1344: UndefinedMetricWarning: Precision and F-score are ill-defined and being set to 0.0 in labels with no predicted samples. Use `zero_division` parameter to control this behavior.\n",
      "  _warn_prf(average, modifier, msg_start, len(result))\n",
      "/opt/conda/lib/python3.10/site-packages/sklearn/metrics/_classification.py:1344: UndefinedMetricWarning: Precision and F-score are ill-defined and being set to 0.0 in labels with no predicted samples. Use `zero_division` parameter to control this behavior.\n",
      "  _warn_prf(average, modifier, msg_start, len(result))\n"
     ]
    },
    {
     "name": "stdout",
     "output_type": "stream",
     "text": [
      "Epoch: 2 TrainLoss: 0.028 ValidLoss: 1.284\n",
      "Validation Accuracy: 0.5126\n"
     ]
    },
    {
     "name": "stderr",
     "output_type": "stream",
     "text": [
      "/opt/conda/lib/python3.10/site-packages/sklearn/metrics/_classification.py:1344: UndefinedMetricWarning: Precision and F-score are ill-defined and being set to 0.0 in labels with no predicted samples. Use `zero_division` parameter to control this behavior.\n",
      "  _warn_prf(average, modifier, msg_start, len(result))\n",
      "/opt/conda/lib/python3.10/site-packages/sklearn/metrics/_classification.py:1344: UndefinedMetricWarning: Precision and F-score are ill-defined and being set to 0.0 in labels with no predicted samples. Use `zero_division` parameter to control this behavior.\n",
      "  _warn_prf(average, modifier, msg_start, len(result))\n",
      "/opt/conda/lib/python3.10/site-packages/sklearn/metrics/_classification.py:1344: UndefinedMetricWarning: Precision and F-score are ill-defined and being set to 0.0 in labels with no predicted samples. Use `zero_division` parameter to control this behavior.\n",
      "  _warn_prf(average, modifier, msg_start, len(result))\n"
     ]
    },
    {
     "name": "stdout",
     "output_type": "stream",
     "text": [
      "Epoch: 2 TrainLoss: 0.028 ValidLoss: 1.285\n",
      "Validation Accuracy: 0.5126\n"
     ]
    },
    {
     "name": "stderr",
     "output_type": "stream",
     "text": [
      "/opt/conda/lib/python3.10/site-packages/sklearn/metrics/_classification.py:1344: UndefinedMetricWarning: Precision and F-score are ill-defined and being set to 0.0 in labels with no predicted samples. Use `zero_division` parameter to control this behavior.\n",
      "  _warn_prf(average, modifier, msg_start, len(result))\n",
      "/opt/conda/lib/python3.10/site-packages/sklearn/metrics/_classification.py:1344: UndefinedMetricWarning: Precision and F-score are ill-defined and being set to 0.0 in labels with no predicted samples. Use `zero_division` parameter to control this behavior.\n",
      "  _warn_prf(average, modifier, msg_start, len(result))\n",
      "/opt/conda/lib/python3.10/site-packages/sklearn/metrics/_classification.py:1344: UndefinedMetricWarning: Precision and F-score are ill-defined and being set to 0.0 in labels with no predicted samples. Use `zero_division` parameter to control this behavior.\n",
      "  _warn_prf(average, modifier, msg_start, len(result))\n"
     ]
    },
    {
     "name": "stdout",
     "output_type": "stream",
     "text": [
      "Epoch: 2 TrainLoss: 0.029 ValidLoss: 1.286\n",
      "Validation Accuracy: 0.5126\n"
     ]
    },
    {
     "name": "stderr",
     "output_type": "stream",
     "text": [
      "/opt/conda/lib/python3.10/site-packages/sklearn/metrics/_classification.py:1344: UndefinedMetricWarning: Precision and F-score are ill-defined and being set to 0.0 in labels with no predicted samples. Use `zero_division` parameter to control this behavior.\n",
      "  _warn_prf(average, modifier, msg_start, len(result))\n",
      "/opt/conda/lib/python3.10/site-packages/sklearn/metrics/_classification.py:1344: UndefinedMetricWarning: Precision and F-score are ill-defined and being set to 0.0 in labels with no predicted samples. Use `zero_division` parameter to control this behavior.\n",
      "  _warn_prf(average, modifier, msg_start, len(result))\n",
      "/opt/conda/lib/python3.10/site-packages/sklearn/metrics/_classification.py:1344: UndefinedMetricWarning: Precision and F-score are ill-defined and being set to 0.0 in labels with no predicted samples. Use `zero_division` parameter to control this behavior.\n",
      "  _warn_prf(average, modifier, msg_start, len(result))\n"
     ]
    },
    {
     "name": "stdout",
     "output_type": "stream",
     "text": [
      "Epoch: 2 TrainLoss: 0.027 ValidLoss: 1.284\n",
      "Validation Accuracy: 0.5126\n"
     ]
    },
    {
     "name": "stderr",
     "output_type": "stream",
     "text": [
      "/opt/conda/lib/python3.10/site-packages/sklearn/metrics/_classification.py:1344: UndefinedMetricWarning: Precision and F-score are ill-defined and being set to 0.0 in labels with no predicted samples. Use `zero_division` parameter to control this behavior.\n",
      "  _warn_prf(average, modifier, msg_start, len(result))\n",
      "/opt/conda/lib/python3.10/site-packages/sklearn/metrics/_classification.py:1344: UndefinedMetricWarning: Precision and F-score are ill-defined and being set to 0.0 in labels with no predicted samples. Use `zero_division` parameter to control this behavior.\n",
      "  _warn_prf(average, modifier, msg_start, len(result))\n",
      "/opt/conda/lib/python3.10/site-packages/sklearn/metrics/_classification.py:1344: UndefinedMetricWarning: Precision and F-score are ill-defined and being set to 0.0 in labels with no predicted samples. Use `zero_division` parameter to control this behavior.\n",
      "  _warn_prf(average, modifier, msg_start, len(result))\n"
     ]
    },
    {
     "name": "stdout",
     "output_type": "stream",
     "text": [
      "Epoch: 2 TrainLoss: 0.028 ValidLoss: 1.284\n",
      "Validation Accuracy: 0.5126\n"
     ]
    },
    {
     "name": "stderr",
     "output_type": "stream",
     "text": [
      "/opt/conda/lib/python3.10/site-packages/sklearn/metrics/_classification.py:1344: UndefinedMetricWarning: Precision and F-score are ill-defined and being set to 0.0 in labels with no predicted samples. Use `zero_division` parameter to control this behavior.\n",
      "  _warn_prf(average, modifier, msg_start, len(result))\n",
      "/opt/conda/lib/python3.10/site-packages/sklearn/metrics/_classification.py:1344: UndefinedMetricWarning: Precision and F-score are ill-defined and being set to 0.0 in labels with no predicted samples. Use `zero_division` parameter to control this behavior.\n",
      "  _warn_prf(average, modifier, msg_start, len(result))\n",
      "/opt/conda/lib/python3.10/site-packages/sklearn/metrics/_classification.py:1344: UndefinedMetricWarning: Precision and F-score are ill-defined and being set to 0.0 in labels with no predicted samples. Use `zero_division` parameter to control this behavior.\n",
      "  _warn_prf(average, modifier, msg_start, len(result))\n"
     ]
    },
    {
     "name": "stdout",
     "output_type": "stream",
     "text": [
      "Epoch: 2 TrainLoss: 0.028 ValidLoss: 1.293\n",
      "Validation Accuracy: 0.5125\n"
     ]
    },
    {
     "name": "stderr",
     "output_type": "stream",
     "text": [
      "/opt/conda/lib/python3.10/site-packages/sklearn/metrics/_classification.py:1344: UndefinedMetricWarning: Precision and F-score are ill-defined and being set to 0.0 in labels with no predicted samples. Use `zero_division` parameter to control this behavior.\n",
      "  _warn_prf(average, modifier, msg_start, len(result))\n",
      "/opt/conda/lib/python3.10/site-packages/sklearn/metrics/_classification.py:1344: UndefinedMetricWarning: Precision and F-score are ill-defined and being set to 0.0 in labels with no predicted samples. Use `zero_division` parameter to control this behavior.\n",
      "  _warn_prf(average, modifier, msg_start, len(result))\n",
      "/opt/conda/lib/python3.10/site-packages/sklearn/metrics/_classification.py:1344: UndefinedMetricWarning: Precision and F-score are ill-defined and being set to 0.0 in labels with no predicted samples. Use `zero_division` parameter to control this behavior.\n",
      "  _warn_prf(average, modifier, msg_start, len(result))\n"
     ]
    },
    {
     "name": "stdout",
     "output_type": "stream",
     "text": [
      "Epoch: 2 TrainLoss: 0.028 ValidLoss: 1.287\n",
      "Validation Accuracy: 0.5126\n"
     ]
    },
    {
     "name": "stderr",
     "output_type": "stream",
     "text": [
      "/opt/conda/lib/python3.10/site-packages/sklearn/metrics/_classification.py:1344: UndefinedMetricWarning: Precision and F-score are ill-defined and being set to 0.0 in labels with no predicted samples. Use `zero_division` parameter to control this behavior.\n",
      "  _warn_prf(average, modifier, msg_start, len(result))\n",
      "/opt/conda/lib/python3.10/site-packages/sklearn/metrics/_classification.py:1344: UndefinedMetricWarning: Precision and F-score are ill-defined and being set to 0.0 in labels with no predicted samples. Use `zero_division` parameter to control this behavior.\n",
      "  _warn_prf(average, modifier, msg_start, len(result))\n",
      "/opt/conda/lib/python3.10/site-packages/sklearn/metrics/_classification.py:1344: UndefinedMetricWarning: Precision and F-score are ill-defined and being set to 0.0 in labels with no predicted samples. Use `zero_division` parameter to control this behavior.\n",
      "  _warn_prf(average, modifier, msg_start, len(result))\n"
     ]
    },
    {
     "name": "stdout",
     "output_type": "stream",
     "text": [
      "Epoch: 2 TrainLoss: 0.028 ValidLoss: 1.285\n",
      "Validation Accuracy: 0.5126\n"
     ]
    },
    {
     "name": "stderr",
     "output_type": "stream",
     "text": [
      "/opt/conda/lib/python3.10/site-packages/sklearn/metrics/_classification.py:1344: UndefinedMetricWarning: Precision and F-score are ill-defined and being set to 0.0 in labels with no predicted samples. Use `zero_division` parameter to control this behavior.\n",
      "  _warn_prf(average, modifier, msg_start, len(result))\n",
      "/opt/conda/lib/python3.10/site-packages/sklearn/metrics/_classification.py:1344: UndefinedMetricWarning: Precision and F-score are ill-defined and being set to 0.0 in labels with no predicted samples. Use `zero_division` parameter to control this behavior.\n",
      "  _warn_prf(average, modifier, msg_start, len(result))\n",
      "/opt/conda/lib/python3.10/site-packages/sklearn/metrics/_classification.py:1344: UndefinedMetricWarning: Precision and F-score are ill-defined and being set to 0.0 in labels with no predicted samples. Use `zero_division` parameter to control this behavior.\n",
      "  _warn_prf(average, modifier, msg_start, len(result))\n"
     ]
    },
    {
     "name": "stdout",
     "output_type": "stream",
     "text": [
      "Epoch: 2 TrainLoss: 0.027 ValidLoss: 1.285\n",
      "Validation Accuracy: 0.5125\n"
     ]
    },
    {
     "name": "stderr",
     "output_type": "stream",
     "text": [
      "/opt/conda/lib/python3.10/site-packages/sklearn/metrics/_classification.py:1344: UndefinedMetricWarning: Precision and F-score are ill-defined and being set to 0.0 in labels with no predicted samples. Use `zero_division` parameter to control this behavior.\n",
      "  _warn_prf(average, modifier, msg_start, len(result))\n",
      "/opt/conda/lib/python3.10/site-packages/sklearn/metrics/_classification.py:1344: UndefinedMetricWarning: Precision and F-score are ill-defined and being set to 0.0 in labels with no predicted samples. Use `zero_division` parameter to control this behavior.\n",
      "  _warn_prf(average, modifier, msg_start, len(result))\n",
      "/opt/conda/lib/python3.10/site-packages/sklearn/metrics/_classification.py:1344: UndefinedMetricWarning: Precision and F-score are ill-defined and being set to 0.0 in labels with no predicted samples. Use `zero_division` parameter to control this behavior.\n",
      "  _warn_prf(average, modifier, msg_start, len(result))\n"
     ]
    },
    {
     "name": "stdout",
     "output_type": "stream",
     "text": [
      "Epoch: 2 TrainLoss: 0.028 ValidLoss: 1.285\n",
      "Validation Accuracy: 0.5125\n"
     ]
    },
    {
     "name": "stderr",
     "output_type": "stream",
     "text": [
      "/opt/conda/lib/python3.10/site-packages/sklearn/metrics/_classification.py:1344: UndefinedMetricWarning: Precision and F-score are ill-defined and being set to 0.0 in labels with no predicted samples. Use `zero_division` parameter to control this behavior.\n",
      "  _warn_prf(average, modifier, msg_start, len(result))\n",
      "/opt/conda/lib/python3.10/site-packages/sklearn/metrics/_classification.py:1344: UndefinedMetricWarning: Precision and F-score are ill-defined and being set to 0.0 in labels with no predicted samples. Use `zero_division` parameter to control this behavior.\n",
      "  _warn_prf(average, modifier, msg_start, len(result))\n",
      "/opt/conda/lib/python3.10/site-packages/sklearn/metrics/_classification.py:1344: UndefinedMetricWarning: Precision and F-score are ill-defined and being set to 0.0 in labels with no predicted samples. Use `zero_division` parameter to control this behavior.\n",
      "  _warn_prf(average, modifier, msg_start, len(result))\n"
     ]
    },
    {
     "name": "stdout",
     "output_type": "stream",
     "text": [
      "Epoch: 2 TrainLoss: 0.026 ValidLoss: 1.164\n",
      "Validation Accuracy: 0.5132\n"
     ]
    },
    {
     "name": "stderr",
     "output_type": "stream",
     "text": [
      "/opt/conda/lib/python3.10/site-packages/sklearn/metrics/_classification.py:1344: UndefinedMetricWarning: Precision and F-score are ill-defined and being set to 0.0 in labels with no predicted samples. Use `zero_division` parameter to control this behavior.\n",
      "  _warn_prf(average, modifier, msg_start, len(result))\n",
      "/opt/conda/lib/python3.10/site-packages/sklearn/metrics/_classification.py:1344: UndefinedMetricWarning: Precision and F-score are ill-defined and being set to 0.0 in labels with no predicted samples. Use `zero_division` parameter to control this behavior.\n",
      "  _warn_prf(average, modifier, msg_start, len(result))\n",
      "/opt/conda/lib/python3.10/site-packages/sklearn/metrics/_classification.py:1344: UndefinedMetricWarning: Precision and F-score are ill-defined and being set to 0.0 in labels with no predicted samples. Use `zero_division` parameter to control this behavior.\n",
      "  _warn_prf(average, modifier, msg_start, len(result))\n"
     ]
    },
    {
     "name": "stdout",
     "output_type": "stream",
     "text": [
      "Epoch: 2 TrainLoss: 0.025 ValidLoss: 1.148\n",
      "Validation Accuracy: 0.5144\n"
     ]
    },
    {
     "name": "stderr",
     "output_type": "stream",
     "text": [
      "/opt/conda/lib/python3.10/site-packages/sklearn/metrics/_classification.py:1344: UndefinedMetricWarning: Precision and F-score are ill-defined and being set to 0.0 in labels with no predicted samples. Use `zero_division` parameter to control this behavior.\n",
      "  _warn_prf(average, modifier, msg_start, len(result))\n",
      "/opt/conda/lib/python3.10/site-packages/sklearn/metrics/_classification.py:1344: UndefinedMetricWarning: Precision and F-score are ill-defined and being set to 0.0 in labels with no predicted samples. Use `zero_division` parameter to control this behavior.\n",
      "  _warn_prf(average, modifier, msg_start, len(result))\n",
      "/opt/conda/lib/python3.10/site-packages/sklearn/metrics/_classification.py:1344: UndefinedMetricWarning: Precision and F-score are ill-defined and being set to 0.0 in labels with no predicted samples. Use `zero_division` parameter to control this behavior.\n",
      "  _warn_prf(average, modifier, msg_start, len(result))\n"
     ]
    },
    {
     "name": "stdout",
     "output_type": "stream",
     "text": [
      "Epoch: 2 TrainLoss: 0.025 ValidLoss: 1.132\n",
      "Validation Accuracy: 0.5156\n"
     ]
    },
    {
     "name": "stderr",
     "output_type": "stream",
     "text": [
      "/opt/conda/lib/python3.10/site-packages/sklearn/metrics/_classification.py:1344: UndefinedMetricWarning: Precision and F-score are ill-defined and being set to 0.0 in labels with no predicted samples. Use `zero_division` parameter to control this behavior.\n",
      "  _warn_prf(average, modifier, msg_start, len(result))\n",
      "/opt/conda/lib/python3.10/site-packages/sklearn/metrics/_classification.py:1344: UndefinedMetricWarning: Precision and F-score are ill-defined and being set to 0.0 in labels with no predicted samples. Use `zero_division` parameter to control this behavior.\n",
      "  _warn_prf(average, modifier, msg_start, len(result))\n",
      "/opt/conda/lib/python3.10/site-packages/sklearn/metrics/_classification.py:1344: UndefinedMetricWarning: Precision and F-score are ill-defined and being set to 0.0 in labels with no predicted samples. Use `zero_division` parameter to control this behavior.\n",
      "  _warn_prf(average, modifier, msg_start, len(result))\n"
     ]
    },
    {
     "name": "stdout",
     "output_type": "stream",
     "text": [
      "Epoch: 2 TrainLoss: 0.024 ValidLoss: 1.124\n",
      "Validation Accuracy: 0.5169\n"
     ]
    },
    {
     "name": "stderr",
     "output_type": "stream",
     "text": [
      "/opt/conda/lib/python3.10/site-packages/sklearn/metrics/_classification.py:1344: UndefinedMetricWarning: Precision and F-score are ill-defined and being set to 0.0 in labels with no predicted samples. Use `zero_division` parameter to control this behavior.\n",
      "  _warn_prf(average, modifier, msg_start, len(result))\n",
      "/opt/conda/lib/python3.10/site-packages/sklearn/metrics/_classification.py:1344: UndefinedMetricWarning: Precision and F-score are ill-defined and being set to 0.0 in labels with no predicted samples. Use `zero_division` parameter to control this behavior.\n",
      "  _warn_prf(average, modifier, msg_start, len(result))\n",
      "/opt/conda/lib/python3.10/site-packages/sklearn/metrics/_classification.py:1344: UndefinedMetricWarning: Precision and F-score are ill-defined and being set to 0.0 in labels with no predicted samples. Use `zero_division` parameter to control this behavior.\n",
      "  _warn_prf(average, modifier, msg_start, len(result))\n"
     ]
    },
    {
     "name": "stdout",
     "output_type": "stream",
     "text": [
      "Epoch: 2 TrainLoss: 0.024 ValidLoss: 1.132\n",
      "Validation Accuracy: 0.5181\n"
     ]
    },
    {
     "name": "stderr",
     "output_type": "stream",
     "text": [
      "/opt/conda/lib/python3.10/site-packages/sklearn/metrics/_classification.py:1344: UndefinedMetricWarning: Precision and F-score are ill-defined and being set to 0.0 in labels with no predicted samples. Use `zero_division` parameter to control this behavior.\n",
      "  _warn_prf(average, modifier, msg_start, len(result))\n",
      "/opt/conda/lib/python3.10/site-packages/sklearn/metrics/_classification.py:1344: UndefinedMetricWarning: Precision and F-score are ill-defined and being set to 0.0 in labels with no predicted samples. Use `zero_division` parameter to control this behavior.\n",
      "  _warn_prf(average, modifier, msg_start, len(result))\n",
      "/opt/conda/lib/python3.10/site-packages/sklearn/metrics/_classification.py:1344: UndefinedMetricWarning: Precision and F-score are ill-defined and being set to 0.0 in labels with no predicted samples. Use `zero_division` parameter to control this behavior.\n",
      "  _warn_prf(average, modifier, msg_start, len(result))\n"
     ]
    },
    {
     "name": "stdout",
     "output_type": "stream",
     "text": [
      "Epoch: 2 TrainLoss: 0.025 ValidLoss: 1.118\n",
      "Validation Accuracy: 0.5193\n"
     ]
    },
    {
     "name": "stderr",
     "output_type": "stream",
     "text": [
      "/opt/conda/lib/python3.10/site-packages/sklearn/metrics/_classification.py:1344: UndefinedMetricWarning: Precision and F-score are ill-defined and being set to 0.0 in labels with no predicted samples. Use `zero_division` parameter to control this behavior.\n",
      "  _warn_prf(average, modifier, msg_start, len(result))\n",
      "/opt/conda/lib/python3.10/site-packages/sklearn/metrics/_classification.py:1344: UndefinedMetricWarning: Precision and F-score are ill-defined and being set to 0.0 in labels with no predicted samples. Use `zero_division` parameter to control this behavior.\n",
      "  _warn_prf(average, modifier, msg_start, len(result))\n",
      "/opt/conda/lib/python3.10/site-packages/sklearn/metrics/_classification.py:1344: UndefinedMetricWarning: Precision and F-score are ill-defined and being set to 0.0 in labels with no predicted samples. Use `zero_division` parameter to control this behavior.\n",
      "  _warn_prf(average, modifier, msg_start, len(result))\n"
     ]
    },
    {
     "name": "stdout",
     "output_type": "stream",
     "text": [
      "Epoch: 2 TrainLoss: 0.024 ValidLoss: 1.127\n",
      "Validation Accuracy: 0.5202\n"
     ]
    },
    {
     "name": "stderr",
     "output_type": "stream",
     "text": [
      "/opt/conda/lib/python3.10/site-packages/sklearn/metrics/_classification.py:1344: UndefinedMetricWarning: Precision and F-score are ill-defined and being set to 0.0 in labels with no predicted samples. Use `zero_division` parameter to control this behavior.\n",
      "  _warn_prf(average, modifier, msg_start, len(result))\n",
      "/opt/conda/lib/python3.10/site-packages/sklearn/metrics/_classification.py:1344: UndefinedMetricWarning: Precision and F-score are ill-defined and being set to 0.0 in labels with no predicted samples. Use `zero_division` parameter to control this behavior.\n",
      "  _warn_prf(average, modifier, msg_start, len(result))\n",
      "/opt/conda/lib/python3.10/site-packages/sklearn/metrics/_classification.py:1344: UndefinedMetricWarning: Precision and F-score are ill-defined and being set to 0.0 in labels with no predicted samples. Use `zero_division` parameter to control this behavior.\n",
      "  _warn_prf(average, modifier, msg_start, len(result))\n"
     ]
    },
    {
     "name": "stdout",
     "output_type": "stream",
     "text": [
      "Epoch: 2 TrainLoss: 0.024 ValidLoss: 1.107\n",
      "Validation Accuracy: 0.5212\n"
     ]
    },
    {
     "name": "stderr",
     "output_type": "stream",
     "text": [
      "/opt/conda/lib/python3.10/site-packages/sklearn/metrics/_classification.py:1344: UndefinedMetricWarning: Precision and F-score are ill-defined and being set to 0.0 in labels with no predicted samples. Use `zero_division` parameter to control this behavior.\n",
      "  _warn_prf(average, modifier, msg_start, len(result))\n",
      "/opt/conda/lib/python3.10/site-packages/sklearn/metrics/_classification.py:1344: UndefinedMetricWarning: Precision and F-score are ill-defined and being set to 0.0 in labels with no predicted samples. Use `zero_division` parameter to control this behavior.\n",
      "  _warn_prf(average, modifier, msg_start, len(result))\n",
      "/opt/conda/lib/python3.10/site-packages/sklearn/metrics/_classification.py:1344: UndefinedMetricWarning: Precision and F-score are ill-defined and being set to 0.0 in labels with no predicted samples. Use `zero_division` parameter to control this behavior.\n",
      "  _warn_prf(average, modifier, msg_start, len(result))\n"
     ]
    },
    {
     "name": "stdout",
     "output_type": "stream",
     "text": [
      "Epoch: 2 TrainLoss: 0.024 ValidLoss: 1.106\n",
      "Validation Accuracy: 0.5223\n"
     ]
    },
    {
     "name": "stderr",
     "output_type": "stream",
     "text": [
      "/opt/conda/lib/python3.10/site-packages/sklearn/metrics/_classification.py:1344: UndefinedMetricWarning: Precision and F-score are ill-defined and being set to 0.0 in labels with no predicted samples. Use `zero_division` parameter to control this behavior.\n",
      "  _warn_prf(average, modifier, msg_start, len(result))\n",
      "/opt/conda/lib/python3.10/site-packages/sklearn/metrics/_classification.py:1344: UndefinedMetricWarning: Precision and F-score are ill-defined and being set to 0.0 in labels with no predicted samples. Use `zero_division` parameter to control this behavior.\n",
      "  _warn_prf(average, modifier, msg_start, len(result))\n",
      "/opt/conda/lib/python3.10/site-packages/sklearn/metrics/_classification.py:1344: UndefinedMetricWarning: Precision and F-score are ill-defined and being set to 0.0 in labels with no predicted samples. Use `zero_division` parameter to control this behavior.\n",
      "  _warn_prf(average, modifier, msg_start, len(result))\n"
     ]
    },
    {
     "name": "stdout",
     "output_type": "stream",
     "text": [
      "Epoch: 2 TrainLoss: 0.024 ValidLoss: 1.112\n",
      "Validation Accuracy: 0.5234\n"
     ]
    },
    {
     "name": "stderr",
     "output_type": "stream",
     "text": [
      "/opt/conda/lib/python3.10/site-packages/sklearn/metrics/_classification.py:1344: UndefinedMetricWarning: Precision and F-score are ill-defined and being set to 0.0 in labels with no predicted samples. Use `zero_division` parameter to control this behavior.\n",
      "  _warn_prf(average, modifier, msg_start, len(result))\n",
      "/opt/conda/lib/python3.10/site-packages/sklearn/metrics/_classification.py:1344: UndefinedMetricWarning: Precision and F-score are ill-defined and being set to 0.0 in labels with no predicted samples. Use `zero_division` parameter to control this behavior.\n",
      "  _warn_prf(average, modifier, msg_start, len(result))\n",
      "/opt/conda/lib/python3.10/site-packages/sklearn/metrics/_classification.py:1344: UndefinedMetricWarning: Precision and F-score are ill-defined and being set to 0.0 in labels with no predicted samples. Use `zero_division` parameter to control this behavior.\n",
      "  _warn_prf(average, modifier, msg_start, len(result))\n"
     ]
    },
    {
     "name": "stdout",
     "output_type": "stream",
     "text": [
      "Epoch: 2 TrainLoss: 0.023 ValidLoss: 1.101\n",
      "Validation Accuracy: 0.5243\n"
     ]
    },
    {
     "name": "stderr",
     "output_type": "stream",
     "text": [
      "/opt/conda/lib/python3.10/site-packages/sklearn/metrics/_classification.py:1344: UndefinedMetricWarning: Precision and F-score are ill-defined and being set to 0.0 in labels with no predicted samples. Use `zero_division` parameter to control this behavior.\n",
      "  _warn_prf(average, modifier, msg_start, len(result))\n",
      "/opt/conda/lib/python3.10/site-packages/sklearn/metrics/_classification.py:1344: UndefinedMetricWarning: Precision and F-score are ill-defined and being set to 0.0 in labels with no predicted samples. Use `zero_division` parameter to control this behavior.\n",
      "  _warn_prf(average, modifier, msg_start, len(result))\n",
      "/opt/conda/lib/python3.10/site-packages/sklearn/metrics/_classification.py:1344: UndefinedMetricWarning: Precision and F-score are ill-defined and being set to 0.0 in labels with no predicted samples. Use `zero_division` parameter to control this behavior.\n",
      "  _warn_prf(average, modifier, msg_start, len(result))\n"
     ]
    },
    {
     "name": "stdout",
     "output_type": "stream",
     "text": [
      "Epoch: 2 TrainLoss: 0.023 ValidLoss: 1.102\n",
      "Validation Accuracy: 0.5253\n"
     ]
    },
    {
     "name": "stderr",
     "output_type": "stream",
     "text": [
      "/opt/conda/lib/python3.10/site-packages/sklearn/metrics/_classification.py:1344: UndefinedMetricWarning: Precision and F-score are ill-defined and being set to 0.0 in labels with no predicted samples. Use `zero_division` parameter to control this behavior.\n",
      "  _warn_prf(average, modifier, msg_start, len(result))\n",
      "/opt/conda/lib/python3.10/site-packages/sklearn/metrics/_classification.py:1344: UndefinedMetricWarning: Precision and F-score are ill-defined and being set to 0.0 in labels with no predicted samples. Use `zero_division` parameter to control this behavior.\n",
      "  _warn_prf(average, modifier, msg_start, len(result))\n",
      "/opt/conda/lib/python3.10/site-packages/sklearn/metrics/_classification.py:1344: UndefinedMetricWarning: Precision and F-score are ill-defined and being set to 0.0 in labels with no predicted samples. Use `zero_division` parameter to control this behavior.\n",
      "  _warn_prf(average, modifier, msg_start, len(result))\n"
     ]
    },
    {
     "name": "stdout",
     "output_type": "stream",
     "text": [
      "Epoch: 2 TrainLoss: 0.023 ValidLoss: 1.089\n",
      "Validation Accuracy: 0.5264\n"
     ]
    },
    {
     "name": "stderr",
     "output_type": "stream",
     "text": [
      "/opt/conda/lib/python3.10/site-packages/sklearn/metrics/_classification.py:1344: UndefinedMetricWarning: Precision and F-score are ill-defined and being set to 0.0 in labels with no predicted samples. Use `zero_division` parameter to control this behavior.\n",
      "  _warn_prf(average, modifier, msg_start, len(result))\n",
      "/opt/conda/lib/python3.10/site-packages/sklearn/metrics/_classification.py:1344: UndefinedMetricWarning: Precision and F-score are ill-defined and being set to 0.0 in labels with no predicted samples. Use `zero_division` parameter to control this behavior.\n",
      "  _warn_prf(average, modifier, msg_start, len(result))\n",
      "/opt/conda/lib/python3.10/site-packages/sklearn/metrics/_classification.py:1344: UndefinedMetricWarning: Precision and F-score are ill-defined and being set to 0.0 in labels with no predicted samples. Use `zero_division` parameter to control this behavior.\n",
      "  _warn_prf(average, modifier, msg_start, len(result))\n"
     ]
    },
    {
     "name": "stdout",
     "output_type": "stream",
     "text": [
      "Epoch: 2 TrainLoss: 0.024 ValidLoss: 1.096\n",
      "Validation Accuracy: 0.5273\n"
     ]
    },
    {
     "name": "stderr",
     "output_type": "stream",
     "text": [
      "/opt/conda/lib/python3.10/site-packages/sklearn/metrics/_classification.py:1344: UndefinedMetricWarning: Precision and F-score are ill-defined and being set to 0.0 in labels with no predicted samples. Use `zero_division` parameter to control this behavior.\n",
      "  _warn_prf(average, modifier, msg_start, len(result))\n",
      "/opt/conda/lib/python3.10/site-packages/sklearn/metrics/_classification.py:1344: UndefinedMetricWarning: Precision and F-score are ill-defined and being set to 0.0 in labels with no predicted samples. Use `zero_division` parameter to control this behavior.\n",
      "  _warn_prf(average, modifier, msg_start, len(result))\n",
      "/opt/conda/lib/python3.10/site-packages/sklearn/metrics/_classification.py:1344: UndefinedMetricWarning: Precision and F-score are ill-defined and being set to 0.0 in labels with no predicted samples. Use `zero_division` parameter to control this behavior.\n",
      "  _warn_prf(average, modifier, msg_start, len(result))\n"
     ]
    },
    {
     "name": "stdout",
     "output_type": "stream",
     "text": [
      "Epoch: 2 TrainLoss: 0.023 ValidLoss: 1.091\n",
      "Validation Accuracy: 0.5282\n"
     ]
    },
    {
     "name": "stderr",
     "output_type": "stream",
     "text": [
      "/opt/conda/lib/python3.10/site-packages/sklearn/metrics/_classification.py:1344: UndefinedMetricWarning: Precision and F-score are ill-defined and being set to 0.0 in labels with no predicted samples. Use `zero_division` parameter to control this behavior.\n",
      "  _warn_prf(average, modifier, msg_start, len(result))\n",
      "/opt/conda/lib/python3.10/site-packages/sklearn/metrics/_classification.py:1344: UndefinedMetricWarning: Precision and F-score are ill-defined and being set to 0.0 in labels with no predicted samples. Use `zero_division` parameter to control this behavior.\n",
      "  _warn_prf(average, modifier, msg_start, len(result))\n",
      "/opt/conda/lib/python3.10/site-packages/sklearn/metrics/_classification.py:1344: UndefinedMetricWarning: Precision and F-score are ill-defined and being set to 0.0 in labels with no predicted samples. Use `zero_division` parameter to control this behavior.\n",
      "  _warn_prf(average, modifier, msg_start, len(result))\n"
     ]
    },
    {
     "name": "stdout",
     "output_type": "stream",
     "text": [
      "Epoch: 2 TrainLoss: 0.024 ValidLoss: 1.084\n",
      "Validation Accuracy: 0.5292\n"
     ]
    },
    {
     "name": "stderr",
     "output_type": "stream",
     "text": [
      "/opt/conda/lib/python3.10/site-packages/sklearn/metrics/_classification.py:1344: UndefinedMetricWarning: Precision and F-score are ill-defined and being set to 0.0 in labels with no predicted samples. Use `zero_division` parameter to control this behavior.\n",
      "  _warn_prf(average, modifier, msg_start, len(result))\n",
      "/opt/conda/lib/python3.10/site-packages/sklearn/metrics/_classification.py:1344: UndefinedMetricWarning: Precision and F-score are ill-defined and being set to 0.0 in labels with no predicted samples. Use `zero_division` parameter to control this behavior.\n",
      "  _warn_prf(average, modifier, msg_start, len(result))\n",
      "/opt/conda/lib/python3.10/site-packages/sklearn/metrics/_classification.py:1344: UndefinedMetricWarning: Precision and F-score are ill-defined and being set to 0.0 in labels with no predicted samples. Use `zero_division` parameter to control this behavior.\n",
      "  _warn_prf(average, modifier, msg_start, len(result))\n"
     ]
    },
    {
     "name": "stdout",
     "output_type": "stream",
     "text": [
      "Epoch: 2 TrainLoss: 0.023 ValidLoss: 1.075\n",
      "Validation Accuracy: 0.5302\n"
     ]
    },
    {
     "name": "stderr",
     "output_type": "stream",
     "text": [
      "/opt/conda/lib/python3.10/site-packages/sklearn/metrics/_classification.py:1344: UndefinedMetricWarning: Precision and F-score are ill-defined and being set to 0.0 in labels with no predicted samples. Use `zero_division` parameter to control this behavior.\n",
      "  _warn_prf(average, modifier, msg_start, len(result))\n",
      "/opt/conda/lib/python3.10/site-packages/sklearn/metrics/_classification.py:1344: UndefinedMetricWarning: Precision and F-score are ill-defined and being set to 0.0 in labels with no predicted samples. Use `zero_division` parameter to control this behavior.\n",
      "  _warn_prf(average, modifier, msg_start, len(result))\n",
      "/opt/conda/lib/python3.10/site-packages/sklearn/metrics/_classification.py:1344: UndefinedMetricWarning: Precision and F-score are ill-defined and being set to 0.0 in labels with no predicted samples. Use `zero_division` parameter to control this behavior.\n",
      "  _warn_prf(average, modifier, msg_start, len(result))\n"
     ]
    },
    {
     "name": "stdout",
     "output_type": "stream",
     "text": [
      "Epoch: 2 TrainLoss: 0.024 ValidLoss: 1.071\n",
      "Validation Accuracy: 0.5312\n",
      "Epoch: 2 TrainLoss: 0.023 ValidLoss: 1.080\n",
      "Validation Accuracy: 0.5322\n",
      "Epoch: 2 TrainLoss: 0.023 ValidLoss: 1.067\n",
      "Validation Accuracy: 0.5332\n",
      "Epoch: 2 TrainLoss: 0.023 ValidLoss: 1.057\n",
      "Validation Accuracy: 0.5342\n",
      "Epoch: 3 TrainLoss: 0.008 ValidLoss: 1.062\n",
      "Validation Accuracy: 0.5787\n",
      "Epoch: 3 TrainLoss: 0.023 ValidLoss: 1.053\n",
      "Validation Accuracy: 0.5816\n",
      "Epoch: 3 TrainLoss: 0.022 ValidLoss: 1.050\n",
      "Validation Accuracy: 0.5832\n",
      "Epoch: 3 TrainLoss: 0.022 ValidLoss: 1.046\n",
      "Validation Accuracy: 0.5836\n",
      "Epoch: 3 TrainLoss: 0.023 ValidLoss: 1.041\n",
      "Validation Accuracy: 0.5842\n",
      "Epoch: 3 TrainLoss: 0.022 ValidLoss: 1.046\n",
      "Validation Accuracy: 0.5840\n",
      "Epoch: 3 TrainLoss: 0.022 ValidLoss: 1.041\n",
      "Validation Accuracy: 0.5841\n",
      "Epoch: 3 TrainLoss: 0.023 ValidLoss: 1.034\n",
      "Validation Accuracy: 0.5848\n",
      "Epoch: 3 TrainLoss: 0.022 ValidLoss: 1.033\n",
      "Validation Accuracy: 0.5852\n",
      "Epoch: 3 TrainLoss: 0.022 ValidLoss: 1.032\n",
      "Validation Accuracy: 0.5855\n",
      "Epoch: 3 TrainLoss: 0.022 ValidLoss: 1.019\n",
      "Validation Accuracy: 0.5864\n",
      "Epoch: 3 TrainLoss: 0.022 ValidLoss: 1.022\n",
      "Validation Accuracy: 0.5868\n",
      "Epoch: 3 TrainLoss: 0.022 ValidLoss: 1.012\n",
      "Validation Accuracy: 0.5877\n",
      "Epoch: 3 TrainLoss: 0.022 ValidLoss: 1.023\n",
      "Validation Accuracy: 0.5882\n",
      "Epoch: 3 TrainLoss: 0.023 ValidLoss: 1.008\n",
      "Validation Accuracy: 0.5888\n",
      "Epoch: 3 TrainLoss: 0.022 ValidLoss: 1.006\n",
      "Validation Accuracy: 0.5892\n",
      "Epoch: 3 TrainLoss: 0.022 ValidLoss: 1.006\n",
      "Validation Accuracy: 0.5898\n",
      "Epoch: 3 TrainLoss: 0.022 ValidLoss: 1.003\n",
      "Validation Accuracy: 0.5906\n",
      "Epoch: 3 TrainLoss: 0.022 ValidLoss: 1.006\n",
      "Validation Accuracy: 0.5911\n",
      "Epoch: 3 TrainLoss: 0.022 ValidLoss: 0.999\n",
      "Validation Accuracy: 0.5919\n",
      "Epoch: 3 TrainLoss: 0.022 ValidLoss: 1.016\n",
      "Validation Accuracy: 0.5921\n",
      "Epoch: 3 TrainLoss: 0.021 ValidLoss: 0.996\n",
      "Validation Accuracy: 0.5925\n",
      "Epoch: 3 TrainLoss: 0.022 ValidLoss: 0.998\n",
      "Validation Accuracy: 0.5929\n",
      "Epoch: 3 TrainLoss: 0.021 ValidLoss: 0.992\n",
      "Validation Accuracy: 0.5934\n",
      "Epoch: 3 TrainLoss: 0.021 ValidLoss: 0.992\n",
      "Validation Accuracy: 0.5938\n",
      "Epoch: 3 TrainLoss: 0.022 ValidLoss: 1.000\n",
      "Validation Accuracy: 0.5941\n",
      "Epoch: 3 TrainLoss: 0.022 ValidLoss: 0.986\n",
      "Validation Accuracy: 0.5946\n",
      "Epoch: 3 TrainLoss: 0.021 ValidLoss: 0.973\n",
      "Validation Accuracy: 0.5953\n",
      "Epoch: 3 TrainLoss: 0.021 ValidLoss: 0.971\n",
      "Validation Accuracy: 0.5958\n",
      "Epoch: 3 TrainLoss: 0.021 ValidLoss: 0.972\n",
      "Validation Accuracy: 0.5963\n",
      "Epoch: 3 TrainLoss: 0.022 ValidLoss: 0.968\n",
      "Validation Accuracy: 0.5968\n",
      "Epoch: 3 TrainLoss: 0.022 ValidLoss: 0.966\n",
      "Validation Accuracy: 0.5974\n",
      "Epoch: 3 TrainLoss: 0.021 ValidLoss: 0.963\n",
      "Validation Accuracy: 0.5979\n",
      "Epoch: 3 TrainLoss: 0.021 ValidLoss: 0.963\n",
      "Validation Accuracy: 0.5985\n",
      "Epoch: 3 TrainLoss: 0.021 ValidLoss: 0.974\n",
      "Validation Accuracy: 0.5989\n",
      "Epoch: 3 TrainLoss: 0.021 ValidLoss: 0.969\n",
      "Validation Accuracy: 0.5993\n",
      "Epoch: 3 TrainLoss: 0.020 ValidLoss: 0.967\n",
      "Validation Accuracy: 0.5996\n",
      "Epoch: 3 TrainLoss: 0.021 ValidLoss: 0.955\n",
      "Validation Accuracy: 0.6000\n",
      "Epoch: 3 TrainLoss: 0.020 ValidLoss: 0.961\n",
      "Validation Accuracy: 0.6005\n",
      "Epoch: 3 TrainLoss: 0.021 ValidLoss: 0.963\n",
      "Validation Accuracy: 0.6008\n",
      "Epoch: 3 TrainLoss: 0.021 ValidLoss: 0.955\n",
      "Validation Accuracy: 0.6012\n",
      "Epoch: 3 TrainLoss: 0.021 ValidLoss: 0.971\n",
      "Validation Accuracy: 0.6016\n",
      "Epoch: 3 TrainLoss: 0.021 ValidLoss: 0.945\n",
      "Validation Accuracy: 0.6020\n",
      "Epoch: 3 TrainLoss: 0.021 ValidLoss: 0.954\n",
      "Validation Accuracy: 0.6024\n",
      "Epoch: 3 TrainLoss: 0.021 ValidLoss: 0.946\n",
      "Validation Accuracy: 0.6027\n",
      "Epoch: 3 TrainLoss: 0.020 ValidLoss: 0.949\n",
      "Validation Accuracy: 0.6031\n",
      "Epoch: 4 TrainLoss: 0.001 ValidLoss: 0.938\n",
      "Validation Accuracy: 0.6250\n",
      "Epoch: 4 TrainLoss: 0.020 ValidLoss: 0.957\n",
      "Validation Accuracy: 0.6207\n",
      "Epoch: 4 TrainLoss: 0.020 ValidLoss: 0.950\n",
      "Validation Accuracy: 0.6208\n",
      "Epoch: 4 TrainLoss: 0.020 ValidLoss: 0.941\n",
      "Validation Accuracy: 0.6221\n",
      "Epoch: 4 TrainLoss: 0.020 ValidLoss: 0.933\n",
      "Validation Accuracy: 0.6238\n",
      "Epoch: 4 TrainLoss: 0.019 ValidLoss: 0.953\n",
      "Validation Accuracy: 0.6230\n",
      "Epoch: 4 TrainLoss: 0.020 ValidLoss: 0.934\n",
      "Validation Accuracy: 0.6231\n",
      "Epoch: 4 TrainLoss: 0.019 ValidLoss: 0.929\n",
      "Validation Accuracy: 0.6240\n",
      "Epoch: 4 TrainLoss: 0.021 ValidLoss: 0.926\n",
      "Validation Accuracy: 0.6244\n",
      "Epoch: 4 TrainLoss: 0.020 ValidLoss: 0.927\n",
      "Validation Accuracy: 0.6246\n",
      "Epoch: 4 TrainLoss: 0.020 ValidLoss: 0.925\n",
      "Validation Accuracy: 0.6253\n",
      "Epoch: 4 TrainLoss: 0.019 ValidLoss: 0.927\n",
      "Validation Accuracy: 0.6259\n",
      "Epoch: 4 TrainLoss: 0.019 ValidLoss: 0.926\n",
      "Validation Accuracy: 0.6264\n",
      "Epoch: 4 TrainLoss: 0.019 ValidLoss: 0.926\n",
      "Validation Accuracy: 0.6264\n",
      "Epoch: 4 TrainLoss: 0.019 ValidLoss: 0.921\n",
      "Validation Accuracy: 0.6268\n",
      "Epoch: 4 TrainLoss: 0.020 ValidLoss: 0.920\n",
      "Validation Accuracy: 0.6270\n",
      "Epoch: 4 TrainLoss: 0.020 ValidLoss: 0.927\n",
      "Validation Accuracy: 0.6272\n",
      "Epoch: 4 TrainLoss: 0.020 ValidLoss: 0.915\n",
      "Validation Accuracy: 0.6275\n",
      "Epoch: 4 TrainLoss: 0.020 ValidLoss: 0.935\n",
      "Validation Accuracy: 0.6274\n",
      "Epoch: 4 TrainLoss: 0.020 ValidLoss: 0.921\n",
      "Validation Accuracy: 0.6277\n",
      "Epoch: 4 TrainLoss: 0.020 ValidLoss: 0.921\n",
      "Validation Accuracy: 0.6279\n",
      "Epoch: 4 TrainLoss: 0.020 ValidLoss: 0.924\n",
      "Validation Accuracy: 0.6280\n",
      "Epoch: 4 TrainLoss: 0.019 ValidLoss: 0.912\n",
      "Validation Accuracy: 0.6282\n",
      "Epoch: 4 TrainLoss: 0.019 ValidLoss: 0.909\n",
      "Validation Accuracy: 0.6285\n",
      "Epoch: 4 TrainLoss: 0.020 ValidLoss: 0.910\n",
      "Validation Accuracy: 0.6288\n",
      "Epoch: 4 TrainLoss: 0.019 ValidLoss: 0.905\n",
      "Validation Accuracy: 0.6291\n",
      "Epoch: 4 TrainLoss: 0.019 ValidLoss: 0.912\n",
      "Validation Accuracy: 0.6293\n",
      "Epoch: 4 TrainLoss: 0.019 ValidLoss: 0.906\n",
      "Validation Accuracy: 0.6296\n",
      "Epoch: 4 TrainLoss: 0.019 ValidLoss: 0.902\n",
      "Validation Accuracy: 0.6300\n",
      "Epoch: 4 TrainLoss: 0.019 ValidLoss: 0.896\n",
      "Validation Accuracy: 0.6305\n",
      "Epoch: 4 TrainLoss: 0.020 ValidLoss: 0.903\n",
      "Validation Accuracy: 0.6308\n",
      "Epoch: 4 TrainLoss: 0.019 ValidLoss: 0.905\n",
      "Validation Accuracy: 0.6312\n",
      "Epoch: 4 TrainLoss: 0.019 ValidLoss: 0.891\n",
      "Validation Accuracy: 0.6315\n",
      "Epoch: 4 TrainLoss: 0.019 ValidLoss: 0.906\n",
      "Validation Accuracy: 0.6316\n",
      "Epoch: 4 TrainLoss: 0.019 ValidLoss: 0.890\n",
      "Validation Accuracy: 0.6320\n",
      "Epoch: 4 TrainLoss: 0.019 ValidLoss: 0.891\n",
      "Validation Accuracy: 0.6323\n",
      "Epoch: 4 TrainLoss: 0.019 ValidLoss: 0.891\n",
      "Validation Accuracy: 0.6326\n",
      "Epoch: 4 TrainLoss: 0.019 ValidLoss: 0.885\n",
      "Validation Accuracy: 0.6330\n",
      "Epoch: 4 TrainLoss: 0.019 ValidLoss: 0.887\n",
      "Validation Accuracy: 0.6333\n",
      "Epoch: 4 TrainLoss: 0.019 ValidLoss: 0.885\n",
      "Validation Accuracy: 0.6337\n",
      "Epoch: 4 TrainLoss: 0.019 ValidLoss: 0.895\n",
      "Validation Accuracy: 0.6338\n",
      "Epoch: 4 TrainLoss: 0.019 ValidLoss: 0.899\n",
      "Validation Accuracy: 0.6339\n",
      "Epoch: 4 TrainLoss: 0.019 ValidLoss: 0.889\n",
      "Validation Accuracy: 0.6342\n",
      "Epoch: 4 TrainLoss: 0.019 ValidLoss: 0.888\n",
      "Validation Accuracy: 0.6343\n",
      "Epoch: 4 TrainLoss: 0.019 ValidLoss: 0.887\n",
      "Validation Accuracy: 0.6346\n",
      "Epoch: 4 TrainLoss: 0.020 ValidLoss: 0.890\n",
      "Validation Accuracy: 0.6347\n",
      "Epoch: 4 TrainLoss: 0.018 ValidLoss: 0.888\n",
      "Validation Accuracy: 0.6349\n",
      "Overall Validation Classification Report:\n",
      "              precision    recall  f1-score   support\n",
      "\n",
      "           0       0.50      0.08      0.13     64702\n",
      "           1       0.46      0.23      0.31    253524\n",
      "           2       0.60      0.90      0.72    737170\n",
      "           3       0.49      0.29      0.36    301312\n",
      "           4       0.52      0.11      0.18     81852\n",
      "\n",
      "    accuracy                           0.57   1438560\n",
      "   macro avg       0.51      0.32      0.34   1438560\n",
      "weighted avg       0.54      0.57      0.52   1438560\n",
      "\n",
      "Overall Validation Accuracy: 0.5736\n"
     ]
    },
    {
     "data": {
      "image/png": "[encoded data removed]",
      "text/plain": [
       "<Figure size 1000x600 with 2 Axes>"
      ]
     },
     "metadata": {},
     "output_type": "display_data"
    }
   ],
   "source": [
    "model = SentimentRNN(embedding_matrix)\n",
    "criterion = nn.CrossEntropyLoss()\n",
    "optimizer = torch.optim.Adam(model.parameters(), lr = Config.lr)\n",
    "callbackers = train(model, optimizer, criterion)\n",
    "visualize_callbackers(callbackers)"
   ]
  },
  {
   "cell_type": "code",
   "execution_count": 40,
   "id": "75f8065f",
   "metadata": {
    "execution": {
     "iopub.execute_input": "2024-05-20T13:15:46.200836Z",
     "iopub.status.busy": "2024-05-20T13:15:46.200024Z",
     "iopub.status.idle": "2024-05-20T13:15:46.204298Z",
     "shell.execute_reply": "2024-05-20T13:15:46.203435Z"
    },
    "papermill": {
     "duration": 0.049108,
     "end_time": "2024-05-20T13:15:46.206098",
     "exception": false,
     "start_time": "2024-05-20T13:15:46.156990",
     "status": "completed"
    },
    "tags": []
   },
   "outputs": [],
   "source": [
    "#sample_submission.head()"
   ]
  },
  {
   "cell_type": "code",
   "execution_count": 41,
   "id": "37901a6d",
   "metadata": {
    "execution": {
     "iopub.execute_input": "2024-05-20T13:15:46.292103Z",
     "iopub.status.busy": "2024-05-20T13:15:46.291775Z",
     "iopub.status.idle": "2024-05-20T13:15:46.299122Z",
     "shell.execute_reply": "2024-05-20T13:15:46.298068Z"
    },
    "papermill": {
     "duration": 0.053008,
     "end_time": "2024-05-20T13:15:46.301479",
     "exception": false,
     "start_time": "2024-05-20T13:15:46.248471",
     "status": "completed"
    },
    "tags": []
   },
   "outputs": [
    {
     "name": "stdout",
     "output_type": "stream",
     "text": [
      "   PhraseId  SentenceId                                             Phrase\n",
      "0    156061        8545  An intermittently pleasing but mostly routine ...\n",
      "1    156062        8545  An intermittently pleasing but mostly routine ...\n",
      "2    156063        8545                                                 An\n",
      "3    156064        8545  intermittently pleasing but mostly routine effort\n",
      "4    156065        8545         intermittently pleasing but mostly routine\n",
      "5    156066        8545                        intermittently pleasing but\n",
      "6    156067        8545                            intermittently pleasing\n",
      "7    156068        8545                                     intermittently\n",
      "8    156069        8545                                           pleasing\n",
      "9    156070        8545                                                but\n"
     ]
    }
   ],
   "source": [
    "print(df_test[:10])"
   ]
  },
  {
   "cell_type": "code",
   "execution_count": 42,
   "id": "2c202c4f",
   "metadata": {
    "execution": {
     "iopub.execute_input": "2024-05-20T13:15:46.390563Z",
     "iopub.status.busy": "2024-05-20T13:15:46.390251Z",
     "iopub.status.idle": "2024-05-20T13:15:54.374176Z",
     "shell.execute_reply": "2024-05-20T13:15:54.373387Z"
    },
    "papermill": {
     "duration": 8.030385,
     "end_time": "2024-05-20T13:15:54.376447",
     "exception": false,
     "start_time": "2024-05-20T13:15:46.346062",
     "status": "completed"
    },
    "tags": []
   },
   "outputs": [],
   "source": [
    "model.eval()\n",
    "\n",
    "#Initialize an empty list to store predictions\n",
    "all_predictions = []\n",
    "\n",
    "# Iterate through the test data loader\n",
    "for inputs, in test_loader:\n",
    "    # Set initial hidden state\n",
    "    hidden = model.init_hidden(inputs.size(0))  # Assuming batch size is the first dimension\n",
    "    if (train_on_gpu):\n",
    "        inputs = inputs.cuda()\n",
    "\n",
    "    # Make predictions\n",
    "    with torch.no_grad():\n",
    "        predictions, _ = model(inputs, hidden)\n",
    "\n",
    "    # Convert predictions to numpy array and append to the list\n",
    "    all_predictions.append(predictions.cpu().numpy())\n",
    "\n",
    "# Concatenate all predictions into a single numpy array\n",
    "predictions_numpy = np.concatenate(all_predictions)\n",
    "\n",
    "# Assuming predictions_numpy contains the predicted sentiment values from 0 to 4\n"
   ]
  },
  {
   "cell_type": "code",
   "execution_count": 43,
   "id": "ec0ab682",
   "metadata": {
    "execution": {
     "iopub.execute_input": "2024-05-20T13:15:54.463875Z",
     "iopub.status.busy": "2024-05-20T13:15:54.463130Z",
     "iopub.status.idle": "2024-05-20T13:15:54.478225Z",
     "shell.execute_reply": "2024-05-20T13:15:54.477491Z"
    },
    "papermill": {
     "duration": 0.0603,
     "end_time": "2024-05-20T13:15:54.480084",
     "exception": false,
     "start_time": "2024-05-20T13:15:54.419784",
     "status": "completed"
    },
    "tags": []
   },
   "outputs": [],
   "source": [
    "df_test_filtered = df_test.iloc[non_zero_idx]"
   ]
  },
  {
   "cell_type": "code",
   "execution_count": 44,
   "id": "984d1d65",
   "metadata": {
    "execution": {
     "iopub.execute_input": "2024-05-20T13:15:54.568525Z",
     "iopub.status.busy": "2024-05-20T13:15:54.568219Z",
     "iopub.status.idle": "2024-05-20T13:15:54.655450Z",
     "shell.execute_reply": "2024-05-20T13:15:54.654660Z"
    },
    "papermill": {
     "duration": 0.134517,
     "end_time": "2024-05-20T13:15:54.657712",
     "exception": false,
     "start_time": "2024-05-20T13:15:54.523195",
     "status": "completed"
    },
    "tags": []
   },
   "outputs": [],
   "source": [
    "\n",
    "# Create an array for submission sentiments with values from predictions_numpy\n",
    "submission_sentiments = predictions_numpy.argmax(axis=1)\n",
    "\n",
    "# Set sentiment value to 2 for phrases with indices in zero_idx\n",
    "zero_idx_sentiments = np.full(len(zero_idx), 2)\n",
    "\n",
    "zero_idx_phrase_ids = df_test.iloc[zero_idx]['PhraseId'].values\n",
    "\n",
    "# Concatenate the sentiment values and phrase_ids for zero_idx with predictions_numpy\n",
    "submission_sentiments = np.concatenate([submission_sentiments, zero_idx_sentiments])\n",
    "submission_phrase_ids = np.concatenate([df_test_filtered['PhraseId'], zero_idx_phrase_ids])\n",
    "\n",
    "# Create a DataFrame for the submission file\n",
    "submission_df = pd.DataFrame({\n",
    "    'PhraseId': submission_phrase_ids,\n",
    "    'Sentiment': submission_sentiments\n",
    "})\n",
    "\n",
    "# Save the submission DataFrame to a CSV file\n",
    "submission_df.to_csv('submission.csv', index=False)"
   ]
  },
  {
   "cell_type": "code",
   "execution_count": 45,
   "id": "b12cfe50",
   "metadata": {
    "execution": {
     "iopub.execute_input": "2024-05-20T13:15:54.744219Z",
     "iopub.status.busy": "2024-05-20T13:15:54.743912Z",
     "iopub.status.idle": "2024-05-20T13:15:54.753527Z",
     "shell.execute_reply": "2024-05-20T13:15:54.752697Z"
    },
    "papermill": {
     "duration": 0.05468,
     "end_time": "2024-05-20T13:15:54.755462",
     "exception": false,
     "start_time": "2024-05-20T13:15:54.700782",
     "status": "completed"
    },
    "tags": []
   },
   "outputs": [
    {
     "data": {
      "text/html": [
       "<div>\n",
       "<style scoped>\n",
       "    .dataframe tbody tr th:only-of-type {\n",
       "        vertical-align: middle;\n",
       "    }\n",
       "\n",
       "    .dataframe tbody tr th {\n",
       "        vertical-align: top;\n",
       "    }\n",
       "\n",
       "    .dataframe thead th {\n",
       "        text-align: right;\n",
       "    }\n",
       "</style>\n",
       "<table border=\"1\" class=\"dataframe\">\n",
       "  <thead>\n",
       "    <tr style=\"text-align: right;\">\n",
       "      <th></th>\n",
       "      <th>PhraseId</th>\n",
       "      <th>Sentiment</th>\n",
       "    </tr>\n",
       "  </thead>\n",
       "  <tbody>\n",
       "    <tr>\n",
       "      <th>0</th>\n",
       "      <td>156061</td>\n",
       "      <td>2</td>\n",
       "    </tr>\n",
       "    <tr>\n",
       "      <th>1</th>\n",
       "      <td>156062</td>\n",
       "      <td>2</td>\n",
       "    </tr>\n",
       "    <tr>\n",
       "      <th>2</th>\n",
       "      <td>156063</td>\n",
       "      <td>2</td>\n",
       "    </tr>\n",
       "    <tr>\n",
       "      <th>3</th>\n",
       "      <td>156064</td>\n",
       "      <td>2</td>\n",
       "    </tr>\n",
       "    <tr>\n",
       "      <th>4</th>\n",
       "      <td>156065</td>\n",
       "      <td>2</td>\n",
       "    </tr>\n",
       "    <tr>\n",
       "      <th>...</th>\n",
       "      <td>...</td>\n",
       "      <td>...</td>\n",
       "    </tr>\n",
       "    <tr>\n",
       "      <th>66287</th>\n",
       "      <td>181819</td>\n",
       "      <td>2</td>\n",
       "    </tr>\n",
       "    <tr>\n",
       "      <th>66288</th>\n",
       "      <td>183106</td>\n",
       "      <td>2</td>\n",
       "    </tr>\n",
       "    <tr>\n",
       "      <th>66289</th>\n",
       "      <td>184922</td>\n",
       "      <td>2</td>\n",
       "    </tr>\n",
       "    <tr>\n",
       "      <th>66290</th>\n",
       "      <td>214095</td>\n",
       "      <td>2</td>\n",
       "    </tr>\n",
       "    <tr>\n",
       "      <th>66291</th>\n",
       "      <td>215592</td>\n",
       "      <td>2</td>\n",
       "    </tr>\n",
       "  </tbody>\n",
       "</table>\n",
       "<p>66292 rows × 2 columns</p>\n",
       "</div>"
      ],
      "text/plain": [
       "       PhraseId  Sentiment\n",
       "0        156061          2\n",
       "1        156062          2\n",
       "2        156063          2\n",
       "3        156064          2\n",
       "4        156065          2\n",
       "...         ...        ...\n",
       "66287    181819          2\n",
       "66288    183106          2\n",
       "66289    184922          2\n",
       "66290    214095          2\n",
       "66291    215592          2\n",
       "\n",
       "[66292 rows x 2 columns]"
      ]
     },
     "execution_count": 45,
     "metadata": {},
     "output_type": "execute_result"
    }
   ],
   "source": [
    "submission_df"
   ]
  },
  {
   "cell_type": "code",
   "execution_count": 46,
   "id": "ee2b615d",
   "metadata": {
    "execution": {
     "iopub.execute_input": "2024-05-20T13:15:54.843135Z",
     "iopub.status.busy": "2024-05-20T13:15:54.842581Z",
     "iopub.status.idle": "2024-05-20T13:15:54.852583Z",
     "shell.execute_reply": "2024-05-20T13:15:54.851724Z"
    },
    "papermill": {
     "duration": 0.055568,
     "end_time": "2024-05-20T13:15:54.854491",
     "exception": false,
     "start_time": "2024-05-20T13:15:54.798923",
     "status": "completed"
    },
    "tags": []
   },
   "outputs": [
    {
     "name": "stdout",
     "output_type": "stream",
     "text": [
      "Sentiment\n",
      "2    45591\n",
      "3    11454\n",
      "1     8502\n",
      "0      411\n",
      "4      334\n",
      "Name: count, dtype: int64\n"
     ]
    }
   ],
   "source": [
    "sentiment_counts = submission_df['Sentiment'].value_counts()\n",
    "print(sentiment_counts)"
   ]
  }
 ],
 "metadata": {
  "kaggle": {
   "accelerator": "gpu",
   "dataSources": [
    {
     "databundleVersionId": 32092,
     "sourceId": 3810,
     "sourceType": "competition"
    },
    {
     "datasetId": 5048203,
     "sourceId": 8467136,
     "sourceType": "datasetVersion"
    }
   ],
   "dockerImageVersionId": 30698,
   "isGpuEnabled": true,
   "isInternetEnabled": true,
   "language": "python",
   "sourceType": "notebook"
  },
  "kernelspec": {
   "display_name": "Python 3",
   "language": "python",
   "name": "python3"
  },
  "language_info": {
   "codemirror_mode": {
    "name": "ipython",
    "version": 3
   },
   "file_extension": ".py",
   "mimetype": "text/x-python",
   "name": "python",
   "nbconvert_exporter": "python",
   "pygments_lexer": "ipython3",
   "version": "3.10.13"
  },
  "papermill": {
   "default_parameters": {},
   "duration": 594.329737,
   "end_time": "2024-05-20T13:15:57.516431",
   "environment_variables": {},
   "exception": null,
   "input_path": "__notebook__.ipynb",
   "output_path": "__notebook__.ipynb",
   "parameters": {},
   "start_time": "2024-05-20T13:06:03.186694",
   "version": "2.5.0"
  }
 },
 "nbformat": 4,
 "nbformat_minor": 5
}
